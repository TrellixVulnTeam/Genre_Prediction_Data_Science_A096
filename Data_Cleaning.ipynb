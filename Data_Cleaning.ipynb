{
 "cells": [
  {
   "cell_type": "code",
   "execution_count": 1,
   "metadata": {
    "collapsed": true
   },
   "outputs": [],
   "source": [
    "import pandas as pd\n",
    "import numpy as np\n",
    "import json\n",
    "from music_features import get_features\n",
    "import re\n"
   ]
  },
  {
   "cell_type": "code",
   "execution_count": 2,
   "outputs": [],
   "source": [
    "df = pd.read_csv(\"df.csv\",index_col=0)"
   ],
   "metadata": {
    "collapsed": false,
    "pycharm": {
     "name": "#%%\n"
    }
   }
  },
  {
   "cell_type": "code",
   "execution_count": 3,
   "outputs": [
    {
     "data": {
      "text/plain": "        Genre                                  Title        Artist\n0        rock                         Into The Storm        Gojira\n1        rock                   The Sound of Silence     Disturbed\n2        rock                               Amazonia        Gojira\n3        rock                          Back In Black         AC/DC\n4        rock                          Another World        Gojira\n...       ...                                    ...           ...\n19195  hiphop            Lyrical Gangbang [Explicit]       Dr. Dre\n19196  hiphop             Just Like Candy [Explicit]  8-Ball & MJG\n19197  hiphop  Beta (feat. Brandon With TTP) (Remix)   Tyson James\n19198  hiphop                    Kamikaze [Explicit]        Eminem\n19199  hiphop              Can't Truss It [Explicit]  Public Enemy\n\n[19200 rows x 3 columns]",
      "text/html": "<div>\n<style scoped>\n    .dataframe tbody tr th:only-of-type {\n        vertical-align: middle;\n    }\n\n    .dataframe tbody tr th {\n        vertical-align: top;\n    }\n\n    .dataframe thead th {\n        text-align: right;\n    }\n</style>\n<table border=\"1\" class=\"dataframe\">\n  <thead>\n    <tr style=\"text-align: right;\">\n      <th></th>\n      <th>Genre</th>\n      <th>Title</th>\n      <th>Artist</th>\n    </tr>\n  </thead>\n  <tbody>\n    <tr>\n      <th>0</th>\n      <td>rock</td>\n      <td>Into The Storm</td>\n      <td>Gojira</td>\n    </tr>\n    <tr>\n      <th>1</th>\n      <td>rock</td>\n      <td>The Sound of Silence</td>\n      <td>Disturbed</td>\n    </tr>\n    <tr>\n      <th>2</th>\n      <td>rock</td>\n      <td>Amazonia</td>\n      <td>Gojira</td>\n    </tr>\n    <tr>\n      <th>3</th>\n      <td>rock</td>\n      <td>Back In Black</td>\n      <td>AC/DC</td>\n    </tr>\n    <tr>\n      <th>4</th>\n      <td>rock</td>\n      <td>Another World</td>\n      <td>Gojira</td>\n    </tr>\n    <tr>\n      <th>...</th>\n      <td>...</td>\n      <td>...</td>\n      <td>...</td>\n    </tr>\n    <tr>\n      <th>19195</th>\n      <td>hiphop</td>\n      <td>Lyrical Gangbang [Explicit]</td>\n      <td>Dr. Dre</td>\n    </tr>\n    <tr>\n      <th>19196</th>\n      <td>hiphop</td>\n      <td>Just Like Candy [Explicit]</td>\n      <td>8-Ball &amp; MJG</td>\n    </tr>\n    <tr>\n      <th>19197</th>\n      <td>hiphop</td>\n      <td>Beta (feat. Brandon With TTP) (Remix)</td>\n      <td>Tyson James</td>\n    </tr>\n    <tr>\n      <th>19198</th>\n      <td>hiphop</td>\n      <td>Kamikaze [Explicit]</td>\n      <td>Eminem</td>\n    </tr>\n    <tr>\n      <th>19199</th>\n      <td>hiphop</td>\n      <td>Can't Truss It [Explicit]</td>\n      <td>Public Enemy</td>\n    </tr>\n  </tbody>\n</table>\n<p>19200 rows × 3 columns</p>\n</div>"
     },
     "execution_count": 3,
     "metadata": {},
     "output_type": "execute_result"
    }
   ],
   "source": [
    "df"
   ],
   "metadata": {
    "collapsed": false,
    "pycharm": {
     "name": "#%%\n"
    }
   }
  },
  {
   "cell_type": "code",
   "execution_count": 4,
   "outputs": [
    {
     "data": {
      "text/plain": "\"\\nTO-DO LIST:\\n1) Explicit songs are label as [Explicit] in the title\\n.   I'll create column for Explicit or not and get rid of it in the title.\\n2) Some songe has '(feat..)' and '(Remix)' which is not necessary.\\n3) Lower case all columns and remove whitespaces.\\n4) Drop duplicates.\\n5) Use 'get_features' to get music data about the songs.\\n6) Drop NaN values\\n7) Getting the lyrics for the remaining songs.\\n8) Cleaning up the lyrics\\n\""
     },
     "execution_count": 4,
     "metadata": {},
     "output_type": "execute_result"
    }
   ],
   "source": [
    "\"\"\"\n",
    "TO-DO LIST:\n",
    "1) Explicit songs are label as [Explicit] in the title\n",
    ".   I'll create column for Explicit or not and get rid of it in the title.\n",
    "2) Some songe has '(feat..)' and '(Remix)' which is not necessary.\n",
    "3) Lower case all columns and remove whitespaces.\n",
    "4) Drop duplicates.\n",
    "5) Use 'get_features' to get music data about the songs.\n",
    "6) Drop NaN values\n",
    "7) Getting the lyrics for the remaining songs.\n",
    "8) Cleaning up the lyrics\n",
    "\"\"\""
   ],
   "metadata": {
    "collapsed": false,
    "pycharm": {
     "name": "#%%\n"
    }
   }
  },
  {
   "cell_type": "code",
   "execution_count": 5,
   "outputs": [],
   "source": [
    "# 1.\n",
    "df[\"Explicit\"] = df.Title.apply(lambda x: True if \"Explicit\" in x else False)"
   ],
   "metadata": {
    "collapsed": false,
    "pycharm": {
     "name": "#%%\n"
    }
   }
  },
  {
   "cell_type": "code",
   "execution_count": 6,
   "outputs": [
    {
     "data": {
      "text/plain": "        Genre                                  Title        Artist  Explicit\n0        rock                         Into The Storm        Gojira     False\n1        rock                   The Sound of Silence     Disturbed     False\n2        rock                               Amazonia        Gojira     False\n3        rock                          Back In Black         AC/DC     False\n4        rock                          Another World        Gojira     False\n...       ...                                    ...           ...       ...\n19195  hiphop            Lyrical Gangbang [Explicit]       Dr. Dre      True\n19196  hiphop             Just Like Candy [Explicit]  8-Ball & MJG      True\n19197  hiphop  Beta (feat. Brandon With TTP) (Remix)   Tyson James     False\n19198  hiphop                    Kamikaze [Explicit]        Eminem      True\n19199  hiphop              Can't Truss It [Explicit]  Public Enemy      True\n\n[19200 rows x 4 columns]",
      "text/html": "<div>\n<style scoped>\n    .dataframe tbody tr th:only-of-type {\n        vertical-align: middle;\n    }\n\n    .dataframe tbody tr th {\n        vertical-align: top;\n    }\n\n    .dataframe thead th {\n        text-align: right;\n    }\n</style>\n<table border=\"1\" class=\"dataframe\">\n  <thead>\n    <tr style=\"text-align: right;\">\n      <th></th>\n      <th>Genre</th>\n      <th>Title</th>\n      <th>Artist</th>\n      <th>Explicit</th>\n    </tr>\n  </thead>\n  <tbody>\n    <tr>\n      <th>0</th>\n      <td>rock</td>\n      <td>Into The Storm</td>\n      <td>Gojira</td>\n      <td>False</td>\n    </tr>\n    <tr>\n      <th>1</th>\n      <td>rock</td>\n      <td>The Sound of Silence</td>\n      <td>Disturbed</td>\n      <td>False</td>\n    </tr>\n    <tr>\n      <th>2</th>\n      <td>rock</td>\n      <td>Amazonia</td>\n      <td>Gojira</td>\n      <td>False</td>\n    </tr>\n    <tr>\n      <th>3</th>\n      <td>rock</td>\n      <td>Back In Black</td>\n      <td>AC/DC</td>\n      <td>False</td>\n    </tr>\n    <tr>\n      <th>4</th>\n      <td>rock</td>\n      <td>Another World</td>\n      <td>Gojira</td>\n      <td>False</td>\n    </tr>\n    <tr>\n      <th>...</th>\n      <td>...</td>\n      <td>...</td>\n      <td>...</td>\n      <td>...</td>\n    </tr>\n    <tr>\n      <th>19195</th>\n      <td>hiphop</td>\n      <td>Lyrical Gangbang [Explicit]</td>\n      <td>Dr. Dre</td>\n      <td>True</td>\n    </tr>\n    <tr>\n      <th>19196</th>\n      <td>hiphop</td>\n      <td>Just Like Candy [Explicit]</td>\n      <td>8-Ball &amp; MJG</td>\n      <td>True</td>\n    </tr>\n    <tr>\n      <th>19197</th>\n      <td>hiphop</td>\n      <td>Beta (feat. Brandon With TTP) (Remix)</td>\n      <td>Tyson James</td>\n      <td>False</td>\n    </tr>\n    <tr>\n      <th>19198</th>\n      <td>hiphop</td>\n      <td>Kamikaze [Explicit]</td>\n      <td>Eminem</td>\n      <td>True</td>\n    </tr>\n    <tr>\n      <th>19199</th>\n      <td>hiphop</td>\n      <td>Can't Truss It [Explicit]</td>\n      <td>Public Enemy</td>\n      <td>True</td>\n    </tr>\n  </tbody>\n</table>\n<p>19200 rows × 4 columns</p>\n</div>"
     },
     "execution_count": 6,
     "metadata": {},
     "output_type": "execute_result"
    }
   ],
   "source": [
    "df\n",
    "#looking good\n",
    "# Done with 1."
   ],
   "metadata": {
    "collapsed": false,
    "pycharm": {
     "name": "#%%\n"
    }
   }
  },
  {
   "cell_type": "code",
   "execution_count": 7,
   "outputs": [],
   "source": [
    "pattern = r'\\[.*?\\]' # remove '[]' and it's content.\n",
    "df.Title=df.Title.apply(lambda x: re.sub(pattern, '', x))"
   ],
   "metadata": {
    "collapsed": false,
    "pycharm": {
     "name": "#%%\n"
    }
   }
  },
  {
   "cell_type": "code",
   "execution_count": 8,
   "outputs": [
    {
     "data": {
      "text/plain": "        Genre                                            Title  \\\n164      rock     Song of Women (feat. Lzzy Hale of Halestorm)   \n173      rock  Wolf Totem (feat. Jacoby Shaddix of Papa Roach)   \n454      rock                White Room (feat. Jacoby Shaddix)   \n482      rock      Remember the Name (feat. Styles of Beyond)    \n558      rock                   Save You (feat. Redlight King)   \n...       ...                                              ...   \n19163  hiphop                   Do It Like You (feat. Jeremih)   \n19170  hiphop                     All the Above (feat. T-Pain)   \n19176  hiphop                     Red Pill (feat. Bryson Gray)   \n19183  hiphop              Hopeless Romantic (feat. Swae Lee)    \n19197  hiphop            Beta (feat. Brandon With TTP) (Remix)   \n\n                                         Artist  Explicit  \n164    The HU and Lzzy Hale featuring Halestorm     False  \n173                 The HU featuring Papa Roach     False  \n454                                Apocalyptica     False  \n482                                  Fort Minor      True  \n558                                    Manafest     False  \n...                                         ...       ...  \n19163                                     Diggy     False  \n19170                                     Maino     False  \n19176                               Tyson James     False  \n19183                               Wiz Khalifa      True  \n19197                               Tyson James     False  \n\n[681 rows x 4 columns]",
      "text/html": "<div>\n<style scoped>\n    .dataframe tbody tr th:only-of-type {\n        vertical-align: middle;\n    }\n\n    .dataframe tbody tr th {\n        vertical-align: top;\n    }\n\n    .dataframe thead th {\n        text-align: right;\n    }\n</style>\n<table border=\"1\" class=\"dataframe\">\n  <thead>\n    <tr style=\"text-align: right;\">\n      <th></th>\n      <th>Genre</th>\n      <th>Title</th>\n      <th>Artist</th>\n      <th>Explicit</th>\n    </tr>\n  </thead>\n  <tbody>\n    <tr>\n      <th>164</th>\n      <td>rock</td>\n      <td>Song of Women (feat. Lzzy Hale of Halestorm)</td>\n      <td>The HU and Lzzy Hale featuring Halestorm</td>\n      <td>False</td>\n    </tr>\n    <tr>\n      <th>173</th>\n      <td>rock</td>\n      <td>Wolf Totem (feat. Jacoby Shaddix of Papa Roach)</td>\n      <td>The HU featuring Papa Roach</td>\n      <td>False</td>\n    </tr>\n    <tr>\n      <th>454</th>\n      <td>rock</td>\n      <td>White Room (feat. Jacoby Shaddix)</td>\n      <td>Apocalyptica</td>\n      <td>False</td>\n    </tr>\n    <tr>\n      <th>482</th>\n      <td>rock</td>\n      <td>Remember the Name (feat. Styles of Beyond)</td>\n      <td>Fort Minor</td>\n      <td>True</td>\n    </tr>\n    <tr>\n      <th>558</th>\n      <td>rock</td>\n      <td>Save You (feat. Redlight King)</td>\n      <td>Manafest</td>\n      <td>False</td>\n    </tr>\n    <tr>\n      <th>...</th>\n      <td>...</td>\n      <td>...</td>\n      <td>...</td>\n      <td>...</td>\n    </tr>\n    <tr>\n      <th>19163</th>\n      <td>hiphop</td>\n      <td>Do It Like You (feat. Jeremih)</td>\n      <td>Diggy</td>\n      <td>False</td>\n    </tr>\n    <tr>\n      <th>19170</th>\n      <td>hiphop</td>\n      <td>All the Above (feat. T-Pain)</td>\n      <td>Maino</td>\n      <td>False</td>\n    </tr>\n    <tr>\n      <th>19176</th>\n      <td>hiphop</td>\n      <td>Red Pill (feat. Bryson Gray)</td>\n      <td>Tyson James</td>\n      <td>False</td>\n    </tr>\n    <tr>\n      <th>19183</th>\n      <td>hiphop</td>\n      <td>Hopeless Romantic (feat. Swae Lee)</td>\n      <td>Wiz Khalifa</td>\n      <td>True</td>\n    </tr>\n    <tr>\n      <th>19197</th>\n      <td>hiphop</td>\n      <td>Beta (feat. Brandon With TTP) (Remix)</td>\n      <td>Tyson James</td>\n      <td>False</td>\n    </tr>\n  </tbody>\n</table>\n<p>681 rows × 4 columns</p>\n</div>"
     },
     "execution_count": 8,
     "metadata": {},
     "output_type": "execute_result"
    }
   ],
   "source": [
    "#lets look and few occurences that it happens in\n",
    "df[df.Title.str.contains(\"feat\")]"
   ],
   "metadata": {
    "collapsed": false,
    "pycharm": {
     "name": "#%%\n"
    }
   }
  },
  {
   "cell_type": "code",
   "execution_count": 9,
   "outputs": [],
   "source": [
    "pattern = r'\\(.*?\\)' # remove '()' and it's content.\n",
    "df.Title=df.Title.apply(lambda x: re.sub(pattern, '', x))\n",
    "#done with 2."
   ],
   "metadata": {
    "collapsed": false,
    "pycharm": {
     "name": "#%%\n"
    }
   }
  },
  {
   "cell_type": "code",
   "execution_count": 10,
   "outputs": [],
   "source": [
    "# 3\n",
    "df.Title=df.Title.apply(lambda x: x.strip())"
   ],
   "metadata": {
    "collapsed": false,
    "pycharm": {
     "name": "#%%\n"
    }
   }
  },
  {
   "cell_type": "code",
   "execution_count": 11,
   "outputs": [],
   "source": [
    "df.Title=df.Title.apply(lambda x: x.lower())\n",
    "#dont with 3"
   ],
   "metadata": {
    "collapsed": false,
    "pycharm": {
     "name": "#%%\n"
    }
   }
  },
  {
   "cell_type": "code",
   "execution_count": 12,
   "outputs": [
    {
     "data": {
      "text/plain": "False    11403\nTrue      7797\ndtype: int64"
     },
     "execution_count": 12,
     "metadata": {},
     "output_type": "execute_result"
    }
   ],
   "source": [
    "#4\n",
    "df.duplicated(subset=[\"Title\"]).value_counts() #7797 duplicates"
   ],
   "metadata": {
    "collapsed": false,
    "pycharm": {
     "name": "#%%\n"
    }
   }
  },
  {
   "cell_type": "code",
   "execution_count": 13,
   "outputs": [],
   "source": [
    "df.drop_duplicates(subset=[\"Title\"],inplace=True,ignore_index=True)\n",
    "#done with 4\n",
    "\n"
   ],
   "metadata": {
    "collapsed": false,
    "pycharm": {
     "name": "#%%\n"
    }
   }
  },
  {
   "cell_type": "code",
   "execution_count": 14,
   "outputs": [
    {
     "data": {
      "text/plain": "        Genre                 Title        Artist  Explicit\n0        rock        into the storm        Gojira     False\n1        rock  the sound of silence     Disturbed     False\n2        rock              amazonia        Gojira     False\n3        rock         back in black         AC/DC     False\n4        rock         another world        Gojira     False\n...       ...                   ...           ...       ...\n11398  hiphop           let me know       Cam'Ron      True\n11399  hiphop      lyrical gangbang       Dr. Dre      True\n11400  hiphop       just like candy  8-Ball & MJG      True\n11401  hiphop                  beta   Tyson James     False\n11402  hiphop        can't truss it  Public Enemy      True\n\n[11403 rows x 4 columns]",
      "text/html": "<div>\n<style scoped>\n    .dataframe tbody tr th:only-of-type {\n        vertical-align: middle;\n    }\n\n    .dataframe tbody tr th {\n        vertical-align: top;\n    }\n\n    .dataframe thead th {\n        text-align: right;\n    }\n</style>\n<table border=\"1\" class=\"dataframe\">\n  <thead>\n    <tr style=\"text-align: right;\">\n      <th></th>\n      <th>Genre</th>\n      <th>Title</th>\n      <th>Artist</th>\n      <th>Explicit</th>\n    </tr>\n  </thead>\n  <tbody>\n    <tr>\n      <th>0</th>\n      <td>rock</td>\n      <td>into the storm</td>\n      <td>Gojira</td>\n      <td>False</td>\n    </tr>\n    <tr>\n      <th>1</th>\n      <td>rock</td>\n      <td>the sound of silence</td>\n      <td>Disturbed</td>\n      <td>False</td>\n    </tr>\n    <tr>\n      <th>2</th>\n      <td>rock</td>\n      <td>amazonia</td>\n      <td>Gojira</td>\n      <td>False</td>\n    </tr>\n    <tr>\n      <th>3</th>\n      <td>rock</td>\n      <td>back in black</td>\n      <td>AC/DC</td>\n      <td>False</td>\n    </tr>\n    <tr>\n      <th>4</th>\n      <td>rock</td>\n      <td>another world</td>\n      <td>Gojira</td>\n      <td>False</td>\n    </tr>\n    <tr>\n      <th>...</th>\n      <td>...</td>\n      <td>...</td>\n      <td>...</td>\n      <td>...</td>\n    </tr>\n    <tr>\n      <th>11398</th>\n      <td>hiphop</td>\n      <td>let me know</td>\n      <td>Cam'Ron</td>\n      <td>True</td>\n    </tr>\n    <tr>\n      <th>11399</th>\n      <td>hiphop</td>\n      <td>lyrical gangbang</td>\n      <td>Dr. Dre</td>\n      <td>True</td>\n    </tr>\n    <tr>\n      <th>11400</th>\n      <td>hiphop</td>\n      <td>just like candy</td>\n      <td>8-Ball &amp; MJG</td>\n      <td>True</td>\n    </tr>\n    <tr>\n      <th>11401</th>\n      <td>hiphop</td>\n      <td>beta</td>\n      <td>Tyson James</td>\n      <td>False</td>\n    </tr>\n    <tr>\n      <th>11402</th>\n      <td>hiphop</td>\n      <td>can't truss it</td>\n      <td>Public Enemy</td>\n      <td>True</td>\n    </tr>\n  </tbody>\n</table>\n<p>11403 rows × 4 columns</p>\n</div>"
     },
     "execution_count": 14,
     "metadata": {},
     "output_type": "execute_result"
    }
   ],
   "source": [
    "df"
   ],
   "metadata": {
    "collapsed": false,
    "pycharm": {
     "name": "#%%\n"
    }
   }
  },
  {
   "cell_type": "code",
   "execution_count": 15,
   "outputs": [],
   "source": [
    "#5, Save the current df into JSON file. send it to the function which will overwrite the JSON\n",
    "filename=\"cleaned_df\"+\".json\"\n",
    "df.to_json(filename,orient=\"records\",indent=4)"
   ],
   "metadata": {
    "collapsed": false,
    "pycharm": {
     "name": "#%%\n"
    }
   }
  },
  {
   "cell_type": "code",
   "execution_count": 16,
   "outputs": [
    {
     "name": "stdout",
     "output_type": "stream",
     "text": [
      "Could not scrape for:  don’t back down\n",
      "Could not scrape for:  don’t back down\n",
      "Could not scrape for:  you’re to blame\n",
      "Could not scrape for:  you’re to blame\n",
      "Could not scrape for:  trouble’s coming\n",
      "Could not scrape for:  trouble’s coming\n",
      "Could not scrape for:  welcome to my house\n",
      "Could not scrape for:  welcome to my house\n",
      "Could not scrape for:  last resort\n",
      "Could not scrape for:  last resort\n",
      "Could not scrape for:  song of women\n",
      "Could not scrape for:  song of women\n",
      "Could not scrape for:  wolf totem\n",
      "Could not scrape for:  wolf totem\n",
      "Could not scrape for:  the thunder rolls\n",
      "Could not scrape for:  the thunder rolls\n",
      "Could not scrape for:  she’s a rainbow\n",
      "Could not scrape for:  she’s a rainbow\n",
      "Could not scrape for:  can you feel my heart\n",
      "Could not scrape for:  can you feel my heart\n",
      "Could not scrape for:  not strong enough\n",
      "Could not scrape for:  not strong enough\n",
      "Could not scrape for:  nothing else matters\n",
      "Could not scrape for:  nothing else matters\n",
      "Could not scrape for:  broken pieces\n",
      "Could not scrape for:  broken pieces\n",
      "Could not scrape for:  you've lost that lovin' feeling\n",
      "Could not scrape for:  you've lost that lovin' feeling\n",
      "Could not scrape for:  not alone\n",
      "Could not scrape for:  not alone\n",
      "Could not scrape for:  maybe i’m amazed\n",
      "Could not scrape for:  maybe i’m amazed\n",
      "Could not scrape for:  i don't care\n",
      "Could not scrape for:  i don't care\n",
      "Could not scrape for:  #1 crush\n",
      "Could not scrape for:  #1 crush\n",
      "Could not scrape for:  i'm not jesus\n",
      "Could not scrape for:  i'm not jesus\n",
      "Could not scrape for:  burning down one side\n",
      "Could not scrape for:  burning down one side\n",
      "Could not scrape for:  white queen\n",
      "Could not scrape for:  baby please don’t go\n",
      "Could not scrape for:  saturday night’s alright\n",
      "Could not scrape for:  saturday night’s alright\n",
      "Could not scrape for:  no leaf clover\n",
      "Could not scrape for:  no leaf clover\n",
      "Could not scrape for:  broken as me\n",
      "Could not scrape for:  broken as me\n",
      "Could not scrape for:  babylon ii\n",
      "Could not scrape for:  babylon ii\n",
      "Could not scrape for:  press in your presence\n",
      "Could not scrape for:  press in your presence\n",
      "Could not scrape for:  garden party\n",
      "Could not scrape for:  garden party\n",
      "Could not scrape for:  don't stop at the top\n",
      "Could not scrape for:  don't stop at the top\n",
      "Could not scrape for:  lovely\n",
      "Could not scrape for:  lovely\n",
      "Could not scrape for:  c’mon everybody\n",
      "Could not scrape for:  c’mon everybody\n",
      "Could not scrape for:  all by myself\n",
      "Could not scrape for:  all by myself\n",
      "Could not scrape for:  all within my hands\n",
      "Could not scrape for:  all within my hands\n",
      "Could not scrape for:  100%\n",
      "Could not scrape for:  100%\n",
      "Could not scrape for:  country side of life\n",
      "Could not scrape for:  country side of life\n",
      "Could not scrape for:  sonho dourado\n",
      "Could not scrape for:  sonho dourado\n",
      "Could not scrape for:  let me be the one\n",
      "Could not scrape for:  let me be the one\n",
      "Could not scrape for:  justify\n",
      "Could not scrape for:  justify\n",
      "Could not scrape for:  girl like me\n",
      "Could not scrape for:  girl like me\n",
      "Could not scrape for:  savage love\n",
      "Could not scrape for:  savage love\n",
      "Could not scrape for:  100% pure love\n",
      "Could not scrape for:  100% pure love\n",
      "Could not scrape for:  fallin’\n",
      "Could not scrape for:  fallin’\n",
      "Could not scrape for:  villain\n",
      "Could not scrape for:  villain\n",
      "Could not scrape for:  die mf die\n",
      "Could not scrape for:  die mf die\n",
      "Could not scrape for:  the baddest\n",
      "Could not scrape for:  the baddest\n",
      "Could not scrape for:  everybody's free\n",
      "Could not scrape for:  everybody's free\n",
      "Could not scrape for:  can’t help falling in love\n",
      "Could not scrape for:  can’t help falling in love\n",
      "Could not scrape for:  big\n",
      "Could not scrape for:  big\n",
      "Could not scrape for:  warriors\n",
      "Could not scrape for:  warriors\n",
      "Could not scrape for:  it’s gonna be a lovely day\n",
      "Could not scrape for:  it’s gonna be a lovely day\n",
      "Could not scrape for:  take a hint\n",
      "Could not scrape for:  take a hint\n",
      "Could not scrape for:  tell me when it’s over\n",
      "Could not scrape for:  tell me when it’s over\n",
      "Could not scrape for:  start of something new\n",
      "Could not scrape for:  start of something new\n",
      "Could not scrape for:  good morning, beautiful\n",
      "Could not scrape for:  good morning, beautiful\n",
      "Could not scrape for:  eres para mí\n",
      "Could not scrape for:  eres para mí\n",
      "Could not scrape for:  ain't nothing gonna keep me from you\n",
      "Could not scrape for:  ain't nothing gonna keep me from you\n",
      "Could not scrape for:  i belong to you\n",
      "Could not scrape for:  i belong to you\n",
      "Could not scrape for:  #41\n",
      "Could not scrape for:  #41\n",
      "Could not scrape for:  ritmo\n",
      "Could not scrape for:  ritmo\n",
      "Could not scrape for:  you'll be on my mind\n",
      "Could not scrape for:  you'll be on my mind\n",
      "Could not scrape for:  no mañana\n",
      "Could not scrape for:  no mañana\n",
      "Could not scrape for:  friend medley: stand by me / lean on me / time after time / i’ll be there for you\n",
      "Could not scrape for:  friend medley: stand by me / lean on me / time after time / i’ll be there for you\n",
      "Could not scrape for:  experience\n",
      "Could not scrape for:  experience\n",
      "Could not scrape for:  the godfather waltz\n",
      "Could not scrape for:  the godfather waltz\n",
      "Could not scrape for:  where evil grows\n",
      "Could not scrape for:  where evil grows\n",
      "Could not scrape for:  feel the beat\n",
      "Could not scrape for:  feel the beat\n",
      "Could not scrape for:  history repeating\n",
      "Could not scrape for:  history repeating\n",
      "Could not scrape for:  you’ve got a friend\n",
      "Could not scrape for:  you’ve got a friend\n",
      "Could not scrape for:  school shooters\n",
      "Could not scrape for:  school shooters\n",
      "Could not scrape for:  şımarık\n",
      "Could not scrape for:  şımarık\n",
      "Could not scrape for:  ave maria\n",
      "Could not scrape for:  got me waiting\n",
      "Could not scrape for:  little miss perfect\n",
      "Could not scrape for:  little miss perfect\n",
      "Could not scrape for:  love not war\n",
      "Could not scrape for:  love not war\n",
      "Could not scrape for:  i won't stop loving you\n",
      "Could not scrape for:  i won't stop loving you\n",
      "Could not scrape for:  otro trago\n",
      "Could not scrape for:  otro trago\n",
      "Could not scrape for:  it's everyday bro\n",
      "Could not scrape for:  it's everyday bro\n",
      "Could not scrape for:  patron tequila\n",
      "Could not scrape for:  patron tequila\n",
      "Could not scrape for:  rings\n",
      "Could not scrape for:  rings\n",
      "Could not scrape for:  the ballad of the green berets\n",
      "Could not scrape for:  what’s your country song\n",
      "Could not scrape for:  i hope you’re happy now\n",
      "Could not scrape for:  i hope you’re happy now\n",
      "Could not scrape for:  she ain’t mine no more\n",
      "Could not scrape for:  she ain’t mine no more\n",
      "Could not scrape for:  cold beer calling my name\n",
      "Could not scrape for:  cold beer calling my name\n",
      "Could not scrape for:  beer can’t fix\n",
      "Could not scrape for:  beer can’t fix\n",
      "Could not scrape for:  that’s when\n",
      "Could not scrape for:  that’s when\n",
      "Could not scrape for:  better than you’re used to\n",
      "Could not scrape for:  better than you’re used to\n",
      "Could not scrape for:  polyester\n",
      "Could not scrape for:  polyester\n",
      "Could not scrape for:  somethin' bad )\n",
      "Could not scrape for:  somethin' bad )\n",
      "Could not scrape for:  what's your country song\n",
      "Could not scrape for:  what's your country song\n",
      "Could not scrape for:  lead me home\n",
      "Could not scrape for:  lead me home\n",
      "Could not scrape for:  should’ve known better\n",
      "Could not scrape for:  should’ve known better\n",
      "Could not scrape for:  the ones that didn’t make it back home\n",
      "Could not scrape for:  the ones that didn’t make it back home\n",
      "Could not scrape for:  mississippi phone booth\n",
      "Could not scrape for:  mississippi phone booth\n",
      "Could not scrape for:  if it wasn’t for trucks\n",
      "Could not scrape for:  if it wasn’t for trucks\n",
      "Could not scrape for:  1, 2 many\n",
      "Could not scrape for:  1, 2 many\n",
      "Could not scrape for:  i would've loved you\n",
      "Could not scrape for:  i would've loved you\n",
      "Could not scrape for:  help is on the way\n",
      "Could not scrape for:  help is on the way\n",
      "Could not scrape for:  you’ll think of me\n",
      "Could not scrape for:  you’ll think of me\n",
      "Could not scrape for:  somebody’s problem\n",
      "Could not scrape for:  somebody’s problem\n",
      "Could not scrape for:  meet me in montana\n",
      "Could not scrape for:  meet me in montana\n",
      "Could not scrape for:  fall into you\n",
      "Could not scrape for:  fall into you\n",
      "Could not scrape for:  drivin’ around song\n",
      "Could not scrape for:  drivin’ around song\n",
      "Could not scrape for:  good times don’t\n",
      "Could not scrape for:  good times don’t\n",
      "Could not scrape for:  high-tech redneck\n",
      "Could not scrape for:  gulf coast girl\n",
      "Could not scrape for:  i know who holds tomorrow\n",
      "Could not scrape for:  i know who holds tomorrow\n",
      "Could not scrape for:  fire’t up\n",
      "Could not scrape for:  fire’t up\n",
      "Could not scrape for:  two brothers\n",
      "Could not scrape for:  two brothers\n",
      "Could not scrape for:  setting the night on fire\n",
      "Could not scrape for:  setting the night on fire\n",
      "Could not scrape for:  don’t let me be lonely\n",
      "Could not scrape for:  don’t let me be lonely\n",
      "Could not scrape for:  y’all boys\n",
      "Could not scrape for:  y’all boys\n",
      "Could not scrape for:  she don't know she's beautiful\n",
      "Could not scrape for:  she don't know she's beautiful\n",
      "Could not scrape for:  all in the same boat\n",
      "Could not scrape for:  all in the same boat\n",
      "Could not scrape for:  some things i know\n",
      "Could not scrape for:  some things i know\n",
      "Could not scrape for:  all the lilacs in ohio\n",
      "Could not scrape for:  all the lilacs in ohio\n",
      "Could not scrape for:  cheatin’ songs\n",
      "Could not scrape for:  cheatin’ songs\n",
      "Could not scrape for:  here with you\n",
      "Could not scrape for:  here with you\n",
      "Could not scrape for:  if heaven wasn’t so far away\n",
      "Could not scrape for:  if heaven wasn’t so far away\n",
      "Could not scrape for:  blue bonnets\n",
      "Could not scrape for:  blue bonnets\n",
      "Could not scrape for:  to find my love\n",
      "Could not scrape for:  to find my love\n",
      "Could not scrape for:  another man’s grave\n",
      "Could not scrape for:  another man’s grave\n",
      "Could not scrape for:  when we’re 80\n",
      "Could not scrape for:  when we’re 80\n",
      "Could not scrape for:  livin’ the dream\n",
      "Could not scrape for:  livin’ the dream\n",
      "Could not scrape for:  far side banks of jordan\n",
      "Could not scrape for:  far side banks of jordan\n",
      "Could not scrape for:  modern day romance\n",
      "Could not scrape for:  modern day romance\n",
      "Could not scrape for:  walkin’ after midnight\n",
      "Could not scrape for:  walkin’ after midnight\n",
      "Could not scrape for:  half moon rising\n",
      "Could not scrape for:  half moon rising\n",
      "Could not scrape for:  gasoline and matches\n",
      "Could not scrape for:  gasoline and matches\n",
      "Could not scrape for:  where corn don’t grow\n",
      "Could not scrape for:  where corn don’t grow\n",
      "Could not scrape for:  wonderin’ bout the wind\n",
      "Could not scrape for:  wonderin’ bout the wind\n",
      "Could not scrape for:  crackin’ cold ones with the boys\n",
      "Could not scrape for:  crackin’ cold ones with the boys\n",
      "Could not scrape for:  angel band\n",
      "Could not scrape for:  angel band\n",
      "Could not scrape for:  from this moment on / you’re still the one\n",
      "Could not scrape for:  from this moment on / you’re still the one\n",
      "Could not scrape for:  ozark mountain jubilee\n",
      "Could not scrape for:  ozark mountain jubilee\n",
      "Could not scrape for:  straight to hell”/“satan is real”- medley\n",
      "Could not scrape for:  straight to hell”/“satan is real”- medley\n",
      "Could not scrape for:  pukin' in the parking lot\n",
      "Could not scrape for:  pukin' in the parking lot\n",
      "Could not scrape for:  trip around the sun\n",
      "Could not scrape for:  trip around the sun\n",
      "Could not scrape for:  freiderick\n",
      "Could not scrape for:  freiderick\n",
      "Could not scrape for:  the way it was in `51\n",
      "Could not scrape for:  the way it was in `51\n",
      "Could not scrape for:  it’s not love\n",
      "Could not scrape for:  it’s not love\n",
      "Could not scrape for:  lighthouse keeper\n",
      "Could not scrape for:  lighthouse keeper\n",
      "Could not scrape for:  chick singer, badass rockin’\n",
      "Could not scrape for:  chick singer, badass rockin’\n",
      "Could not scrape for:  the big rock candy mountain\n",
      "Could not scrape for:  the big rock candy mountain\n",
      "Could not scrape for:  i'm the only hell my mama ever raised\n",
      "Could not scrape for:  i'm the only hell my mama ever raised\n",
      "Could not scrape for:  that’s my boy\n",
      "Could not scrape for:  that’s my boy\n",
      "Could not scrape for:  just any day now\n",
      "Could not scrape for:  just any day now\n",
      "Could not scrape for:  holding the other\n",
      "Could not scrape for:  holding the other\n",
      "Could not scrape for:  country a$$ shit\n",
      "Could not scrape for:  country a$$ shit\n",
      "Could not scrape for:  shut up about politics\n",
      "Could not scrape for:  shut up about politics\n",
      "Could not scrape for:  i’m a hellrazor\n",
      "Could not scrape for:  i’m a hellrazor\n",
      "Could not scrape for:  dirt road dollars\n",
      "Could not scrape for:  dirt road dollars\n",
      "Could not scrape for:  panbowl\n",
      "Could not scrape for:  panbowl\n",
      "Could not scrape for:  riders in the sky: a cowboy legend\n",
      "Could not scrape for:  riders in the sky: a cowboy legend\n",
      "Could not scrape for:  if i ever had to say goodbye to you\n",
      "Could not scrape for:  if i ever had to say goodbye to you\n",
      "Could not scrape for:  timing is everything\n",
      "Could not scrape for:  timing is everything\n",
      "Could not scrape for:  what i’m leaving for\n",
      "Could not scrape for:  what i’m leaving for\n",
      "Could not scrape for:  only thing that’s gone\n",
      "Could not scrape for:  only thing that’s gone\n",
      "Could not scrape for:  broken hearts\n",
      "Could not scrape for:  broken hearts\n",
      "Could not scrape for:  chocolate ice cream cone\n",
      "Could not scrape for:  chocolate ice cream cone\n",
      "Could not scrape for:  what’s next\n",
      "Could not scrape for:  what’s next\n",
      "Could not scrape for:  you’re mines still\n",
      "Could not scrape for:  you’re mines still\n",
      "Could not scrape for:  nuthin' but a \"g\" thang\n",
      "Could not scrape for:  nuthin' but a \"g\" thang\n",
      "Could not scrape for:  gin n juice\n",
      "Could not scrape for:  gin n juice\n",
      "Could not scrape for:  how do you want it\n",
      "Could not scrape for:  how do you want it\n",
      "Could not scrape for:  ballin’\n",
      "Could not scrape for:  ballin’\n",
      "Could not scrape for:  let me ride\n",
      "Could not scrape for:  let me ride\n",
      "Could not scrape for:  don’t matter to me\n",
      "Could not scrape for:  don’t matter to me\n",
      "Could not scrape for:  monster in my closet\n",
      "Could not scrape for:  monster in my closet\n",
      "Could not scrape for:  can't knock the hustle\n",
      "Could not scrape for:  can't knock the hustle\n",
      "Could not scrape for:  stand our ground\n",
      "Could not scrape for:  stand our ground\n",
      "Could not scrape for:  bitch, don’t kill my vibe\n",
      "Could not scrape for:  bitch, don’t kill my vibe\n",
      "Could not scrape for:  i against i\n",
      "Could not scrape for:  i against i\n",
      "Could not scrape for:  snap yo fingers\n",
      "Could not scrape for:  snap yo fingers\n",
      "Could not scrape for:  can we\n",
      "Could not scrape for:  can we\n",
      "Could not scrape for:  doggy dogg world\n",
      "Could not scrape for:  doggy dogg world\n",
      "Could not scrape for:  in jesus name\n",
      "Could not scrape for:  in jesus name\n",
      "Could not scrape for:  wipe me down  featuring foxx, webbie and lil boosie\n",
      "Could not scrape for:  wipe me down  featuring foxx, webbie and lil boosie\n",
      "Could not scrape for:  loyalty. ft. rihanna.\n",
      "Could not scrape for:  loyalty. ft. rihanna.\n",
      "Could not scrape for:  da dip - freak nasty\n",
      "Could not scrape for:  da dip - freak nasty\n",
      "Could not scrape for:  restored\n",
      "Could not scrape for:  restored\n",
      "Could not scrape for:  excuse my rudeness, but could you please rip?\n",
      "Could not scrape for:  excuse my rudeness, but could you please rip?\n",
      "Could not scrape for:  v5 - strike\n",
      "Could not scrape for:  v5 - strike\n",
      "Could not scrape for:  when i'm nothing\n",
      "Could not scrape for:  when i'm nothing\n",
      "Could not scrape for:  foreva\n",
      "Could not scrape for:  foreva\n",
      "Could not scrape for:  i think i can fly\n",
      "Could not scrape for:  i think i can fly\n",
      "Could not scrape for:  the patriot\n",
      "Could not scrape for:  the patriot\n",
      "Could not scrape for:  don’t stop\n",
      "Could not scrape for:  don’t stop\n",
      "Could not scrape for:  facts are racist\n",
      "Could not scrape for:  facts are racist\n",
      "Could not scrape for:  bi**h please\n",
      "Could not scrape for:  bi**h please\n",
      "Could not scrape for:  moana\n",
      "Could not scrape for:  moana\n",
      "Could not scrape for:  rico suave\n",
      "Could not scrape for:  rico suave\n",
      "Could not scrape for:  light work\n",
      "Could not scrape for:  light work\n",
      "Could not scrape for:  lodi dodi\n",
      "Could not scrape for:  lodi dodi\n",
      "Could not scrape for:  life\n",
      "Could not scrape for:  life\n",
      "Could not scrape for:  streiht up menace\n",
      "Could not scrape for:  streiht up menace\n",
      "Could not scrape for:  #!*@ you tonight\n",
      "Could not scrape for:  #!*@ you tonight\n",
      "Could not scrape for:  the gravy\n",
      "Could not scrape for:  the gravy\n",
      "Could not scrape for:  la fiesta\n",
      "Could not scrape for:  la fiesta\n",
      "Could not scrape for:  set me free\n",
      "Could not scrape for:  set me free\n",
      "Could not scrape for:  $outh $ide $uicide\n",
      "Could not scrape for:  $outh $ide $uicide\n",
      "Could not scrape for:  desperado slowed\n",
      "Could not scrape for:  desperado slowed\n",
      "Could not scrape for:  summo’\n",
      "Could not scrape for:  summo’\n",
      "Could not scrape for:  baby $hit\n",
      "Could not scrape for:  baby $hit\n",
      "Could not scrape for:  stroke me\n",
      "Could not scrape for:  stroke me\n",
      "Could not scrape for:  i look good\n",
      "Could not scrape for:  i look good\n",
      "Could not scrape for:  twin nem\n",
      "Could not scrape for:  twin nem\n",
      "Could not scrape for:  lolli lolli\n",
      "Could not scrape for:  lolli lolli\n",
      "Could not scrape for:  put her in the buck\n",
      "Could not scrape for:  put her in the buck\n",
      "Could not scrape for:  slob on my nob\n",
      "Could not scrape for:  slob on my nob\n",
      "Could not scrape for:  cereal\n",
      "Could not scrape for:  cereal\n",
      "Could not scrape for:  the way i see things\n",
      "Could not scrape for:  the way i see things\n",
      "Could not scrape for:  it's a shame\n",
      "Could not scrape for:  it's a shame\n",
      "Could not scrape for:  me so horny\n",
      "Could not scrape for:  me so horny\n",
      "Could not scrape for:  like this\n",
      "Could not scrape for:  like this\n",
      "Could not scrape for:  $ave dat money\n",
      "Could not scrape for:  $ave dat money\n",
      "Could not scrape for:  i got five on it remix\n",
      "Could not scrape for:  i got five on it remix\n",
      "Could not scrape for:  the art of storytellin part 4\n",
      "Could not scrape for:  the art of storytellin part 4\n",
      "Could not scrape for:  long live the champion\n",
      "Could not scrape for:  long live the champion\n",
      "Could not scrape for:  tic tac\n",
      "Could not scrape for:  tic tac\n",
      "Could not scrape for:  i rep that west\n",
      "Could not scrape for:  i rep that west\n",
      "Could not scrape for:  untitled 06 | 06.30.2014.\n",
      "Could not scrape for:  untitled 06 | 06.30.2014.\n",
      "Could not scrape for:  southside\n",
      "Could not scrape for:  southside\n",
      "Could not scrape for:  pablo de medellin\n",
      "Could not scrape for:  pablo de medellin\n",
      "Could not scrape for:  ante up\n",
      "Could not scrape for:  ante up\n",
      "Could not scrape for:  did it on’em\n",
      "Could not scrape for:  did it on’em\n",
      "Could not scrape for:  lookin boy\n",
      "Could not scrape for:  lookin boy\n",
      "Could not scrape for:  1995\n",
      "Could not scrape for:  1995\n",
      "Could not scrape for:  slow grind\n",
      "Could not scrape for:  slow grind\n",
      "Could not scrape for:  holy calamity\n",
      "Could not scrape for:  holy calamity\n",
      "Could not scrape for:  kevin’s heart\n",
      "Could not scrape for:  kevin’s heart\n",
      "Could not scrape for:  bibles in the air\n",
      "Could not scrape for:  bibles in the air\n",
      "Could not scrape for:  here, 2016\n",
      "Could not scrape for:  here, 2016\n",
      "Could not scrape for:  jesus loves me\n",
      "Could not scrape for:  jesus loves me\n",
      "Could not scrape for:  jukebox joints\n",
      "Could not scrape for:  jukebox joints\n",
      "Could not scrape for:  got my mind made up\n",
      "Could not scrape for:  got my mind made up\n",
      "Could not scrape for:  #twerkit\n",
      "Could not scrape for:  #twerkit\n",
      "Could not scrape for:  love. ft. zacari.\n",
      "Could not scrape for:  love. ft. zacari.\n",
      "Could not scrape for:  shibuya roll call\n",
      "Could not scrape for:  shibuya roll call\n",
      "Could not scrape for:  rush\n",
      "Could not scrape for:  rush\n",
      "Could not scrape for:  #1\n",
      "Could not scrape for:  #1\n",
      "Could not scrape for:  still 40 deep\n",
      "Could not scrape for:  still 40 deep\n",
      "Could not scrape for:  liberation\n",
      "Could not scrape for:  liberation\n",
      "Could not scrape for:  what’s new\n",
      "Could not scrape for:  what’s new\n",
      "Could not scrape for:  psychopath killer\n",
      "Could not scrape for:  psychopath killer\n",
      "Could not scrape for:  up now\n",
      "Could not scrape for:  up now\n",
      "Could not scrape for:  2 live is what we are…\n",
      "Could not scrape for:  2 live is what we are…\n",
      "Could not scrape for:  rinky dink ii / we're gonna rumble\n",
      "Could not scrape for:  rinky dink ii / we're gonna rumble\n",
      "Could not scrape for:  somebody's girl  )\n",
      "Could not scrape for:  somebody's girl  )\n",
      "Could not scrape for:  nothing even matters\n",
      "Could not scrape for:  nothing even matters\n",
      "Could not scrape for:  c'mon babe\n",
      "Could not scrape for:  c'mon babe\n",
      "Could not scrape for:  leaf wraps\n",
      "Could not scrape for:  leaf wraps\n",
      "Could not scrape for:  chill bill\n",
      "Could not scrape for:  chill bill\n",
      "Could not scrape for:  put jewels on it\n",
      "Could not scrape for:  put jewels on it\n",
      "Could not scrape for:  anxiety - inspired by tech n9ne\n",
      "Could not scrape for:  anxiety - inspired by tech n9ne\n",
      "Could not scrape for:  slide around\n",
      "Could not scrape for:  slide around\n",
      "Could not scrape for:  merry jane\n",
      "Could not scrape for:  merry jane\n",
      "Could not scrape for:  sucide note\n",
      "Could not scrape for:  sucide note\n",
      "Could not scrape for:  want it, need it\n",
      "Could not scrape for:  want it, need it\n",
      "Could not scrape for:  i don’t need you .wav\n",
      "Could not scrape for:  i don’t need you .wav\n",
      "Could not scrape for:  don’t cry\n",
      "Could not scrape for:  don’t cry\n",
      "Could not scrape for:  wheels up\n",
      "Could not scrape for:  wheels up\n",
      "Could not scrape for:  i'll take her\n",
      "Could not scrape for:  i'll take her\n",
      "Could not scrape for:  one year ago\n",
      "Could not scrape for:  one year ago\n",
      "Could not scrape for:  ladies first\n",
      "Could not scrape for:  ladies first\n",
      "Could not scrape for:  in my zone\n",
      "Could not scrape for:  in my zone\n",
      "Could not scrape for:  birthday chick\n",
      "Could not scrape for:  birthday chick\n",
      "Could not scrape for:  no cap shawty\n",
      "Could not scrape for:  no cap shawty\n",
      "Could not scrape for:  don’t drop that thun thun\n",
      "Could not scrape for:  don’t drop that thun thun\n",
      "Could not scrape for:  favorite song\n",
      "Could not scrape for:  favorite song\n",
      "Could not scrape for:  life ain't cool\n",
      "Could not scrape for:  life ain't cool\n",
      "Could not scrape for:  in the trunk\n",
      "Could not scrape for:  in the trunk\n",
      "Could not scrape for:  peruvian cocaine\n",
      "Could not scrape for:  peruvian cocaine\n",
      "Could not scrape for:  staring through my rearview\n",
      "Could not scrape for:  staring through my rearview\n",
      "Could not scrape for:  still my hero\n",
      "Could not scrape for:  still my hero\n",
      "Could not scrape for:  pull it\n",
      "Could not scrape for:  pull it\n",
      "Could not scrape for:  still don’t kno\n",
      "Could not scrape for:  still don’t kno\n"
     ]
    }
   ],
   "source": [
    "#the function returns list.\n",
    "songs=get_features(filename)\n",
    "#done with 5"
   ],
   "metadata": {
    "collapsed": false,
    "pycharm": {
     "name": "#%%\n"
    }
   }
  },
  {
   "cell_type": "code",
   "execution_count": 20,
   "outputs": [],
   "source": [
    "#6\n",
    "#droping NaN and formatting types\n",
    "df=pd.DataFrame(songs)\n",
    "df.dropna(inplace=True)\n",
    "#done with 6"
   ],
   "metadata": {
    "collapsed": false,
    "pycharm": {
     "name": "#%%\n"
    }
   }
  },
  {
   "cell_type": "code",
   "execution_count": 22,
   "outputs": [
    {
     "data": {
      "text/plain": "        Genre                 Title        Artist  Explicit Length Scale  \\\n0        rock        into the storm        Gojira     False  05:02     D   \n1        rock  the sound of silence     Disturbed     False  04:08    F#   \n2        rock              amazonia        Gojira     False  05:00     A   \n3        rock         back in black         AC/DC     False  04:15     A   \n4        rock         another world        Gojira     False  04:24     G   \n...       ...                   ...           ...       ...    ...   ...   \n11398  hiphop           let me know       Cam'Ron      True  04:14    F#   \n11399  hiphop      lyrical gangbang       Dr. Dre      True  04:04    F#   \n11400  hiphop       just like candy  8-Ball & MJG      True  04:19     G   \n11401  hiphop                  beta   Tyson James     False  03:54     G   \n11402  hiphop        can't truss it  Public Enemy      True  05:21     B   \n\n         Key  BPM Danceability Positiveness Liveness Energy speechness  \\\n0      Major  106           25           11       13     97          7   \n1      Minor   86           32           18       10     28          3   \n2      Major  182           38           51       24     95          4   \n3      Major  188           31           76        8     70          5   \n4      Minor  170           35           24       12     88          4   \n...      ...  ...          ...          ...      ...    ...        ...   \n11398  Major   92           75           69       35     79         33   \n11399  Major   81           82           68       13     83         27   \n11400  Major   95           68           39       13     72          8   \n11401  Major   89           73           58       28     57         45   \n11402  Major  102           80           61       13     87         14   \n\n      KeyScaled  \n0             D  \n1           F#m  \n2             A  \n3             A  \n4            Gm  \n...         ...  \n11398        F#  \n11399        F#  \n11400         G  \n11401         G  \n11402         B  \n\n[11130 rows x 14 columns]",
      "text/html": "<div>\n<style scoped>\n    .dataframe tbody tr th:only-of-type {\n        vertical-align: middle;\n    }\n\n    .dataframe tbody tr th {\n        vertical-align: top;\n    }\n\n    .dataframe thead th {\n        text-align: right;\n    }\n</style>\n<table border=\"1\" class=\"dataframe\">\n  <thead>\n    <tr style=\"text-align: right;\">\n      <th></th>\n      <th>Genre</th>\n      <th>Title</th>\n      <th>Artist</th>\n      <th>Explicit</th>\n      <th>Length</th>\n      <th>Scale</th>\n      <th>Key</th>\n      <th>BPM</th>\n      <th>Danceability</th>\n      <th>Positiveness</th>\n      <th>Liveness</th>\n      <th>Energy</th>\n      <th>speechness</th>\n      <th>KeyScaled</th>\n    </tr>\n  </thead>\n  <tbody>\n    <tr>\n      <th>0</th>\n      <td>rock</td>\n      <td>into the storm</td>\n      <td>Gojira</td>\n      <td>False</td>\n      <td>05:02</td>\n      <td>D</td>\n      <td>Major</td>\n      <td>106</td>\n      <td>25</td>\n      <td>11</td>\n      <td>13</td>\n      <td>97</td>\n      <td>7</td>\n      <td>D</td>\n    </tr>\n    <tr>\n      <th>1</th>\n      <td>rock</td>\n      <td>the sound of silence</td>\n      <td>Disturbed</td>\n      <td>False</td>\n      <td>04:08</td>\n      <td>F#</td>\n      <td>Minor</td>\n      <td>86</td>\n      <td>32</td>\n      <td>18</td>\n      <td>10</td>\n      <td>28</td>\n      <td>3</td>\n      <td>F#m</td>\n    </tr>\n    <tr>\n      <th>2</th>\n      <td>rock</td>\n      <td>amazonia</td>\n      <td>Gojira</td>\n      <td>False</td>\n      <td>05:00</td>\n      <td>A</td>\n      <td>Major</td>\n      <td>182</td>\n      <td>38</td>\n      <td>51</td>\n      <td>24</td>\n      <td>95</td>\n      <td>4</td>\n      <td>A</td>\n    </tr>\n    <tr>\n      <th>3</th>\n      <td>rock</td>\n      <td>back in black</td>\n      <td>AC/DC</td>\n      <td>False</td>\n      <td>04:15</td>\n      <td>A</td>\n      <td>Major</td>\n      <td>188</td>\n      <td>31</td>\n      <td>76</td>\n      <td>8</td>\n      <td>70</td>\n      <td>5</td>\n      <td>A</td>\n    </tr>\n    <tr>\n      <th>4</th>\n      <td>rock</td>\n      <td>another world</td>\n      <td>Gojira</td>\n      <td>False</td>\n      <td>04:24</td>\n      <td>G</td>\n      <td>Minor</td>\n      <td>170</td>\n      <td>35</td>\n      <td>24</td>\n      <td>12</td>\n      <td>88</td>\n      <td>4</td>\n      <td>Gm</td>\n    </tr>\n    <tr>\n      <th>...</th>\n      <td>...</td>\n      <td>...</td>\n      <td>...</td>\n      <td>...</td>\n      <td>...</td>\n      <td>...</td>\n      <td>...</td>\n      <td>...</td>\n      <td>...</td>\n      <td>...</td>\n      <td>...</td>\n      <td>...</td>\n      <td>...</td>\n      <td>...</td>\n    </tr>\n    <tr>\n      <th>11398</th>\n      <td>hiphop</td>\n      <td>let me know</td>\n      <td>Cam'Ron</td>\n      <td>True</td>\n      <td>04:14</td>\n      <td>F#</td>\n      <td>Major</td>\n      <td>92</td>\n      <td>75</td>\n      <td>69</td>\n      <td>35</td>\n      <td>79</td>\n      <td>33</td>\n      <td>F#</td>\n    </tr>\n    <tr>\n      <th>11399</th>\n      <td>hiphop</td>\n      <td>lyrical gangbang</td>\n      <td>Dr. Dre</td>\n      <td>True</td>\n      <td>04:04</td>\n      <td>F#</td>\n      <td>Major</td>\n      <td>81</td>\n      <td>82</td>\n      <td>68</td>\n      <td>13</td>\n      <td>83</td>\n      <td>27</td>\n      <td>F#</td>\n    </tr>\n    <tr>\n      <th>11400</th>\n      <td>hiphop</td>\n      <td>just like candy</td>\n      <td>8-Ball &amp; MJG</td>\n      <td>True</td>\n      <td>04:19</td>\n      <td>G</td>\n      <td>Major</td>\n      <td>95</td>\n      <td>68</td>\n      <td>39</td>\n      <td>13</td>\n      <td>72</td>\n      <td>8</td>\n      <td>G</td>\n    </tr>\n    <tr>\n      <th>11401</th>\n      <td>hiphop</td>\n      <td>beta</td>\n      <td>Tyson James</td>\n      <td>False</td>\n      <td>03:54</td>\n      <td>G</td>\n      <td>Major</td>\n      <td>89</td>\n      <td>73</td>\n      <td>58</td>\n      <td>28</td>\n      <td>57</td>\n      <td>45</td>\n      <td>G</td>\n    </tr>\n    <tr>\n      <th>11402</th>\n      <td>hiphop</td>\n      <td>can't truss it</td>\n      <td>Public Enemy</td>\n      <td>True</td>\n      <td>05:21</td>\n      <td>B</td>\n      <td>Major</td>\n      <td>102</td>\n      <td>80</td>\n      <td>61</td>\n      <td>13</td>\n      <td>87</td>\n      <td>14</td>\n      <td>B</td>\n    </tr>\n  </tbody>\n</table>\n<p>11130 rows × 14 columns</p>\n</div>"
     },
     "execution_count": 22,
     "metadata": {},
     "output_type": "execute_result"
    }
   ],
   "source": [
    "#Parsing scale and key\n",
    "df[\"KeyScaled\"]=df[\"Scale\"]+\" \"+df[\"Key\"]\n",
    "def KeyScale(x):\n",
    "    x=x.split()\n",
    "    return x[0] if x[1] == \"Major\" else x[0]+\"m\"\n",
    "df[\"KeyScaled\"]=df[\"KeyScaled\"].apply(KeyScale)\n",
    "\n",
    "df"
   ],
   "metadata": {
    "collapsed": false,
    "pycharm": {
     "name": "#%%\n"
    }
   }
  },
  {
   "cell_type": "code",
   "execution_count": 23,
   "outputs": [
    {
     "data": {
      "text/plain": "rock       3214\ncountry    2678\npop        2619\nhiphop     2619\nName: Genre, dtype: int64"
     },
     "execution_count": 23,
     "metadata": {},
     "output_type": "execute_result"
    }
   ],
   "source": [
    "df.Genre.value_counts()"
   ],
   "metadata": {
    "collapsed": false,
    "pycharm": {
     "name": "#%%\n"
    }
   }
  },
  {
   "cell_type": "code",
   "execution_count": 60,
   "outputs": [
    {
     "name": "stdout",
     "output_type": "stream",
     "text": [
      "Searching for \"into the storm\" by Gojira...\n",
      "Done.\n",
      "Searching for \"the sound of silence\" by Disturbed...\n",
      "Done.\n",
      "Searching for \"amazonia\" by Gojira...\n",
      "Done.\n",
      "Searching for \"back in black\" by AC/DC...\n",
      "Done.\n",
      "Searching for \"another world\" by Gojira...\n",
      "Done.\n",
      "Searching for \"don't stop believin'\" by Journey...\n",
      "Done.\n",
      "Searching for \"eye of the tiger\" by Survivor...\n",
      "Done.\n",
      "Searching for \"africa\" by Toto...\n",
      "Done.\n",
      "Searching for \"boilermaker\" by Royal Blood...\n",
      "Done.\n",
      "Searching for \"born for one thing\" by Gojira...\n",
      "Done.\n",
      "Searching for \"spirit in the sky\" by Norman Greenbaum...\n",
      "Done.\n",
      "Searching for \"a little bit off\" by Five Finger Death Punch...\n",
      "Done.\n",
      "Searching for \"think it over\" by Mammoth WVH...\n",
      "Done.\n",
      "Searching for \"here comes the sun\" by The Beatles...\n",
      "Done.\n",
      "Searching for \"dancing in the moonlight\" by King Harvest...\n",
      "Done.\n",
      "Searching for \"california dreamin'\" by Dirty Honey...\n",
      "Done.\n",
      "Searching for \"typhoons\" by Royal Blood...\n",
      "Done.\n",
      "Searching for \"stairway to heaven\" by Led Zeppelin...\n",
      "Done.\n",
      "Searching for \"the past is dead\" by Beartooth...\n",
      "Done.\n",
      "Searching for \"carry on wayward son\" by Kansas...\n",
      "Done.\n",
      "Searching for \"distance\" by Mammoth WVH...\n",
      "Done.\n",
      "Searching for \"don't stop me now\" by Queen...\n",
      "Done.\n",
      "Searching for \"popular monster\" by Falling In Reverse...\n",
      "Done.\n",
      "Searching for \"gypsy\" by Dirty Honey...\n",
      "Done.\n",
      "Searching for \"and so it went\" by The Pretty Reckless...\n",
      "Done.\n",
      "Searching for \"tied up\" by Dirty Honey...\n",
      "Done.\n",
      "Searching for \"bohemian rhapsody\" by Queen...\n",
      "Done.\n",
      "Searching for \"seven nation army\" by The White Stripes...\n",
      "Done.\n",
      "Searching for \"come as you are\" by Nirvana...\n",
      "Done.\n",
      "Searching for \"devastation\" by Beartooth...\n",
      "Done.\n",
      "Searching for \"limbo\" by Royal Blood...\n",
      "Done.\n",
      "Searching for \"bring me to life\" by Evanescence...\n",
      "Done.\n",
      "Searching for \"smells like teen spirit\" by Nirvana...\n",
      "Done.\n",
      "Searching for \"the final countdown\" by Europe...\n",
      "Done.\n",
      "Searching for \"we will rock you\" by Queen...\n",
      "Done.\n",
      "Searching for \"better without you\" by Evanescence...\n",
      "Done.\n",
      "Searching for \"immigrant song\" by Led Zeppelin...\n",
      "Done.\n",
      "Searching for \"she talks to angels\" by The Black Crowes...\n",
      "Done.\n",
      "Searching for \"dust in the wind\" by Kansas...\n",
      "Done.\n",
      "Searching for \"dreams\" by Fleetwood Mac...\n",
      "Done.\n",
      "Searching for \"have you ever seen the rain?\" by Creedence Clearwater Revival...\n",
      "Done.\n",
      "Searching for \"need you now\" by Lady A...\n",
      "Done.\n",
      "Searching for \"danger zone\" by Kenny Loggins...\n",
      "Done.\n",
      "Searching for \"fortunate son\" by Creedence Clearwater Revival...\n",
      "Done.\n",
      "Searching for \"self destructor\" by Chevelle...\n",
      "Done.\n",
      "Searching for \"heat above\" by Greta Van Fleet...\n",
      "Done.\n",
      "Searching for \"end of the line\" by The Traveling Wilburys...\n",
      "Done.\n",
      "Searching for \"sharp dressed man\" by ZZ Top...\n",
      "Done.\n",
      "Searching for \"t.n.t.\" by AC/DC...\n",
      "Done.\n",
      "Searching for \"warrior\" by Atreyu...\n",
      "Done.\n",
      "Searching for \"another one bites the dust\" by Queen...\n",
      "Done.\n",
      "Searching for \"highway to hell\" by AC/DC...\n",
      "Done.\n",
      "Searching for \"wish you were here\" by Pink Floyd...\n",
      "Done.\n",
      "Searching for \"better together\" by Jack Johnson...\n",
      "Done.\n",
      "Searching for \"copperhead road\" by Steve Earle...\n",
      "Done.\n",
      "Searching for \"pumped up kicks\" by Foster The People...\n",
      "Done.\n",
      "Searching for \"sober\" by TOOL...\n",
      "Done.\n",
      "Searching for \"simple man\" by Lynyrd Skynyrd...\n",
      "Done.\n",
      "Searching for \"the devil went down to georgia\" by The Charlie Daniels Band...\n",
      "Done.\n",
      "Searching for \"i love rock 'n roll\" by Joan Jett & The Blackhearts...\n",
      "Done.\n",
      "Searching for \"teardrops\" by Bring Me The Horizon...\n",
      "Done.\n",
      "Searching for \"forever young\" by Rod Stewart...\n",
      "Done.\n",
      "Searching for \"drops of jupiter\" by Train...\n",
      "Done.\n",
      "Searching for \"girls just want to have fun\" by Cyndi Lauper...\n",
      "Done.\n",
      "Searching for \"we never have sex anymore\" by The Offspring...\n",
      "Done.\n",
      "Searching for \"the boys of summer\" by Don Henley...\n",
      "Done.\n",
      "Searching for \"lunatic fringe\" by Red Rider...\n",
      "Done.\n",
      "Searching for \"tears in heaven\" by Eric Clapton...\n",
      "Done.\n",
      "Searching for \"hells bells\" by AC/DC...\n",
      "Done.\n",
      "Searching for \"takin' care of business\" by Bachman-Turner Overdrive...\n",
      "Done.\n",
      "Searching for \"my sweet lord\" by George Harrison...\n",
      "Done.\n",
      "Searching for \"scarlet cross\" by Black Veil Brides...\n",
      "Done.\n",
      "Searching for \"blue on black\" by Five Finger Death Punch...\n",
      "Done.\n",
      "Searching for \"monsters\" by Shinedown...\n",
      "Done.\n",
      "Searching for \"the middle\" by Jimmy Eat World...\n",
      "Done.\n",
      "Searching for \"the weight\" by The Band...\n",
      "Done.\n",
      "Searching for \"breathe again\" by Pop Evil...\n",
      "Done.\n",
      "Searching for \"separate ways\" by Journey...\n",
      "Done.\n",
      "Searching for \"broken bells\" by Greta Van Fleet...\n",
      "Done.\n",
      "Searching for \"open arms\" by Journey...\n",
      "Done.\n",
      "Searching for \"free bird\" by Lynyrd Skynyrd...\n",
      "Done.\n",
      "Searching for \"flagpole sitta\" by Harvey Danger...\n",
      "Done.\n",
      "Searching for \"kryptonite\" by 3 Doors Down...\n",
      "Done.\n",
      "Searching for \"born to be wild\" by Steppenwolf...\n",
      "Done.\n",
      "Searching for \"i melt with you\" by Modern English...\n",
      "Done.\n",
      "Searching for \"wheel in the sky\" by Journey...\n",
      "Done.\n",
      "Searching for \"the reaper\" by Blue Oyster Cult...\n",
      "Done.\n",
      "Searching for \"island in the sun\" by Weezer...\n",
      "Done.\n",
      "Searching for \"december, 1963\" by The Four Seasons...\n",
      "Done.\n",
      "Searching for \"human\" by Rag'n'Bone Man...\n",
      "Done.\n",
      "Searching for \"send me on my way\" by Rusted Root...\n",
      "Done.\n",
      "Searching for \"wrong side of heaven\" by Five Finger Death Punch...\n",
      "Done.\n",
      "Searching for \"my way, soon\" by Greta Van Fleet...\n",
      "Done.\n",
      "Searching for \"amazed\" by Lonestar...\n"
     ]
    },
    {
     "ename": "KeyboardInterrupt",
     "evalue": "",
     "output_type": "error",
     "traceback": [
      "\u001B[1;31m---------------------------------------------------------------------------\u001B[0m",
      "\u001B[1;31mKeyboardInterrupt\u001B[0m                         Traceback (most recent call last)",
      "\u001B[1;32m<ipython-input-60-700f98dad167>\u001B[0m in \u001B[0;36m<module>\u001B[1;34m\u001B[0m\n\u001B[0;32m     23\u001B[0m         \u001B[0mprint\u001B[0m\u001B[1;33m(\u001B[0m\u001B[1;34mf'Failed to scarpe for {row[\"Artist\"]} {row[\"Title\"]}'\u001B[0m\u001B[1;33m)\u001B[0m\u001B[1;33m\u001B[0m\u001B[1;33m\u001B[0m\u001B[0m\n\u001B[0;32m     24\u001B[0m         \u001B[1;32mreturn\u001B[0m \u001B[0mnp\u001B[0m\u001B[1;33m.\u001B[0m\u001B[0mnan\u001B[0m\u001B[1;33m\u001B[0m\u001B[1;33m\u001B[0m\u001B[0m\n\u001B[1;32m---> 25\u001B[1;33m \u001B[0mdf\u001B[0m\u001B[1;33m[\u001B[0m\u001B[1;34m\"Lyrics\"\u001B[0m\u001B[1;33m]\u001B[0m\u001B[1;33m=\u001B[0m\u001B[0mdf\u001B[0m\u001B[1;33m.\u001B[0m\u001B[0mapply\u001B[0m\u001B[1;33m(\u001B[0m\u001B[1;32mlambda\u001B[0m \u001B[0mrow\u001B[0m\u001B[1;33m:\u001B[0m \u001B[0maddLyrics\u001B[0m\u001B[1;33m(\u001B[0m\u001B[0mrow\u001B[0m\u001B[1;33m)\u001B[0m\u001B[1;33m,\u001B[0m\u001B[0maxis\u001B[0m\u001B[1;33m=\u001B[0m\u001B[1;36m1\u001B[0m\u001B[1;33m)\u001B[0m\u001B[1;33m\u001B[0m\u001B[1;33m\u001B[0m\u001B[0m\n\u001B[0m\u001B[0;32m     26\u001B[0m \u001B[1;31m#done with 7\u001B[0m\u001B[1;33m\u001B[0m\u001B[1;33m\u001B[0m\u001B[1;33m\u001B[0m\u001B[0m\n",
      "\u001B[1;32md:\\idan\\python\\genre_prediction_data_science\\venv\\lib\\site-packages\\pandas\\core\\frame.py\u001B[0m in \u001B[0;36mapply\u001B[1;34m(self, func, axis, raw, result_type, args, **kwds)\u001B[0m\n\u001B[0;32m   7766\u001B[0m             \u001B[0mkwds\u001B[0m\u001B[1;33m=\u001B[0m\u001B[0mkwds\u001B[0m\u001B[1;33m,\u001B[0m\u001B[1;33m\u001B[0m\u001B[1;33m\u001B[0m\u001B[0m\n\u001B[0;32m   7767\u001B[0m         )\n\u001B[1;32m-> 7768\u001B[1;33m         \u001B[1;32mreturn\u001B[0m \u001B[0mop\u001B[0m\u001B[1;33m.\u001B[0m\u001B[0mget_result\u001B[0m\u001B[1;33m(\u001B[0m\u001B[1;33m)\u001B[0m\u001B[1;33m\u001B[0m\u001B[1;33m\u001B[0m\u001B[0m\n\u001B[0m\u001B[0;32m   7769\u001B[0m \u001B[1;33m\u001B[0m\u001B[0m\n\u001B[0;32m   7770\u001B[0m     \u001B[1;32mdef\u001B[0m \u001B[0mapplymap\u001B[0m\u001B[1;33m(\u001B[0m\u001B[0mself\u001B[0m\u001B[1;33m,\u001B[0m \u001B[0mfunc\u001B[0m\u001B[1;33m,\u001B[0m \u001B[0mna_action\u001B[0m\u001B[1;33m:\u001B[0m \u001B[0mOptional\u001B[0m\u001B[1;33m[\u001B[0m\u001B[0mstr\u001B[0m\u001B[1;33m]\u001B[0m \u001B[1;33m=\u001B[0m \u001B[1;32mNone\u001B[0m\u001B[1;33m)\u001B[0m \u001B[1;33m->\u001B[0m \u001B[0mDataFrame\u001B[0m\u001B[1;33m:\u001B[0m\u001B[1;33m\u001B[0m\u001B[1;33m\u001B[0m\u001B[0m\n",
      "\u001B[1;32md:\\idan\\python\\genre_prediction_data_science\\venv\\lib\\site-packages\\pandas\\core\\apply.py\u001B[0m in \u001B[0;36mget_result\u001B[1;34m(self)\u001B[0m\n\u001B[0;32m    183\u001B[0m             \u001B[1;32mreturn\u001B[0m \u001B[0mself\u001B[0m\u001B[1;33m.\u001B[0m\u001B[0mapply_raw\u001B[0m\u001B[1;33m(\u001B[0m\u001B[1;33m)\u001B[0m\u001B[1;33m\u001B[0m\u001B[1;33m\u001B[0m\u001B[0m\n\u001B[0;32m    184\u001B[0m \u001B[1;33m\u001B[0m\u001B[0m\n\u001B[1;32m--> 185\u001B[1;33m         \u001B[1;32mreturn\u001B[0m \u001B[0mself\u001B[0m\u001B[1;33m.\u001B[0m\u001B[0mapply_standard\u001B[0m\u001B[1;33m(\u001B[0m\u001B[1;33m)\u001B[0m\u001B[1;33m\u001B[0m\u001B[1;33m\u001B[0m\u001B[0m\n\u001B[0m\u001B[0;32m    186\u001B[0m \u001B[1;33m\u001B[0m\u001B[0m\n\u001B[0;32m    187\u001B[0m     \u001B[1;32mdef\u001B[0m \u001B[0mapply_empty_result\u001B[0m\u001B[1;33m(\u001B[0m\u001B[0mself\u001B[0m\u001B[1;33m)\u001B[0m\u001B[1;33m:\u001B[0m\u001B[1;33m\u001B[0m\u001B[1;33m\u001B[0m\u001B[0m\n",
      "\u001B[1;32md:\\idan\\python\\genre_prediction_data_science\\venv\\lib\\site-packages\\pandas\\core\\apply.py\u001B[0m in \u001B[0;36mapply_standard\u001B[1;34m(self)\u001B[0m\n\u001B[0;32m    274\u001B[0m \u001B[1;33m\u001B[0m\u001B[0m\n\u001B[0;32m    275\u001B[0m     \u001B[1;32mdef\u001B[0m \u001B[0mapply_standard\u001B[0m\u001B[1;33m(\u001B[0m\u001B[0mself\u001B[0m\u001B[1;33m)\u001B[0m\u001B[1;33m:\u001B[0m\u001B[1;33m\u001B[0m\u001B[1;33m\u001B[0m\u001B[0m\n\u001B[1;32m--> 276\u001B[1;33m         \u001B[0mresults\u001B[0m\u001B[1;33m,\u001B[0m \u001B[0mres_index\u001B[0m \u001B[1;33m=\u001B[0m \u001B[0mself\u001B[0m\u001B[1;33m.\u001B[0m\u001B[0mapply_series_generator\u001B[0m\u001B[1;33m(\u001B[0m\u001B[1;33m)\u001B[0m\u001B[1;33m\u001B[0m\u001B[1;33m\u001B[0m\u001B[0m\n\u001B[0m\u001B[0;32m    277\u001B[0m \u001B[1;33m\u001B[0m\u001B[0m\n\u001B[0;32m    278\u001B[0m         \u001B[1;31m# wrap results\u001B[0m\u001B[1;33m\u001B[0m\u001B[1;33m\u001B[0m\u001B[1;33m\u001B[0m\u001B[0m\n",
      "\u001B[1;32md:\\idan\\python\\genre_prediction_data_science\\venv\\lib\\site-packages\\pandas\\core\\apply.py\u001B[0m in \u001B[0;36mapply_series_generator\u001B[1;34m(self)\u001B[0m\n\u001B[0;32m    288\u001B[0m             \u001B[1;32mfor\u001B[0m \u001B[0mi\u001B[0m\u001B[1;33m,\u001B[0m \u001B[0mv\u001B[0m \u001B[1;32min\u001B[0m \u001B[0menumerate\u001B[0m\u001B[1;33m(\u001B[0m\u001B[0mseries_gen\u001B[0m\u001B[1;33m)\u001B[0m\u001B[1;33m:\u001B[0m\u001B[1;33m\u001B[0m\u001B[1;33m\u001B[0m\u001B[0m\n\u001B[0;32m    289\u001B[0m                 \u001B[1;31m# ignore SettingWithCopy here in case the user mutates\u001B[0m\u001B[1;33m\u001B[0m\u001B[1;33m\u001B[0m\u001B[1;33m\u001B[0m\u001B[0m\n\u001B[1;32m--> 290\u001B[1;33m                 \u001B[0mresults\u001B[0m\u001B[1;33m[\u001B[0m\u001B[0mi\u001B[0m\u001B[1;33m]\u001B[0m \u001B[1;33m=\u001B[0m \u001B[0mself\u001B[0m\u001B[1;33m.\u001B[0m\u001B[0mf\u001B[0m\u001B[1;33m(\u001B[0m\u001B[0mv\u001B[0m\u001B[1;33m)\u001B[0m\u001B[1;33m\u001B[0m\u001B[1;33m\u001B[0m\u001B[0m\n\u001B[0m\u001B[0;32m    291\u001B[0m                 \u001B[1;32mif\u001B[0m \u001B[0misinstance\u001B[0m\u001B[1;33m(\u001B[0m\u001B[0mresults\u001B[0m\u001B[1;33m[\u001B[0m\u001B[0mi\u001B[0m\u001B[1;33m]\u001B[0m\u001B[1;33m,\u001B[0m \u001B[0mABCSeries\u001B[0m\u001B[1;33m)\u001B[0m\u001B[1;33m:\u001B[0m\u001B[1;33m\u001B[0m\u001B[1;33m\u001B[0m\u001B[0m\n\u001B[0;32m    292\u001B[0m                     \u001B[1;31m# If we have a view on v, we need to make a copy because\u001B[0m\u001B[1;33m\u001B[0m\u001B[1;33m\u001B[0m\u001B[1;33m\u001B[0m\u001B[0m\n",
      "\u001B[1;32m<ipython-input-60-700f98dad167>\u001B[0m in \u001B[0;36m<lambda>\u001B[1;34m(row)\u001B[0m\n\u001B[0;32m     23\u001B[0m         \u001B[0mprint\u001B[0m\u001B[1;33m(\u001B[0m\u001B[1;34mf'Failed to scarpe for {row[\"Artist\"]} {row[\"Title\"]}'\u001B[0m\u001B[1;33m)\u001B[0m\u001B[1;33m\u001B[0m\u001B[1;33m\u001B[0m\u001B[0m\n\u001B[0;32m     24\u001B[0m         \u001B[1;32mreturn\u001B[0m \u001B[0mnp\u001B[0m\u001B[1;33m.\u001B[0m\u001B[0mnan\u001B[0m\u001B[1;33m\u001B[0m\u001B[1;33m\u001B[0m\u001B[0m\n\u001B[1;32m---> 25\u001B[1;33m \u001B[0mdf\u001B[0m\u001B[1;33m[\u001B[0m\u001B[1;34m\"Lyrics\"\u001B[0m\u001B[1;33m]\u001B[0m\u001B[1;33m=\u001B[0m\u001B[0mdf\u001B[0m\u001B[1;33m.\u001B[0m\u001B[0mapply\u001B[0m\u001B[1;33m(\u001B[0m\u001B[1;32mlambda\u001B[0m \u001B[0mrow\u001B[0m\u001B[1;33m:\u001B[0m \u001B[0maddLyrics\u001B[0m\u001B[1;33m(\u001B[0m\u001B[0mrow\u001B[0m\u001B[1;33m)\u001B[0m\u001B[1;33m,\u001B[0m\u001B[0maxis\u001B[0m\u001B[1;33m=\u001B[0m\u001B[1;36m1\u001B[0m\u001B[1;33m)\u001B[0m\u001B[1;33m\u001B[0m\u001B[1;33m\u001B[0m\u001B[0m\n\u001B[0m\u001B[0;32m     26\u001B[0m \u001B[1;31m#done with 7\u001B[0m\u001B[1;33m\u001B[0m\u001B[1;33m\u001B[0m\u001B[1;33m\u001B[0m\u001B[0m\n",
      "\u001B[1;32m<ipython-input-60-700f98dad167>\u001B[0m in \u001B[0;36maddLyrics\u001B[1;34m(row)\u001B[0m\n\u001B[0;32m     10\u001B[0m \u001B[1;32mdef\u001B[0m \u001B[0maddLyrics\u001B[0m\u001B[1;33m(\u001B[0m\u001B[0mrow\u001B[0m\u001B[1;33m)\u001B[0m\u001B[1;33m:\u001B[0m\u001B[1;33m\u001B[0m\u001B[1;33m\u001B[0m\u001B[0m\n\u001B[0;32m     11\u001B[0m     \u001B[1;32mtry\u001B[0m\u001B[1;33m:\u001B[0m\u001B[1;33m\u001B[0m\u001B[1;33m\u001B[0m\u001B[0m\n\u001B[1;32m---> 12\u001B[1;33m         \u001B[0msong\u001B[0m\u001B[1;33m=\u001B[0m\u001B[0mgenius\u001B[0m\u001B[1;33m.\u001B[0m\u001B[0msearch_song\u001B[0m\u001B[1;33m(\u001B[0m\u001B[0mrow\u001B[0m\u001B[1;33m[\u001B[0m\u001B[1;34m\"Title\"\u001B[0m\u001B[1;33m]\u001B[0m\u001B[1;33m,\u001B[0m\u001B[0mrow\u001B[0m\u001B[1;33m[\u001B[0m\u001B[1;34m\"Artist\"\u001B[0m\u001B[1;33m]\u001B[0m\u001B[1;33m)\u001B[0m\u001B[1;33m\u001B[0m\u001B[1;33m\u001B[0m\u001B[0m\n\u001B[0m\u001B[0;32m     13\u001B[0m         \u001B[1;32mreturn\u001B[0m \u001B[0msong\u001B[0m\u001B[1;33m.\u001B[0m\u001B[0mlyrics\u001B[0m\u001B[1;33m\u001B[0m\u001B[1;33m\u001B[0m\u001B[0m\n\u001B[0;32m     14\u001B[0m     \u001B[1;32mexcept\u001B[0m \u001B[0mHTTPError\u001B[0m \u001B[1;32mas\u001B[0m \u001B[0me\u001B[0m\u001B[1;33m:\u001B[0m\u001B[1;33m\u001B[0m\u001B[1;33m\u001B[0m\u001B[0m\n",
      "\u001B[1;32md:\\idan\\python\\genre_prediction_data_science\\venv\\lib\\site-packages\\lyricsgenius\\genius.py\u001B[0m in \u001B[0;36msearch_song\u001B[1;34m(self, title, artist, song_id, get_full_info)\u001B[0m\n\u001B[0;32m    434\u001B[0m         if (song_info['lyrics_state'] == 'complete'\n\u001B[0;32m    435\u001B[0m                 and not song_info.get('instrumental')):\n\u001B[1;32m--> 436\u001B[1;33m             \u001B[0mlyrics\u001B[0m \u001B[1;33m=\u001B[0m \u001B[0mself\u001B[0m\u001B[1;33m.\u001B[0m\u001B[0mlyrics\u001B[0m\u001B[1;33m(\u001B[0m\u001B[0msong_url\u001B[0m\u001B[1;33m=\u001B[0m\u001B[0msong_info\u001B[0m\u001B[1;33m[\u001B[0m\u001B[1;34m'url'\u001B[0m\u001B[1;33m]\u001B[0m\u001B[1;33m)\u001B[0m\u001B[1;33m\u001B[0m\u001B[1;33m\u001B[0m\u001B[0m\n\u001B[0m\u001B[0;32m    437\u001B[0m         \u001B[1;32melse\u001B[0m\u001B[1;33m:\u001B[0m\u001B[1;33m\u001B[0m\u001B[1;33m\u001B[0m\u001B[0m\n\u001B[0;32m    438\u001B[0m             \u001B[0mlyrics\u001B[0m \u001B[1;33m=\u001B[0m \u001B[1;34m\"\"\u001B[0m\u001B[1;33m\u001B[0m\u001B[1;33m\u001B[0m\u001B[0m\n",
      "\u001B[1;32md:\\idan\\python\\genre_prediction_data_science\\venv\\lib\\site-packages\\lyricsgenius\\genius.py\u001B[0m in \u001B[0;36mlyrics\u001B[1;34m(self, song_id, song_url, remove_section_headers)\u001B[0m\n\u001B[0;32m    130\u001B[0m         \u001B[1;31m# Scrape the song lyrics from the HTML\u001B[0m\u001B[1;33m\u001B[0m\u001B[1;33m\u001B[0m\u001B[1;33m\u001B[0m\u001B[0m\n\u001B[0;32m    131\u001B[0m         html = BeautifulSoup(\n\u001B[1;32m--> 132\u001B[1;33m             \u001B[0mself\u001B[0m\u001B[1;33m.\u001B[0m\u001B[0m_make_request\u001B[0m\u001B[1;33m(\u001B[0m\u001B[0mpath\u001B[0m\u001B[1;33m,\u001B[0m \u001B[0mweb\u001B[0m\u001B[1;33m=\u001B[0m\u001B[1;32mTrue\u001B[0m\u001B[1;33m)\u001B[0m\u001B[1;33m.\u001B[0m\u001B[0mreplace\u001B[0m\u001B[1;33m(\u001B[0m\u001B[1;34m'<br/>'\u001B[0m\u001B[1;33m,\u001B[0m \u001B[1;34m'\\n'\u001B[0m\u001B[1;33m)\u001B[0m\u001B[1;33m,\u001B[0m\u001B[1;33m\u001B[0m\u001B[1;33m\u001B[0m\u001B[0m\n\u001B[0m\u001B[0;32m    133\u001B[0m             \u001B[1;34m\"html.parser\"\u001B[0m\u001B[1;33m\u001B[0m\u001B[1;33m\u001B[0m\u001B[0m\n\u001B[0;32m    134\u001B[0m         )\n",
      "\u001B[1;32md:\\idan\\python\\genre_prediction_data_science\\venv\\lib\\site-packages\\lyricsgenius\\api\\base.py\u001B[0m in \u001B[0;36m_make_request\u001B[1;34m(self, path, method, params_, public_api, web, **kwargs)\u001B[0m\n\u001B[0;32m     73\u001B[0m             \u001B[0mtries\u001B[0m \u001B[1;33m+=\u001B[0m \u001B[1;36m1\u001B[0m\u001B[1;33m\u001B[0m\u001B[1;33m\u001B[0m\u001B[0m\n\u001B[0;32m     74\u001B[0m             \u001B[1;32mtry\u001B[0m\u001B[1;33m:\u001B[0m\u001B[1;33m\u001B[0m\u001B[1;33m\u001B[0m\u001B[0m\n\u001B[1;32m---> 75\u001B[1;33m                 response = self._session.request(method, uri,\n\u001B[0m\u001B[0;32m     76\u001B[0m                                                  \u001B[0mtimeout\u001B[0m\u001B[1;33m=\u001B[0m\u001B[0mself\u001B[0m\u001B[1;33m.\u001B[0m\u001B[0mtimeout\u001B[0m\u001B[1;33m,\u001B[0m\u001B[1;33m\u001B[0m\u001B[1;33m\u001B[0m\u001B[0m\n\u001B[0;32m     77\u001B[0m                                                  \u001B[0mparams\u001B[0m\u001B[1;33m=\u001B[0m\u001B[0mparams_\u001B[0m\u001B[1;33m,\u001B[0m\u001B[1;33m\u001B[0m\u001B[1;33m\u001B[0m\u001B[0m\n",
      "\u001B[1;32md:\\idan\\python\\genre_prediction_data_science\\venv\\lib\\site-packages\\requests\\sessions.py\u001B[0m in \u001B[0;36mrequest\u001B[1;34m(self, method, url, params, data, headers, cookies, files, auth, timeout, allow_redirects, proxies, hooks, stream, verify, cert, json)\u001B[0m\n\u001B[0;32m    540\u001B[0m         }\n\u001B[0;32m    541\u001B[0m         \u001B[0msend_kwargs\u001B[0m\u001B[1;33m.\u001B[0m\u001B[0mupdate\u001B[0m\u001B[1;33m(\u001B[0m\u001B[0msettings\u001B[0m\u001B[1;33m)\u001B[0m\u001B[1;33m\u001B[0m\u001B[1;33m\u001B[0m\u001B[0m\n\u001B[1;32m--> 542\u001B[1;33m         \u001B[0mresp\u001B[0m \u001B[1;33m=\u001B[0m \u001B[0mself\u001B[0m\u001B[1;33m.\u001B[0m\u001B[0msend\u001B[0m\u001B[1;33m(\u001B[0m\u001B[0mprep\u001B[0m\u001B[1;33m,\u001B[0m \u001B[1;33m**\u001B[0m\u001B[0msend_kwargs\u001B[0m\u001B[1;33m)\u001B[0m\u001B[1;33m\u001B[0m\u001B[1;33m\u001B[0m\u001B[0m\n\u001B[0m\u001B[0;32m    543\u001B[0m \u001B[1;33m\u001B[0m\u001B[0m\n\u001B[0;32m    544\u001B[0m         \u001B[1;32mreturn\u001B[0m \u001B[0mresp\u001B[0m\u001B[1;33m\u001B[0m\u001B[1;33m\u001B[0m\u001B[0m\n",
      "\u001B[1;32md:\\idan\\python\\genre_prediction_data_science\\venv\\lib\\site-packages\\requests\\sessions.py\u001B[0m in \u001B[0;36msend\u001B[1;34m(self, request, **kwargs)\u001B[0m\n\u001B[0;32m    653\u001B[0m \u001B[1;33m\u001B[0m\u001B[0m\n\u001B[0;32m    654\u001B[0m         \u001B[1;31m# Send the request\u001B[0m\u001B[1;33m\u001B[0m\u001B[1;33m\u001B[0m\u001B[1;33m\u001B[0m\u001B[0m\n\u001B[1;32m--> 655\u001B[1;33m         \u001B[0mr\u001B[0m \u001B[1;33m=\u001B[0m \u001B[0madapter\u001B[0m\u001B[1;33m.\u001B[0m\u001B[0msend\u001B[0m\u001B[1;33m(\u001B[0m\u001B[0mrequest\u001B[0m\u001B[1;33m,\u001B[0m \u001B[1;33m**\u001B[0m\u001B[0mkwargs\u001B[0m\u001B[1;33m)\u001B[0m\u001B[1;33m\u001B[0m\u001B[1;33m\u001B[0m\u001B[0m\n\u001B[0m\u001B[0;32m    656\u001B[0m \u001B[1;33m\u001B[0m\u001B[0m\n\u001B[0;32m    657\u001B[0m         \u001B[1;31m# Total elapsed time of the request (approximately)\u001B[0m\u001B[1;33m\u001B[0m\u001B[1;33m\u001B[0m\u001B[1;33m\u001B[0m\u001B[0m\n",
      "\u001B[1;32md:\\idan\\python\\genre_prediction_data_science\\venv\\lib\\site-packages\\requests\\adapters.py\u001B[0m in \u001B[0;36msend\u001B[1;34m(self, request, stream, timeout, verify, cert, proxies)\u001B[0m\n\u001B[0;32m    437\u001B[0m         \u001B[1;32mtry\u001B[0m\u001B[1;33m:\u001B[0m\u001B[1;33m\u001B[0m\u001B[1;33m\u001B[0m\u001B[0m\n\u001B[0;32m    438\u001B[0m             \u001B[1;32mif\u001B[0m \u001B[1;32mnot\u001B[0m \u001B[0mchunked\u001B[0m\u001B[1;33m:\u001B[0m\u001B[1;33m\u001B[0m\u001B[1;33m\u001B[0m\u001B[0m\n\u001B[1;32m--> 439\u001B[1;33m                 resp = conn.urlopen(\n\u001B[0m\u001B[0;32m    440\u001B[0m                     \u001B[0mmethod\u001B[0m\u001B[1;33m=\u001B[0m\u001B[0mrequest\u001B[0m\u001B[1;33m.\u001B[0m\u001B[0mmethod\u001B[0m\u001B[1;33m,\u001B[0m\u001B[1;33m\u001B[0m\u001B[1;33m\u001B[0m\u001B[0m\n\u001B[0;32m    441\u001B[0m                     \u001B[0murl\u001B[0m\u001B[1;33m=\u001B[0m\u001B[0murl\u001B[0m\u001B[1;33m,\u001B[0m\u001B[1;33m\u001B[0m\u001B[1;33m\u001B[0m\u001B[0m\n",
      "\u001B[1;32md:\\idan\\python\\genre_prediction_data_science\\venv\\lib\\site-packages\\urllib3\\connectionpool.py\u001B[0m in \u001B[0;36murlopen\u001B[1;34m(self, method, url, body, headers, retries, redirect, assert_same_host, timeout, pool_timeout, release_conn, chunked, body_pos, **response_kw)\u001B[0m\n\u001B[0;32m    697\u001B[0m \u001B[1;33m\u001B[0m\u001B[0m\n\u001B[0;32m    698\u001B[0m             \u001B[1;31m# Make the request on the httplib connection object.\u001B[0m\u001B[1;33m\u001B[0m\u001B[1;33m\u001B[0m\u001B[1;33m\u001B[0m\u001B[0m\n\u001B[1;32m--> 699\u001B[1;33m             httplib_response = self._make_request(\n\u001B[0m\u001B[0;32m    700\u001B[0m                 \u001B[0mconn\u001B[0m\u001B[1;33m,\u001B[0m\u001B[1;33m\u001B[0m\u001B[1;33m\u001B[0m\u001B[0m\n\u001B[0;32m    701\u001B[0m                 \u001B[0mmethod\u001B[0m\u001B[1;33m,\u001B[0m\u001B[1;33m\u001B[0m\u001B[1;33m\u001B[0m\u001B[0m\n",
      "\u001B[1;32md:\\idan\\python\\genre_prediction_data_science\\venv\\lib\\site-packages\\urllib3\\connectionpool.py\u001B[0m in \u001B[0;36m_make_request\u001B[1;34m(self, conn, method, url, timeout, chunked, **httplib_request_kw)\u001B[0m\n\u001B[0;32m    443\u001B[0m                     \u001B[1;31m# Python 3 (including for exceptions like SystemExit).\u001B[0m\u001B[1;33m\u001B[0m\u001B[1;33m\u001B[0m\u001B[1;33m\u001B[0m\u001B[0m\n\u001B[0;32m    444\u001B[0m                     \u001B[1;31m# Otherwise it looks like a bug in the code.\u001B[0m\u001B[1;33m\u001B[0m\u001B[1;33m\u001B[0m\u001B[1;33m\u001B[0m\u001B[0m\n\u001B[1;32m--> 445\u001B[1;33m                     \u001B[0msix\u001B[0m\u001B[1;33m.\u001B[0m\u001B[0mraise_from\u001B[0m\u001B[1;33m(\u001B[0m\u001B[0me\u001B[0m\u001B[1;33m,\u001B[0m \u001B[1;32mNone\u001B[0m\u001B[1;33m)\u001B[0m\u001B[1;33m\u001B[0m\u001B[1;33m\u001B[0m\u001B[0m\n\u001B[0m\u001B[0;32m    446\u001B[0m         \u001B[1;32mexcept\u001B[0m \u001B[1;33m(\u001B[0m\u001B[0mSocketTimeout\u001B[0m\u001B[1;33m,\u001B[0m \u001B[0mBaseSSLError\u001B[0m\u001B[1;33m,\u001B[0m \u001B[0mSocketError\u001B[0m\u001B[1;33m)\u001B[0m \u001B[1;32mas\u001B[0m \u001B[0me\u001B[0m\u001B[1;33m:\u001B[0m\u001B[1;33m\u001B[0m\u001B[1;33m\u001B[0m\u001B[0m\n\u001B[0;32m    447\u001B[0m             \u001B[0mself\u001B[0m\u001B[1;33m.\u001B[0m\u001B[0m_raise_timeout\u001B[0m\u001B[1;33m(\u001B[0m\u001B[0merr\u001B[0m\u001B[1;33m=\u001B[0m\u001B[0me\u001B[0m\u001B[1;33m,\u001B[0m \u001B[0murl\u001B[0m\u001B[1;33m=\u001B[0m\u001B[0murl\u001B[0m\u001B[1;33m,\u001B[0m \u001B[0mtimeout_value\u001B[0m\u001B[1;33m=\u001B[0m\u001B[0mread_timeout\u001B[0m\u001B[1;33m)\u001B[0m\u001B[1;33m\u001B[0m\u001B[1;33m\u001B[0m\u001B[0m\n",
      "\u001B[1;32md:\\idan\\python\\genre_prediction_data_science\\venv\\lib\\site-packages\\urllib3\\packages\\six.py\u001B[0m in \u001B[0;36mraise_from\u001B[1;34m(value, from_value)\u001B[0m\n",
      "\u001B[1;32md:\\idan\\python\\genre_prediction_data_science\\venv\\lib\\site-packages\\urllib3\\connectionpool.py\u001B[0m in \u001B[0;36m_make_request\u001B[1;34m(self, conn, method, url, timeout, chunked, **httplib_request_kw)\u001B[0m\n\u001B[0;32m    438\u001B[0m                 \u001B[1;31m# Python 3\u001B[0m\u001B[1;33m\u001B[0m\u001B[1;33m\u001B[0m\u001B[1;33m\u001B[0m\u001B[0m\n\u001B[0;32m    439\u001B[0m                 \u001B[1;32mtry\u001B[0m\u001B[1;33m:\u001B[0m\u001B[1;33m\u001B[0m\u001B[1;33m\u001B[0m\u001B[0m\n\u001B[1;32m--> 440\u001B[1;33m                     \u001B[0mhttplib_response\u001B[0m \u001B[1;33m=\u001B[0m \u001B[0mconn\u001B[0m\u001B[1;33m.\u001B[0m\u001B[0mgetresponse\u001B[0m\u001B[1;33m(\u001B[0m\u001B[1;33m)\u001B[0m\u001B[1;33m\u001B[0m\u001B[1;33m\u001B[0m\u001B[0m\n\u001B[0m\u001B[0;32m    441\u001B[0m                 \u001B[1;32mexcept\u001B[0m \u001B[0mBaseException\u001B[0m \u001B[1;32mas\u001B[0m \u001B[0me\u001B[0m\u001B[1;33m:\u001B[0m\u001B[1;33m\u001B[0m\u001B[1;33m\u001B[0m\u001B[0m\n\u001B[0;32m    442\u001B[0m                     \u001B[1;31m# Remove the TypeError from the exception chain in\u001B[0m\u001B[1;33m\u001B[0m\u001B[1;33m\u001B[0m\u001B[1;33m\u001B[0m\u001B[0m\n",
      "\u001B[1;32mC:\\Program Files\\Python39\\lib\\http\\client.py\u001B[0m in \u001B[0;36mgetresponse\u001B[1;34m(self)\u001B[0m\n\u001B[0;32m   1345\u001B[0m         \u001B[1;32mtry\u001B[0m\u001B[1;33m:\u001B[0m\u001B[1;33m\u001B[0m\u001B[1;33m\u001B[0m\u001B[0m\n\u001B[0;32m   1346\u001B[0m             \u001B[1;32mtry\u001B[0m\u001B[1;33m:\u001B[0m\u001B[1;33m\u001B[0m\u001B[1;33m\u001B[0m\u001B[0m\n\u001B[1;32m-> 1347\u001B[1;33m                 \u001B[0mresponse\u001B[0m\u001B[1;33m.\u001B[0m\u001B[0mbegin\u001B[0m\u001B[1;33m(\u001B[0m\u001B[1;33m)\u001B[0m\u001B[1;33m\u001B[0m\u001B[1;33m\u001B[0m\u001B[0m\n\u001B[0m\u001B[0;32m   1348\u001B[0m             \u001B[1;32mexcept\u001B[0m \u001B[0mConnectionError\u001B[0m\u001B[1;33m:\u001B[0m\u001B[1;33m\u001B[0m\u001B[1;33m\u001B[0m\u001B[0m\n\u001B[0;32m   1349\u001B[0m                 \u001B[0mself\u001B[0m\u001B[1;33m.\u001B[0m\u001B[0mclose\u001B[0m\u001B[1;33m(\u001B[0m\u001B[1;33m)\u001B[0m\u001B[1;33m\u001B[0m\u001B[1;33m\u001B[0m\u001B[0m\n",
      "\u001B[1;32mC:\\Program Files\\Python39\\lib\\http\\client.py\u001B[0m in \u001B[0;36mbegin\u001B[1;34m(self)\u001B[0m\n\u001B[0;32m    305\u001B[0m         \u001B[1;31m# read until we get a non-100 response\u001B[0m\u001B[1;33m\u001B[0m\u001B[1;33m\u001B[0m\u001B[1;33m\u001B[0m\u001B[0m\n\u001B[0;32m    306\u001B[0m         \u001B[1;32mwhile\u001B[0m \u001B[1;32mTrue\u001B[0m\u001B[1;33m:\u001B[0m\u001B[1;33m\u001B[0m\u001B[1;33m\u001B[0m\u001B[0m\n\u001B[1;32m--> 307\u001B[1;33m             \u001B[0mversion\u001B[0m\u001B[1;33m,\u001B[0m \u001B[0mstatus\u001B[0m\u001B[1;33m,\u001B[0m \u001B[0mreason\u001B[0m \u001B[1;33m=\u001B[0m \u001B[0mself\u001B[0m\u001B[1;33m.\u001B[0m\u001B[0m_read_status\u001B[0m\u001B[1;33m(\u001B[0m\u001B[1;33m)\u001B[0m\u001B[1;33m\u001B[0m\u001B[1;33m\u001B[0m\u001B[0m\n\u001B[0m\u001B[0;32m    308\u001B[0m             \u001B[1;32mif\u001B[0m \u001B[0mstatus\u001B[0m \u001B[1;33m!=\u001B[0m \u001B[0mCONTINUE\u001B[0m\u001B[1;33m:\u001B[0m\u001B[1;33m\u001B[0m\u001B[1;33m\u001B[0m\u001B[0m\n\u001B[0;32m    309\u001B[0m                 \u001B[1;32mbreak\u001B[0m\u001B[1;33m\u001B[0m\u001B[1;33m\u001B[0m\u001B[0m\n",
      "\u001B[1;32mC:\\Program Files\\Python39\\lib\\http\\client.py\u001B[0m in \u001B[0;36m_read_status\u001B[1;34m(self)\u001B[0m\n\u001B[0;32m    266\u001B[0m \u001B[1;33m\u001B[0m\u001B[0m\n\u001B[0;32m    267\u001B[0m     \u001B[1;32mdef\u001B[0m \u001B[0m_read_status\u001B[0m\u001B[1;33m(\u001B[0m\u001B[0mself\u001B[0m\u001B[1;33m)\u001B[0m\u001B[1;33m:\u001B[0m\u001B[1;33m\u001B[0m\u001B[1;33m\u001B[0m\u001B[0m\n\u001B[1;32m--> 268\u001B[1;33m         \u001B[0mline\u001B[0m \u001B[1;33m=\u001B[0m \u001B[0mstr\u001B[0m\u001B[1;33m(\u001B[0m\u001B[0mself\u001B[0m\u001B[1;33m.\u001B[0m\u001B[0mfp\u001B[0m\u001B[1;33m.\u001B[0m\u001B[0mreadline\u001B[0m\u001B[1;33m(\u001B[0m\u001B[0m_MAXLINE\u001B[0m \u001B[1;33m+\u001B[0m \u001B[1;36m1\u001B[0m\u001B[1;33m)\u001B[0m\u001B[1;33m,\u001B[0m \u001B[1;34m\"iso-8859-1\"\u001B[0m\u001B[1;33m)\u001B[0m\u001B[1;33m\u001B[0m\u001B[1;33m\u001B[0m\u001B[0m\n\u001B[0m\u001B[0;32m    269\u001B[0m         \u001B[1;32mif\u001B[0m \u001B[0mlen\u001B[0m\u001B[1;33m(\u001B[0m\u001B[0mline\u001B[0m\u001B[1;33m)\u001B[0m \u001B[1;33m>\u001B[0m \u001B[0m_MAXLINE\u001B[0m\u001B[1;33m:\u001B[0m\u001B[1;33m\u001B[0m\u001B[1;33m\u001B[0m\u001B[0m\n\u001B[0;32m    270\u001B[0m             \u001B[1;32mraise\u001B[0m \u001B[0mLineTooLong\u001B[0m\u001B[1;33m(\u001B[0m\u001B[1;34m\"status line\"\u001B[0m\u001B[1;33m)\u001B[0m\u001B[1;33m\u001B[0m\u001B[1;33m\u001B[0m\u001B[0m\n",
      "\u001B[1;32mC:\\Program Files\\Python39\\lib\\socket.py\u001B[0m in \u001B[0;36mreadinto\u001B[1;34m(self, b)\u001B[0m\n\u001B[0;32m    702\u001B[0m         \u001B[1;32mwhile\u001B[0m \u001B[1;32mTrue\u001B[0m\u001B[1;33m:\u001B[0m\u001B[1;33m\u001B[0m\u001B[1;33m\u001B[0m\u001B[0m\n\u001B[0;32m    703\u001B[0m             \u001B[1;32mtry\u001B[0m\u001B[1;33m:\u001B[0m\u001B[1;33m\u001B[0m\u001B[1;33m\u001B[0m\u001B[0m\n\u001B[1;32m--> 704\u001B[1;33m                 \u001B[1;32mreturn\u001B[0m \u001B[0mself\u001B[0m\u001B[1;33m.\u001B[0m\u001B[0m_sock\u001B[0m\u001B[1;33m.\u001B[0m\u001B[0mrecv_into\u001B[0m\u001B[1;33m(\u001B[0m\u001B[0mb\u001B[0m\u001B[1;33m)\u001B[0m\u001B[1;33m\u001B[0m\u001B[1;33m\u001B[0m\u001B[0m\n\u001B[0m\u001B[0;32m    705\u001B[0m             \u001B[1;32mexcept\u001B[0m \u001B[0mtimeout\u001B[0m\u001B[1;33m:\u001B[0m\u001B[1;33m\u001B[0m\u001B[1;33m\u001B[0m\u001B[0m\n\u001B[0;32m    706\u001B[0m                 \u001B[0mself\u001B[0m\u001B[1;33m.\u001B[0m\u001B[0m_timeout_occurred\u001B[0m \u001B[1;33m=\u001B[0m \u001B[1;32mTrue\u001B[0m\u001B[1;33m\u001B[0m\u001B[1;33m\u001B[0m\u001B[0m\n",
      "\u001B[1;32mC:\\Program Files\\Python39\\lib\\ssl.py\u001B[0m in \u001B[0;36mrecv_into\u001B[1;34m(self, buffer, nbytes, flags)\u001B[0m\n\u001B[0;32m   1239\u001B[0m                   \u001B[1;34m\"non-zero flags not allowed in calls to recv_into() on %s\"\u001B[0m \u001B[1;33m%\u001B[0m\u001B[1;33m\u001B[0m\u001B[1;33m\u001B[0m\u001B[0m\n\u001B[0;32m   1240\u001B[0m                   self.__class__)\n\u001B[1;32m-> 1241\u001B[1;33m             \u001B[1;32mreturn\u001B[0m \u001B[0mself\u001B[0m\u001B[1;33m.\u001B[0m\u001B[0mread\u001B[0m\u001B[1;33m(\u001B[0m\u001B[0mnbytes\u001B[0m\u001B[1;33m,\u001B[0m \u001B[0mbuffer\u001B[0m\u001B[1;33m)\u001B[0m\u001B[1;33m\u001B[0m\u001B[1;33m\u001B[0m\u001B[0m\n\u001B[0m\u001B[0;32m   1242\u001B[0m         \u001B[1;32melse\u001B[0m\u001B[1;33m:\u001B[0m\u001B[1;33m\u001B[0m\u001B[1;33m\u001B[0m\u001B[0m\n\u001B[0;32m   1243\u001B[0m             \u001B[1;32mreturn\u001B[0m \u001B[0msuper\u001B[0m\u001B[1;33m(\u001B[0m\u001B[1;33m)\u001B[0m\u001B[1;33m.\u001B[0m\u001B[0mrecv_into\u001B[0m\u001B[1;33m(\u001B[0m\u001B[0mbuffer\u001B[0m\u001B[1;33m,\u001B[0m \u001B[0mnbytes\u001B[0m\u001B[1;33m,\u001B[0m \u001B[0mflags\u001B[0m\u001B[1;33m)\u001B[0m\u001B[1;33m\u001B[0m\u001B[1;33m\u001B[0m\u001B[0m\n",
      "\u001B[1;32mC:\\Program Files\\Python39\\lib\\ssl.py\u001B[0m in \u001B[0;36mread\u001B[1;34m(self, len, buffer)\u001B[0m\n\u001B[0;32m   1097\u001B[0m         \u001B[1;32mtry\u001B[0m\u001B[1;33m:\u001B[0m\u001B[1;33m\u001B[0m\u001B[1;33m\u001B[0m\u001B[0m\n\u001B[0;32m   1098\u001B[0m             \u001B[1;32mif\u001B[0m \u001B[0mbuffer\u001B[0m \u001B[1;32mis\u001B[0m \u001B[1;32mnot\u001B[0m \u001B[1;32mNone\u001B[0m\u001B[1;33m:\u001B[0m\u001B[1;33m\u001B[0m\u001B[1;33m\u001B[0m\u001B[0m\n\u001B[1;32m-> 1099\u001B[1;33m                 \u001B[1;32mreturn\u001B[0m \u001B[0mself\u001B[0m\u001B[1;33m.\u001B[0m\u001B[0m_sslobj\u001B[0m\u001B[1;33m.\u001B[0m\u001B[0mread\u001B[0m\u001B[1;33m(\u001B[0m\u001B[0mlen\u001B[0m\u001B[1;33m,\u001B[0m \u001B[0mbuffer\u001B[0m\u001B[1;33m)\u001B[0m\u001B[1;33m\u001B[0m\u001B[1;33m\u001B[0m\u001B[0m\n\u001B[0m\u001B[0;32m   1100\u001B[0m             \u001B[1;32melse\u001B[0m\u001B[1;33m:\u001B[0m\u001B[1;33m\u001B[0m\u001B[1;33m\u001B[0m\u001B[0m\n\u001B[0;32m   1101\u001B[0m                 \u001B[1;32mreturn\u001B[0m \u001B[0mself\u001B[0m\u001B[1;33m.\u001B[0m\u001B[0m_sslobj\u001B[0m\u001B[1;33m.\u001B[0m\u001B[0mread\u001B[0m\u001B[1;33m(\u001B[0m\u001B[0mlen\u001B[0m\u001B[1;33m)\u001B[0m\u001B[1;33m\u001B[0m\u001B[1;33m\u001B[0m\u001B[0m\n",
      "\u001B[1;31mKeyboardInterrupt\u001B[0m: "
     ]
    }
   ],
   "source": [
    "#7\n",
    "from lyricsgenius import Genius\n",
    "from requests.exceptions import HTTPError, Timeout\n",
    "import numpy as np\n",
    "access_token='4YFskPytNjruMQGWk5r8-2pawxGEEFyEXgutDvSn43MrkYPoNiggZyHAlVqcm4nb'\n",
    "genius = Genius(access_token=access_token,retries=2)\n",
    "genius.remove_section_headers=True\n",
    "genius.skip_non_songs = True\n",
    "df[\"Lyrics\"]=''\n",
    "def addLyrics(row):\n",
    "    try:\n",
    "        song=genius.search_song(row[\"Title\"],row[\"Artist\"])\n",
    "        return song.lyrics\n",
    "    except HTTPError as e:\n",
    "        print(e.errno)    # status code\n",
    "        print(e.args[0])  # status code\n",
    "        print(e.args[1])  # error message\n",
    "        return np.nan\n",
    "    except Timeout:\n",
    "        print(\"TimeoutError\")\n",
    "        return np.nan\n",
    "    except Exception:\n",
    "        print(f'Failed to scarpe for {row[\"Artist\"]} {row[\"Title\"]}')\n",
    "        return np.nan\n",
    "df[\"Lyrics\"]=df.apply(lambda row: addLyrics(row),axis=1)\n",
    "#done with 7"
   ],
   "metadata": {
    "collapsed": false,
    "pycharm": {
     "name": "#%%\n"
    }
   }
  },
  {
   "cell_type": "code",
   "execution_count": null,
   "outputs": [],
   "source": [
    "#backup\n",
    "df.to_csv(\"df_clean.csv\")"
   ],
   "metadata": {
    "collapsed": false,
    "pycharm": {
     "name": "#%%\n"
    }
   }
  },
  {
   "cell_type": "code",
   "execution_count": 6,
   "outputs": [],
   "source": [
    "df=pd.read_csv(\"df_clean.csv\", index_col=0)\n",
    "# get rid of songs we couldn't find lyrics for..\n",
    "df.dropna(inplace=True)"
   ],
   "metadata": {
    "collapsed": false,
    "pycharm": {
     "name": "#%%\n"
    }
   }
  },
  {
   "cell_type": "code",
   "execution_count": 7,
   "outputs": [],
   "source": [
    "#8\n",
    "'''\n",
    "some lyrics scraped wrong like: \"\n",
    "'Most Popular Scribes\\n1,000,000+ views (14)\\n• \"GOOBA\" - 6ix9ine |\n",
    "4 million views+\\n• \"The Box\" -\\u2005Roddy\\u2005Ricch |\n",
    " 3,1\\u2005million views+\\n• \"cardigan\" - Taylor Swift\\u2005|\n",
    "\n",
    " so if we occur that the letter | and - ,is in the lyrics we'll mark it as NaN\n",
    "'''\n",
    "df.Lyrics=df.Lyrics.apply(lambda x: np.nan if x.count('|') > 5 else x)\n",
    "df.dropna(inplace=True)\n",
    "df.Lyrics=df.Lyrics.apply(lambda x: np.nan if x.count('-') > 5 else x)\n",
    "df.dropna(inplace=True)\n",
    "df.Lyrics=df.Lyrics.apply(lambda x: np.nan if x.count('\"') > 20 else x)\n",
    "df.dropna(inplace=True)"
   ],
   "metadata": {
    "collapsed": false,
    "pycharm": {
     "name": "#%%\n"
    }
   }
  },
  {
   "cell_type": "code",
   "execution_count": 8,
   "outputs": [],
   "source": [
    "df[\"Not_Formatted_Lyrics\"]=df.Lyrics\n",
    "\"\"\"Formatting the lyrics col\"\"\"\n",
    "import re\n",
    "df.Lyrics=df.Lyrics.apply(lambda x:' '.join(x.split()))\n",
    "df.Lyrics=df.Lyrics.apply(lambda x: x.lower())\n",
    "df.Lyrics=df.Lyrics.apply(lambda x: re.sub(r\"[^a-zA-Z'` ]+\", '', x))\n",
    "#done with 8"
   ],
   "metadata": {
    "collapsed": false,
    "pycharm": {
     "name": "#%%\n"
    }
   }
  },
  {
   "cell_type": "code",
   "execution_count": 9,
   "outputs": [
    {
     "data": {
      "text/plain": "        Genre                 Title        Artist  Explicit Length Scale  \\\n0        rock        into the storm        Gojira     False  05:02     D   \n1        rock  the sound of silence     Disturbed     False  04:08    F#   \n2        rock              amazonia        Gojira     False  05:00     A   \n3        rock         back in black         AC/DC     False  04:15     A   \n4        rock         another world        Gojira     False  04:24     G   \n...       ...                   ...           ...       ...    ...   ...   \n11394  hiphop       higher learning   Young Jeezy      True  03:44    G#   \n11395  hiphop         its goin down     Celly Cel     False  05:24    F#   \n11398  hiphop           let me know       Cam'Ron      True  04:14    F#   \n11401  hiphop                  beta   Tyson James     False  03:54     G   \n11402  hiphop        can't truss it  Public Enemy      True  05:21     B   \n\n         Key  BPM  Danceability  Positiveness  Liveness  Energy  speechness  \\\n0      Major  106            25            11        13      97           7   \n1      Minor   86            32            18        10      28           3   \n2      Major  182            38            51        24      95           4   \n3      Major  188            31            76         8      70           5   \n4      Minor  170            35            24        12      88           4   \n...      ...  ...           ...           ...       ...     ...         ...   \n11394  Minor   77            71            90        11      65          25   \n11395  Minor   75            82            78         4      50          23   \n11398  Major   92            75            69        35      79          33   \n11401  Major   89            73            58        28      57          45   \n11402  Major  102            80            61        13      87          14   \n\n      KeyScaled                                             Lyrics  \\\n0             D  go say something about awakening the rebellion...   \n1           F#m  hello darkness my old friend i've come to talk...   \n2             A  incite a riot put yourself in a trance you rot...   \n3             A  back in black i hit the sack i've been too lon...   \n4            Gm  we mock and slaughter all the purest kinds bli...   \n...         ...                                                ...   \n11394       G#m  i need some weed man somebody call the weed ma...   \n11395       F#m  it's goin' down tonight you know i gots to go ...   \n11398        F#  all my harlem niggas my bk niggas back uptown ...   \n11401         G  verse  topher oh boy catch me walking through ...   \n11402         B  confusion here come the drums alright alright ...   \n\n                                    Not_Formatted_Lyrics  \n0      Go\\r\\n\\r\\nSay something about awakening\\r\\nThe...  \n1      Hello darkness, my old friend\\r\\nI've come to ...  \n2      Incite a riot, put yourself in a trance\\r\\nYou...  \n3      Back in black, I hit the sack\\r\\nI've been too...  \n4      We mock and slaughter all the purest kinds\\r\\n...  \n...                                                  ...  \n11394  I need some weed man\\r\\nSomebody call the weed...  \n11395  It's goin' down tonight, you know I gots to go...  \n11398  All my harlem niggas my BK niggas\\r\\nBack upto...  \n11401  Verse 1 (Topher):\\r\\nOh boy\\r\\nCatch me walkin...  \n11402  (Confusion)\\r\\nHere come the drums\\r\\nAlright,...  \n\n[8706 rows x 16 columns]",
      "text/html": "<div>\n<style scoped>\n    .dataframe tbody tr th:only-of-type {\n        vertical-align: middle;\n    }\n\n    .dataframe tbody tr th {\n        vertical-align: top;\n    }\n\n    .dataframe thead th {\n        text-align: right;\n    }\n</style>\n<table border=\"1\" class=\"dataframe\">\n  <thead>\n    <tr style=\"text-align: right;\">\n      <th></th>\n      <th>Genre</th>\n      <th>Title</th>\n      <th>Artist</th>\n      <th>Explicit</th>\n      <th>Length</th>\n      <th>Scale</th>\n      <th>Key</th>\n      <th>BPM</th>\n      <th>Danceability</th>\n      <th>Positiveness</th>\n      <th>Liveness</th>\n      <th>Energy</th>\n      <th>speechness</th>\n      <th>KeyScaled</th>\n      <th>Lyrics</th>\n      <th>Not_Formatted_Lyrics</th>\n    </tr>\n  </thead>\n  <tbody>\n    <tr>\n      <th>0</th>\n      <td>rock</td>\n      <td>into the storm</td>\n      <td>Gojira</td>\n      <td>False</td>\n      <td>05:02</td>\n      <td>D</td>\n      <td>Major</td>\n      <td>106</td>\n      <td>25</td>\n      <td>11</td>\n      <td>13</td>\n      <td>97</td>\n      <td>7</td>\n      <td>D</td>\n      <td>go say something about awakening the rebellion...</td>\n      <td>Go\\r\\n\\r\\nSay something about awakening\\r\\nThe...</td>\n    </tr>\n    <tr>\n      <th>1</th>\n      <td>rock</td>\n      <td>the sound of silence</td>\n      <td>Disturbed</td>\n      <td>False</td>\n      <td>04:08</td>\n      <td>F#</td>\n      <td>Minor</td>\n      <td>86</td>\n      <td>32</td>\n      <td>18</td>\n      <td>10</td>\n      <td>28</td>\n      <td>3</td>\n      <td>F#m</td>\n      <td>hello darkness my old friend i've come to talk...</td>\n      <td>Hello darkness, my old friend\\r\\nI've come to ...</td>\n    </tr>\n    <tr>\n      <th>2</th>\n      <td>rock</td>\n      <td>amazonia</td>\n      <td>Gojira</td>\n      <td>False</td>\n      <td>05:00</td>\n      <td>A</td>\n      <td>Major</td>\n      <td>182</td>\n      <td>38</td>\n      <td>51</td>\n      <td>24</td>\n      <td>95</td>\n      <td>4</td>\n      <td>A</td>\n      <td>incite a riot put yourself in a trance you rot...</td>\n      <td>Incite a riot, put yourself in a trance\\r\\nYou...</td>\n    </tr>\n    <tr>\n      <th>3</th>\n      <td>rock</td>\n      <td>back in black</td>\n      <td>AC/DC</td>\n      <td>False</td>\n      <td>04:15</td>\n      <td>A</td>\n      <td>Major</td>\n      <td>188</td>\n      <td>31</td>\n      <td>76</td>\n      <td>8</td>\n      <td>70</td>\n      <td>5</td>\n      <td>A</td>\n      <td>back in black i hit the sack i've been too lon...</td>\n      <td>Back in black, I hit the sack\\r\\nI've been too...</td>\n    </tr>\n    <tr>\n      <th>4</th>\n      <td>rock</td>\n      <td>another world</td>\n      <td>Gojira</td>\n      <td>False</td>\n      <td>04:24</td>\n      <td>G</td>\n      <td>Minor</td>\n      <td>170</td>\n      <td>35</td>\n      <td>24</td>\n      <td>12</td>\n      <td>88</td>\n      <td>4</td>\n      <td>Gm</td>\n      <td>we mock and slaughter all the purest kinds bli...</td>\n      <td>We mock and slaughter all the purest kinds\\r\\n...</td>\n    </tr>\n    <tr>\n      <th>...</th>\n      <td>...</td>\n      <td>...</td>\n      <td>...</td>\n      <td>...</td>\n      <td>...</td>\n      <td>...</td>\n      <td>...</td>\n      <td>...</td>\n      <td>...</td>\n      <td>...</td>\n      <td>...</td>\n      <td>...</td>\n      <td>...</td>\n      <td>...</td>\n      <td>...</td>\n      <td>...</td>\n    </tr>\n    <tr>\n      <th>11394</th>\n      <td>hiphop</td>\n      <td>higher learning</td>\n      <td>Young Jeezy</td>\n      <td>True</td>\n      <td>03:44</td>\n      <td>G#</td>\n      <td>Minor</td>\n      <td>77</td>\n      <td>71</td>\n      <td>90</td>\n      <td>11</td>\n      <td>65</td>\n      <td>25</td>\n      <td>G#m</td>\n      <td>i need some weed man somebody call the weed ma...</td>\n      <td>I need some weed man\\r\\nSomebody call the weed...</td>\n    </tr>\n    <tr>\n      <th>11395</th>\n      <td>hiphop</td>\n      <td>its goin down</td>\n      <td>Celly Cel</td>\n      <td>False</td>\n      <td>05:24</td>\n      <td>F#</td>\n      <td>Minor</td>\n      <td>75</td>\n      <td>82</td>\n      <td>78</td>\n      <td>4</td>\n      <td>50</td>\n      <td>23</td>\n      <td>F#m</td>\n      <td>it's goin' down tonight you know i gots to go ...</td>\n      <td>It's goin' down tonight, you know I gots to go...</td>\n    </tr>\n    <tr>\n      <th>11398</th>\n      <td>hiphop</td>\n      <td>let me know</td>\n      <td>Cam'Ron</td>\n      <td>True</td>\n      <td>04:14</td>\n      <td>F#</td>\n      <td>Major</td>\n      <td>92</td>\n      <td>75</td>\n      <td>69</td>\n      <td>35</td>\n      <td>79</td>\n      <td>33</td>\n      <td>F#</td>\n      <td>all my harlem niggas my bk niggas back uptown ...</td>\n      <td>All my harlem niggas my BK niggas\\r\\nBack upto...</td>\n    </tr>\n    <tr>\n      <th>11401</th>\n      <td>hiphop</td>\n      <td>beta</td>\n      <td>Tyson James</td>\n      <td>False</td>\n      <td>03:54</td>\n      <td>G</td>\n      <td>Major</td>\n      <td>89</td>\n      <td>73</td>\n      <td>58</td>\n      <td>28</td>\n      <td>57</td>\n      <td>45</td>\n      <td>G</td>\n      <td>verse  topher oh boy catch me walking through ...</td>\n      <td>Verse 1 (Topher):\\r\\nOh boy\\r\\nCatch me walkin...</td>\n    </tr>\n    <tr>\n      <th>11402</th>\n      <td>hiphop</td>\n      <td>can't truss it</td>\n      <td>Public Enemy</td>\n      <td>True</td>\n      <td>05:21</td>\n      <td>B</td>\n      <td>Major</td>\n      <td>102</td>\n      <td>80</td>\n      <td>61</td>\n      <td>13</td>\n      <td>87</td>\n      <td>14</td>\n      <td>B</td>\n      <td>confusion here come the drums alright alright ...</td>\n      <td>(Confusion)\\r\\nHere come the drums\\r\\nAlright,...</td>\n    </tr>\n  </tbody>\n</table>\n<p>8706 rows × 16 columns</p>\n</div>"
     },
     "execution_count": 9,
     "metadata": {},
     "output_type": "execute_result"
    }
   ],
   "source": [
    "df\n",
    "#forgot to format the Length"
   ],
   "metadata": {
    "collapsed": false,
    "pycharm": {
     "name": "#%%\n"
    }
   }
  },
  {
   "cell_type": "code",
   "execution_count": 10,
   "outputs": [],
   "source": [
    "df.Length=df.Length.apply(lambda x: x.replace(\":\",\".\"))\n"
   ],
   "metadata": {
    "collapsed": false,
    "pycharm": {
     "name": "#%%\n"
    }
   }
  },
  {
   "cell_type": "code",
   "execution_count": 11,
   "outputs": [
    {
     "data": {
      "text/plain": "Genre                   object\nTitle                   object\nArtist                  object\nExplicit                  bool\nLength                  object\nScale                   object\nKey                     object\nBPM                      int64\nDanceability             int64\nPositiveness             int64\nLiveness                 int64\nEnergy                   int64\nspeechness               int64\nKeyScaled               object\nLyrics                  object\nNot_Formatted_Lyrics    object\ndtype: object"
     },
     "execution_count": 11,
     "metadata": {},
     "output_type": "execute_result"
    }
   ],
   "source": [
    "df.dtypes"
   ],
   "metadata": {
    "collapsed": false,
    "pycharm": {
     "name": "#%%\n"
    }
   }
  },
  {
   "cell_type": "code",
   "execution_count": 12,
   "outputs": [],
   "source": [
    "df=df.astype({\"Length\":'float',\n",
    "                  \"BPM\":\"int64\",\"Danceability\":\"int64\",\"Positiveness\":\"int64\",\n",
    "                  \"Liveness\":\"int64\",\"Energy\":\"int64\",\"speechness\":\"int64\"},errors='ignore')"
   ],
   "metadata": {
    "collapsed": false,
    "pycharm": {
     "name": "#%%\n"
    }
   }
  },
  {
   "cell_type": "code",
   "execution_count": null,
   "outputs": [],
   "source": [
    "\"\"\"\n",
    "find the longest row of each song:\n",
    "in the not formatted lyrics, each line ends with \\r\\n.\n",
    "\"\"\"\n",
    "def longest_line(lyrics):\n",
    "    max=0\n",
    "    for line in lyrics.split(\"\\r\\n\"):\n",
    "        max = len(line) if len(line) > max else max\n",
    "    return max\n",
    "df[\"Longest_Line\"] = df[\"Not_Formatted_Lyrics\"].apply(lambda x: longest_line(x))\n",
    "df.head()"
   ],
   "metadata": {
    "collapsed": false,
    "pycharm": {
     "name": "#%%\n"
    }
   }
  },
  {
   "cell_type": "code",
   "execution_count": null,
   "outputs": [],
   "source": [
    "\"\"\"\n",
    "Song length per words\n",
    "\"\"\"\n",
    "df[\"Length_Words_Ratio\"]=df.Lyrics_Length/df.Length\n",
    "df.head()"
   ],
   "metadata": {
    "collapsed": false,
    "pycharm": {
     "name": "#%%\n"
    }
   }
  },
  {
   "cell_type": "code",
   "execution_count": 13,
   "outputs": [],
   "source": [
    "df.to_csv(\"final_clean_df.csv\")\n"
   ],
   "metadata": {
    "collapsed": false,
    "pycharm": {
     "name": "#%%\n"
    }
   }
  },
  {
   "cell_type": "code",
   "execution_count": 14,
   "outputs": [
    {
     "data": {
      "text/plain": "        Genre                 Title        Artist  Explicit  Length Scale  \\\n0        rock        into the storm        Gojira     False    5.02     D   \n1        rock  the sound of silence     Disturbed     False    4.08    F#   \n2        rock              amazonia        Gojira     False    5.00     A   \n3        rock         back in black         AC/DC     False    4.15     A   \n4        rock         another world        Gojira     False    4.24     G   \n...       ...                   ...           ...       ...     ...   ...   \n11394  hiphop       higher learning   Young Jeezy      True    3.44    G#   \n11395  hiphop         its goin down     Celly Cel     False    5.24    F#   \n11398  hiphop           let me know       Cam'Ron      True    4.14    F#   \n11401  hiphop                  beta   Tyson James     False    3.54     G   \n11402  hiphop        can't truss it  Public Enemy      True    5.21     B   \n\n         Key  BPM  Danceability  Positiveness  Liveness  Energy  speechness  \\\n0      Major  106            25            11        13      97           7   \n1      Minor   86            32            18        10      28           3   \n2      Major  182            38            51        24      95           4   \n3      Major  188            31            76         8      70           5   \n4      Minor  170            35            24        12      88           4   \n...      ...  ...           ...           ...       ...     ...         ...   \n11394  Minor   77            71            90        11      65          25   \n11395  Minor   75            82            78         4      50          23   \n11398  Major   92            75            69        35      79          33   \n11401  Major   89            73            58        28      57          45   \n11402  Major  102            80            61        13      87          14   \n\n      KeyScaled                                             Lyrics  \\\n0             D  go say something about awakening the rebellion...   \n1           F#m  hello darkness my old friend i've come to talk...   \n2             A  incite a riot put yourself in a trance you rot...   \n3             A  back in black i hit the sack i've been too lon...   \n4            Gm  we mock and slaughter all the purest kinds bli...   \n...         ...                                                ...   \n11394       G#m  i need some weed man somebody call the weed ma...   \n11395       F#m  it's goin' down tonight you know i gots to go ...   \n11398        F#  all my harlem niggas my bk niggas back uptown ...   \n11401         G  verse  topher oh boy catch me walking through ...   \n11402         B  confusion here come the drums alright alright ...   \n\n                                    Not_Formatted_Lyrics  \n0      Go\\r\\n\\r\\nSay something about awakening\\r\\nThe...  \n1      Hello darkness, my old friend\\r\\nI've come to ...  \n2      Incite a riot, put yourself in a trance\\r\\nYou...  \n3      Back in black, I hit the sack\\r\\nI've been too...  \n4      We mock and slaughter all the purest kinds\\r\\n...  \n...                                                  ...  \n11394  I need some weed man\\r\\nSomebody call the weed...  \n11395  It's goin' down tonight, you know I gots to go...  \n11398  All my harlem niggas my BK niggas\\r\\nBack upto...  \n11401  Verse 1 (Topher):\\r\\nOh boy\\r\\nCatch me walkin...  \n11402  (Confusion)\\r\\nHere come the drums\\r\\nAlright,...  \n\n[8706 rows x 16 columns]",
      "text/html": "<div>\n<style scoped>\n    .dataframe tbody tr th:only-of-type {\n        vertical-align: middle;\n    }\n\n    .dataframe tbody tr th {\n        vertical-align: top;\n    }\n\n    .dataframe thead th {\n        text-align: right;\n    }\n</style>\n<table border=\"1\" class=\"dataframe\">\n  <thead>\n    <tr style=\"text-align: right;\">\n      <th></th>\n      <th>Genre</th>\n      <th>Title</th>\n      <th>Artist</th>\n      <th>Explicit</th>\n      <th>Length</th>\n      <th>Scale</th>\n      <th>Key</th>\n      <th>BPM</th>\n      <th>Danceability</th>\n      <th>Positiveness</th>\n      <th>Liveness</th>\n      <th>Energy</th>\n      <th>speechness</th>\n      <th>KeyScaled</th>\n      <th>Lyrics</th>\n      <th>Not_Formatted_Lyrics</th>\n    </tr>\n  </thead>\n  <tbody>\n    <tr>\n      <th>0</th>\n      <td>rock</td>\n      <td>into the storm</td>\n      <td>Gojira</td>\n      <td>False</td>\n      <td>5.02</td>\n      <td>D</td>\n      <td>Major</td>\n      <td>106</td>\n      <td>25</td>\n      <td>11</td>\n      <td>13</td>\n      <td>97</td>\n      <td>7</td>\n      <td>D</td>\n      <td>go say something about awakening the rebellion...</td>\n      <td>Go\\r\\n\\r\\nSay something about awakening\\r\\nThe...</td>\n    </tr>\n    <tr>\n      <th>1</th>\n      <td>rock</td>\n      <td>the sound of silence</td>\n      <td>Disturbed</td>\n      <td>False</td>\n      <td>4.08</td>\n      <td>F#</td>\n      <td>Minor</td>\n      <td>86</td>\n      <td>32</td>\n      <td>18</td>\n      <td>10</td>\n      <td>28</td>\n      <td>3</td>\n      <td>F#m</td>\n      <td>hello darkness my old friend i've come to talk...</td>\n      <td>Hello darkness, my old friend\\r\\nI've come to ...</td>\n    </tr>\n    <tr>\n      <th>2</th>\n      <td>rock</td>\n      <td>amazonia</td>\n      <td>Gojira</td>\n      <td>False</td>\n      <td>5.00</td>\n      <td>A</td>\n      <td>Major</td>\n      <td>182</td>\n      <td>38</td>\n      <td>51</td>\n      <td>24</td>\n      <td>95</td>\n      <td>4</td>\n      <td>A</td>\n      <td>incite a riot put yourself in a trance you rot...</td>\n      <td>Incite a riot, put yourself in a trance\\r\\nYou...</td>\n    </tr>\n    <tr>\n      <th>3</th>\n      <td>rock</td>\n      <td>back in black</td>\n      <td>AC/DC</td>\n      <td>False</td>\n      <td>4.15</td>\n      <td>A</td>\n      <td>Major</td>\n      <td>188</td>\n      <td>31</td>\n      <td>76</td>\n      <td>8</td>\n      <td>70</td>\n      <td>5</td>\n      <td>A</td>\n      <td>back in black i hit the sack i've been too lon...</td>\n      <td>Back in black, I hit the sack\\r\\nI've been too...</td>\n    </tr>\n    <tr>\n      <th>4</th>\n      <td>rock</td>\n      <td>another world</td>\n      <td>Gojira</td>\n      <td>False</td>\n      <td>4.24</td>\n      <td>G</td>\n      <td>Minor</td>\n      <td>170</td>\n      <td>35</td>\n      <td>24</td>\n      <td>12</td>\n      <td>88</td>\n      <td>4</td>\n      <td>Gm</td>\n      <td>we mock and slaughter all the purest kinds bli...</td>\n      <td>We mock and slaughter all the purest kinds\\r\\n...</td>\n    </tr>\n    <tr>\n      <th>...</th>\n      <td>...</td>\n      <td>...</td>\n      <td>...</td>\n      <td>...</td>\n      <td>...</td>\n      <td>...</td>\n      <td>...</td>\n      <td>...</td>\n      <td>...</td>\n      <td>...</td>\n      <td>...</td>\n      <td>...</td>\n      <td>...</td>\n      <td>...</td>\n      <td>...</td>\n      <td>...</td>\n    </tr>\n    <tr>\n      <th>11394</th>\n      <td>hiphop</td>\n      <td>higher learning</td>\n      <td>Young Jeezy</td>\n      <td>True</td>\n      <td>3.44</td>\n      <td>G#</td>\n      <td>Minor</td>\n      <td>77</td>\n      <td>71</td>\n      <td>90</td>\n      <td>11</td>\n      <td>65</td>\n      <td>25</td>\n      <td>G#m</td>\n      <td>i need some weed man somebody call the weed ma...</td>\n      <td>I need some weed man\\r\\nSomebody call the weed...</td>\n    </tr>\n    <tr>\n      <th>11395</th>\n      <td>hiphop</td>\n      <td>its goin down</td>\n      <td>Celly Cel</td>\n      <td>False</td>\n      <td>5.24</td>\n      <td>F#</td>\n      <td>Minor</td>\n      <td>75</td>\n      <td>82</td>\n      <td>78</td>\n      <td>4</td>\n      <td>50</td>\n      <td>23</td>\n      <td>F#m</td>\n      <td>it's goin' down tonight you know i gots to go ...</td>\n      <td>It's goin' down tonight, you know I gots to go...</td>\n    </tr>\n    <tr>\n      <th>11398</th>\n      <td>hiphop</td>\n      <td>let me know</td>\n      <td>Cam'Ron</td>\n      <td>True</td>\n      <td>4.14</td>\n      <td>F#</td>\n      <td>Major</td>\n      <td>92</td>\n      <td>75</td>\n      <td>69</td>\n      <td>35</td>\n      <td>79</td>\n      <td>33</td>\n      <td>F#</td>\n      <td>all my harlem niggas my bk niggas back uptown ...</td>\n      <td>All my harlem niggas my BK niggas\\r\\nBack upto...</td>\n    </tr>\n    <tr>\n      <th>11401</th>\n      <td>hiphop</td>\n      <td>beta</td>\n      <td>Tyson James</td>\n      <td>False</td>\n      <td>3.54</td>\n      <td>G</td>\n      <td>Major</td>\n      <td>89</td>\n      <td>73</td>\n      <td>58</td>\n      <td>28</td>\n      <td>57</td>\n      <td>45</td>\n      <td>G</td>\n      <td>verse  topher oh boy catch me walking through ...</td>\n      <td>Verse 1 (Topher):\\r\\nOh boy\\r\\nCatch me walkin...</td>\n    </tr>\n    <tr>\n      <th>11402</th>\n      <td>hiphop</td>\n      <td>can't truss it</td>\n      <td>Public Enemy</td>\n      <td>True</td>\n      <td>5.21</td>\n      <td>B</td>\n      <td>Major</td>\n      <td>102</td>\n      <td>80</td>\n      <td>61</td>\n      <td>13</td>\n      <td>87</td>\n      <td>14</td>\n      <td>B</td>\n      <td>confusion here come the drums alright alright ...</td>\n      <td>(Confusion)\\r\\nHere come the drums\\r\\nAlright,...</td>\n    </tr>\n  </tbody>\n</table>\n<p>8706 rows × 16 columns</p>\n</div>"
     },
     "execution_count": 14,
     "metadata": {},
     "output_type": "execute_result"
    }
   ],
   "source": [
    "df"
   ],
   "metadata": {
    "collapsed": false,
    "pycharm": {
     "name": "#%%\n"
    }
   }
  },
  {
   "cell_type": "code",
   "execution_count": null,
   "outputs": [],
   "source": [],
   "metadata": {
    "collapsed": false,
    "pycharm": {
     "name": "#%%\n"
    }
   }
  }
 ],
 "metadata": {
  "kernelspec": {
   "display_name": "Python 3",
   "language": "python",
   "name": "python3"
  },
  "language_info": {
   "codemirror_mode": {
    "name": "ipython",
    "version": 2
   },
   "file_extension": ".py",
   "mimetype": "text/x-python",
   "name": "python",
   "nbconvert_exporter": "python",
   "pygments_lexer": "ipython2",
   "version": "2.7.6"
  }
 },
 "nbformat": 4,
 "nbformat_minor": 0
}