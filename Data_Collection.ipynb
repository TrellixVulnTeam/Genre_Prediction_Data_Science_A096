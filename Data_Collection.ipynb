{
 "cells": [
  {
   "cell_type": "code",
   "execution_count": 1,
   "metadata": {
    "collapsed": true
   },
   "outputs": [],
   "source": [
    "import pandas as pd\n",
    "from amzn_songs import amazon_get_songs"
   ]
  },
  {
   "cell_type": "code",
   "execution_count": 2,
   "outputs": [
    {
     "name": "stdout",
     "output_type": "stream",
     "text": [
      "Starting to scrape for rock with the user agent: Mozilla/5.0 (Macintosh; Intel Mac OS X 10_9_2) AppleWebKit/537.36 (KHTML, like Gecko) Chrome/36.0.1944.0 Safari/537.36\n",
      "Successfuly scraped 80 songs for rock\n",
      "\n",
      "Starting to scrape for pop with the user agent: Mozilla/5.0 (Windows NT 6.2) AppleWebKit/537.36 (KHTML, like Gecko) Chrome/28.0.1467.0 Safari/537.36\n",
      "Successfuly scraped 80 songs for pop\n",
      "\n",
      "Starting to scrape for country with the user agent: Mozilla/5.0 (Windows NT 6.2; WOW64) AppleWebKit/537.36 (KHTML like Gecko) Chrome/44.0.2403.155 Safari/537.36\n",
      "Successfuly scraped 80 songs for country\n",
      "\n",
      "Starting to scrape for hiphop with the user agent: Mozilla/5.0 (X11; Linux x86_64) AppleWebKit/537.36 (KHTML, like Gecko) Chrome/41.0.2227.0 Safari/537.36\n",
      "Successfuly scraped 80 songs for hiphop\n",
      "\n"
     ]
    }
   ],
   "source": [
    "#we'll first start by testing the function\n",
    "songs=amazon_get_songs(pages=5) #get song list for each genre, 5 pages"
   ],
   "metadata": {
    "collapsed": false,
    "pycharm": {
     "name": "#%%\n"
    }
   }
  },
  {
   "cell_type": "code",
   "execution_count": 3,
   "outputs": [
    {
     "data": {
      "text/plain": "      Genre                                     Title               Artist\n0      rock                            Into The Storm               Gojira\n1      rock                      The Sound of Silence            Disturbed\n2      rock                                  Amazonia               Gojira\n3      rock                             Back In Black                AC/DC\n4      rock                             Another World               Gojira\n..      ...                                       ...                  ...\n315  hiphop          Wants and Needs [feat. Lil Baby]                Drake\n316  hiphop           X Gon' Give It To Ya [Explicit]                  DMX\n317  hiphop  I Get Around [feat. Digital Underground]                 2Pac\n318  hiphop                               Sex Packets  Digital Underground\n319  hiphop                        Whoopty [Explicit]                   CJ\n\n[320 rows x 3 columns]",
      "text/html": "<div>\n<style scoped>\n    .dataframe tbody tr th:only-of-type {\n        vertical-align: middle;\n    }\n\n    .dataframe tbody tr th {\n        vertical-align: top;\n    }\n\n    .dataframe thead th {\n        text-align: right;\n    }\n</style>\n<table border=\"1\" class=\"dataframe\">\n  <thead>\n    <tr style=\"text-align: right;\">\n      <th></th>\n      <th>Genre</th>\n      <th>Title</th>\n      <th>Artist</th>\n    </tr>\n  </thead>\n  <tbody>\n    <tr>\n      <th>0</th>\n      <td>rock</td>\n      <td>Into The Storm</td>\n      <td>Gojira</td>\n    </tr>\n    <tr>\n      <th>1</th>\n      <td>rock</td>\n      <td>The Sound of Silence</td>\n      <td>Disturbed</td>\n    </tr>\n    <tr>\n      <th>2</th>\n      <td>rock</td>\n      <td>Amazonia</td>\n      <td>Gojira</td>\n    </tr>\n    <tr>\n      <th>3</th>\n      <td>rock</td>\n      <td>Back In Black</td>\n      <td>AC/DC</td>\n    </tr>\n    <tr>\n      <th>4</th>\n      <td>rock</td>\n      <td>Another World</td>\n      <td>Gojira</td>\n    </tr>\n    <tr>\n      <th>...</th>\n      <td>...</td>\n      <td>...</td>\n      <td>...</td>\n    </tr>\n    <tr>\n      <th>315</th>\n      <td>hiphop</td>\n      <td>Wants and Needs [feat. Lil Baby]</td>\n      <td>Drake</td>\n    </tr>\n    <tr>\n      <th>316</th>\n      <td>hiphop</td>\n      <td>X Gon' Give It To Ya [Explicit]</td>\n      <td>DMX</td>\n    </tr>\n    <tr>\n      <th>317</th>\n      <td>hiphop</td>\n      <td>I Get Around [feat. Digital Underground]</td>\n      <td>2Pac</td>\n    </tr>\n    <tr>\n      <th>318</th>\n      <td>hiphop</td>\n      <td>Sex Packets</td>\n      <td>Digital Underground</td>\n    </tr>\n    <tr>\n      <th>319</th>\n      <td>hiphop</td>\n      <td>Whoopty [Explicit]</td>\n      <td>CJ</td>\n    </tr>\n  </tbody>\n</table>\n<p>320 rows × 3 columns</p>\n</div>"
     },
     "execution_count": 3,
     "metadata": {},
     "output_type": "execute_result"
    }
   ],
   "source": [
    "df=pd.DataFrame(songs)\n",
    "df"
   ],
   "metadata": {
    "collapsed": false,
    "pycharm": {
     "name": "#%%\n"
    }
   }
  },
  {
   "cell_type": "code",
   "execution_count": 6,
   "outputs": [
    {
     "data": {
      "text/plain": "False    307\nTrue      13\ndtype: int64"
     },
     "execution_count": 6,
     "metadata": {},
     "output_type": "execute_result"
    }
   ],
   "source": [
    "#Lets make sure it scraped mostly different songs..\n",
    "df.duplicated().value_counts()\n",
    "#seems like it did good"
   ],
   "metadata": {
    "collapsed": false,
    "pycharm": {
     "name": "#%%\n"
    }
   }
  },
  {
   "cell_type": "code",
   "execution_count": 7,
   "outputs": [
    {
     "data": {
      "text/plain": "\"\\nnow we know that it works great. we'll now scrape for 300 page for each genre\\nand then we'll move to the data cleaning phase and after cleaning we'll get more data\\n\""
     },
     "execution_count": 7,
     "metadata": {},
     "output_type": "execute_result"
    }
   ],
   "source": [
    "\"\"\"\n",
    "now we know that it works great. we'll now scrape for 300 page for each genre\n",
    "and then we'll move to the data cleaning phase and after cleaning we'll get more data\n",
    "\"\"\""
   ],
   "metadata": {
    "collapsed": false,
    "pycharm": {
     "name": "#%%\n"
    }
   }
  },
  {
   "cell_type": "code",
   "execution_count": 8,
   "outputs": [
    {
     "name": "stdout",
     "output_type": "stream",
     "text": [
      "Starting to scrape for rock with the user agent: Mozilla/5.0 (Windows NT 6.3; Win64; x64) AppleWebKit/537.36 (KHTML, like Gecko) Chrome/37.0.2049.0 Safari/537.36\n",
      "Successfuly scraped 4800 songs for rock\n",
      "\n",
      "Starting to scrape for pop with the user agent: Mozilla/5.0 (Windows NT 6.1; WOW64) AppleWebKit/537.36 (KHTML, like Gecko) Chrome/41.0.2227.0 Safari/537.36\n",
      "Successfuly scraped 4800 songs for pop\n",
      "\n",
      "Starting to scrape for country with the user agent: Mozilla/5.0 (Macintosh; Intel Mac OS X 10_9_3) AppleWebKit/537.36 (KHTML, like Gecko) Chrome/35.0.1916.47 Safari/537.36\n",
      "Successfuly scraped 4800 songs for country\n",
      "\n",
      "Starting to scrape for hiphop with the user agent: Mozilla/5.0 (Windows NT 5.1) AppleWebKit/537.36 (KHTML, like Gecko) Chrome/34.0.1866.237 Safari/537.36\n",
      "Successfuly scraped 4800 songs for hiphop\n",
      "\n"
     ]
    }
   ],
   "source": [
    "songs=amazon_get_songs(pages=300)"
   ],
   "metadata": {
    "collapsed": false,
    "pycharm": {
     "name": "#%%\n"
    }
   }
  },
  {
   "cell_type": "code",
   "execution_count": 9,
   "outputs": [
    {
     "data": {
      "text/plain": "(19200, 3)"
     },
     "execution_count": 9,
     "metadata": {},
     "output_type": "execute_result"
    }
   ],
   "source": [
    "df=pd.DataFrame(songs)\n",
    "df.shape"
   ],
   "metadata": {
    "collapsed": false,
    "pycharm": {
     "name": "#%%\n"
    }
   }
  },
  {
   "cell_type": "code",
   "execution_count": 10,
   "outputs": [],
   "source": [
    "df.to_csv(\"df.csv\")\n",
    "#looking good. that's it for now."
   ],
   "metadata": {
    "collapsed": false,
    "pycharm": {
     "name": "#%%\n"
    }
   }
  },
  {
   "cell_type": "code",
   "execution_count": null,
   "outputs": [],
   "source": [],
   "metadata": {
    "collapsed": false,
    "pycharm": {
     "name": "#%%\n"
    }
   }
  }
 ],
 "metadata": {
  "kernelspec": {
   "display_name": "Python 3",
   "language": "python",
   "name": "python3"
  },
  "language_info": {
   "codemirror_mode": {
    "name": "ipython",
    "version": 2
   },
   "file_extension": ".py",
   "mimetype": "text/x-python",
   "name": "python",
   "nbconvert_exporter": "python",
   "pygments_lexer": "ipython2",
   "version": "2.7.6"
  }
 },
 "nbformat": 4,
 "nbformat_minor": 0
}