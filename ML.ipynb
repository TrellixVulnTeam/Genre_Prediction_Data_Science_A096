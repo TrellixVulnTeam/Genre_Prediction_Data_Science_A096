{
 "cells": [
  {
   "cell_type": "code",
   "execution_count": 15,
   "metadata": {},
   "outputs": [],
   "source": [
    "import matplotlib.pyplot as plt\n",
    "import pandas as pd\n",
    "from sklearn.model_selection import train_test_split\n",
    "from sklearn.feature_extraction.text import CountVectorizer\n",
    "from sklearn.metrics import ConfusionMatrixDisplay,confusion_matrix\n",
    "from sklearn.metrics import accuracy_score\n",
    "from sklearn.svm import SVC\n",
    "from sklearn.ensemble import RandomForestClassifier\n",
    "from sklearn.linear_model import LogisticRegression\n",
    "from sklearn.naive_bayes import MultinomialNB\n",
    "from sklearn.model_selection import GridSearchCV\n",
    "import warnings"
   ]
  },
  {
   "cell_type": "code",
   "execution_count": 16,
   "outputs": [],
   "source": [
    "warnings.simplefilter(\"ignore\")"
   ],
   "metadata": {
    "collapsed": false,
    "pycharm": {
     "name": "#%%\n"
    }
   }
  },
  {
   "cell_type": "code",
   "execution_count": 39,
   "metadata": {
    "pycharm": {
     "name": "#%%\n"
    }
   },
   "outputs": [],
   "source": [
    "df=pd.read_csv(\"final.csv\",index_col=0)"
   ]
  },
  {
   "cell_type": "code",
   "execution_count": 40,
   "metadata": {
    "pycharm": {
     "name": "#%%\n"
    }
   },
   "outputs": [
    {
     "data": {
      "text/plain": "rock       2777\ncountry    2298\npop        2039\nhiphop     1592\nName: Genre, dtype: int64"
     },
     "execution_count": 40,
     "metadata": {},
     "output_type": "execute_result"
    }
   ],
   "source": [
    "df.Genre.value_counts()"
   ]
  },
  {
   "cell_type": "code",
   "execution_count": 41,
   "metadata": {
    "pycharm": {
     "name": "#%%\n"
    }
   },
   "outputs": [
    {
     "data": {
      "text/plain": "Index(['Genre', 'Title', 'Artist', 'Explicit', 'Length', 'Scale', 'Key', 'BPM',\n       'Danceability', 'Positiveness', 'Liveness', 'Energy', 'speechness',\n       'KeyScaled', 'Lyrics', 'Not_Formatted_Lyrics', 'Lem_Lyrics',\n       'Lyrics_Length', 'Longest_Line', 'Length_Words_Ratio'],\n      dtype='object')"
     },
     "execution_count": 41,
     "metadata": {},
     "output_type": "execute_result"
    }
   ],
   "source": [
    "df.columns"
   ]
  },
  {
   "cell_type": "code",
   "execution_count": 42,
   "metadata": {
    "pycharm": {
     "name": "#%%\n"
    }
   },
   "outputs": [],
   "source": [
    "df.drop(['Lyrics','Title','Artist','KeyScaled','Not_Formatted_Lyrics'],axis=1,inplace=True)"
   ]
  },
  {
   "cell_type": "code",
   "execution_count": 43,
   "metadata": {
    "pycharm": {
     "name": "#%%\n"
    }
   },
   "outputs": [
    {
     "data": {
      "text/plain": "  Genre  Explicit  Length Scale    Key  BPM  Danceability  Positiveness  \\\n0  rock     False    5.02     D  Major  106            25            11   \n1  rock     False    4.08    F#  Minor   86            32            18   \n2  rock     False    5.00     A  Major  182            38            51   \n3  rock     False    4.15     A  Major  188            31            76   \n4  rock     False    4.24     G  Minor  170            35            24   \n\n   Liveness  Energy  speechness  \\\n0        13      97           7   \n1        10      28           3   \n2        24      95           4   \n3         8      70           5   \n4        12      88           4   \n\n                                          Lem_Lyrics  Lyrics_Length  \\\n0  awaken rebellion wake change course law follow...            173   \n1  hello darkness old friend I talk vision softly...            218   \n2  incite riot put trance rotate frame world rely...            154   \n3  back black I hit sack I long I glad back yes I...            307   \n4  mock slaughter pure kind blind noise maze flas...             95   \n\n   Longest_Line  Length_Words_Ratio  \n0            47           34.462151  \n1            97           53.431373  \n2            48           30.800000  \n3            55           73.975904  \n4            53           22.405660  ",
      "text/html": "<div>\n<style scoped>\n    .dataframe tbody tr th:only-of-type {\n        vertical-align: middle;\n    }\n\n    .dataframe tbody tr th {\n        vertical-align: top;\n    }\n\n    .dataframe thead th {\n        text-align: right;\n    }\n</style>\n<table border=\"1\" class=\"dataframe\">\n  <thead>\n    <tr style=\"text-align: right;\">\n      <th></th>\n      <th>Genre</th>\n      <th>Explicit</th>\n      <th>Length</th>\n      <th>Scale</th>\n      <th>Key</th>\n      <th>BPM</th>\n      <th>Danceability</th>\n      <th>Positiveness</th>\n      <th>Liveness</th>\n      <th>Energy</th>\n      <th>speechness</th>\n      <th>Lem_Lyrics</th>\n      <th>Lyrics_Length</th>\n      <th>Longest_Line</th>\n      <th>Length_Words_Ratio</th>\n    </tr>\n  </thead>\n  <tbody>\n    <tr>\n      <th>0</th>\n      <td>rock</td>\n      <td>False</td>\n      <td>5.02</td>\n      <td>D</td>\n      <td>Major</td>\n      <td>106</td>\n      <td>25</td>\n      <td>11</td>\n      <td>13</td>\n      <td>97</td>\n      <td>7</td>\n      <td>awaken rebellion wake change course law follow...</td>\n      <td>173</td>\n      <td>47</td>\n      <td>34.462151</td>\n    </tr>\n    <tr>\n      <th>1</th>\n      <td>rock</td>\n      <td>False</td>\n      <td>4.08</td>\n      <td>F#</td>\n      <td>Minor</td>\n      <td>86</td>\n      <td>32</td>\n      <td>18</td>\n      <td>10</td>\n      <td>28</td>\n      <td>3</td>\n      <td>hello darkness old friend I talk vision softly...</td>\n      <td>218</td>\n      <td>97</td>\n      <td>53.431373</td>\n    </tr>\n    <tr>\n      <th>2</th>\n      <td>rock</td>\n      <td>False</td>\n      <td>5.00</td>\n      <td>A</td>\n      <td>Major</td>\n      <td>182</td>\n      <td>38</td>\n      <td>51</td>\n      <td>24</td>\n      <td>95</td>\n      <td>4</td>\n      <td>incite riot put trance rotate frame world rely...</td>\n      <td>154</td>\n      <td>48</td>\n      <td>30.800000</td>\n    </tr>\n    <tr>\n      <th>3</th>\n      <td>rock</td>\n      <td>False</td>\n      <td>4.15</td>\n      <td>A</td>\n      <td>Major</td>\n      <td>188</td>\n      <td>31</td>\n      <td>76</td>\n      <td>8</td>\n      <td>70</td>\n      <td>5</td>\n      <td>back black I hit sack I long I glad back yes I...</td>\n      <td>307</td>\n      <td>55</td>\n      <td>73.975904</td>\n    </tr>\n    <tr>\n      <th>4</th>\n      <td>rock</td>\n      <td>False</td>\n      <td>4.24</td>\n      <td>G</td>\n      <td>Minor</td>\n      <td>170</td>\n      <td>35</td>\n      <td>24</td>\n      <td>12</td>\n      <td>88</td>\n      <td>4</td>\n      <td>mock slaughter pure kind blind noise maze flas...</td>\n      <td>95</td>\n      <td>53</td>\n      <td>22.405660</td>\n    </tr>\n  </tbody>\n</table>\n</div>"
     },
     "execution_count": 43,
     "metadata": {},
     "output_type": "execute_result"
    }
   ],
   "source": [
    "df.head()"
   ]
  },
  {
   "cell_type": "code",
   "execution_count": 44,
   "metadata": {
    "pycharm": {
     "name": "#%%\n"
    }
   },
   "outputs": [],
   "source": [
    "df[\"Major\"] = df[\"Key\"]\n",
    "df[\"Major\"] = df[\"Major\"].apply(lambda x: 0 if x == \"Minor\" else 1)\n",
    "df.drop(columns=['Key'],inplace=True)"
   ]
  },
  {
   "cell_type": "code",
   "execution_count": 45,
   "metadata": {
    "pycharm": {
     "name": "#%%\n"
    }
   },
   "outputs": [],
   "source": [
    "df[\"Explicit\"] = df[\"Explicit\"].apply(lambda x: 0 if x == False else 1)"
   ]
  },
  {
   "cell_type": "code",
   "execution_count": 46,
   "outputs": [],
   "source": [
    "res = pd.get_dummies(df[\"Scale\"])\n",
    "df.drop(columns=['Scale'],inplace=True)\n",
    "df = pd.concat([df, res], axis=1)\n",
    "df.dropna(subset=['Lem_Lyrics'],inplace=True)"
   ],
   "metadata": {
    "collapsed": false,
    "pycharm": {
     "name": "#%%\n"
    }
   }
  },
  {
   "cell_type": "code",
   "execution_count": 47,
   "metadata": {
    "pycharm": {
     "name": "#%%\n"
    }
   },
   "outputs": [],
   "source": [
    "#ignore the stopword, ignore words that haven't appeared with 10% of the song\n",
    "vectorizer=CountVectorizer(stop_words=\"english\",min_df=0.01,ngram_range=(1,2))\n",
    "lyrics_features=vectorizer.fit_transform(df.pop(\"Lem_Lyrics\"))"
   ]
  },
  {
   "cell_type": "code",
   "execution_count": 48,
   "metadata": {
    "pycharm": {
     "name": "#%%\n"
    }
   },
   "outputs": [
    {
     "data": {
      "text/plain": "(8704, 1005)"
     },
     "execution_count": 48,
     "metadata": {},
     "output_type": "execute_result"
    }
   ],
   "source": [
    "lyrics_features.shape"
   ]
  },
  {
   "cell_type": "code",
   "execution_count": 49,
   "metadata": {
    "pycharm": {
     "name": "#%%\n"
    }
   },
   "outputs": [
    {
     "data": {
      "text/plain": "(8704, 25)"
     },
     "execution_count": 49,
     "metadata": {},
     "output_type": "execute_result"
    }
   ],
   "source": [
    "df.shape"
   ]
  },
  {
   "cell_type": "code",
   "execution_count": 50,
   "metadata": {
    "pycharm": {
     "name": "#%%\n"
    }
   },
   "outputs": [
    {
     "data": {
      "text/plain": "(8704, 1030)"
     },
     "execution_count": 50,
     "metadata": {},
     "output_type": "execute_result"
    }
   ],
   "source": [
    "#convertis the sparse matrix to pandas dataframe\n",
    "b=pd.DataFrame(lyrics_features.toarray(), columns=vectorizer.get_feature_names(), index= df.index)\n",
    "df=df.join(b)\n",
    "df.shape"
   ]
  },
  {
   "cell_type": "code",
   "execution_count": 51,
   "metadata": {},
   "outputs": [
    {
     "data": {
      "text/plain": "  Genre  Explicit  Length  BPM  Danceability  Positiveness  Liveness  Energy  \\\n0  rock         0    5.02  106            25            11        13      97   \n1  rock         0    4.08   86            32            18        10      28   \n2  rock         0    5.00  182            38            51        24      95   \n3  rock         0    4.15  188            31            76         8      70   \n4  rock         0    4.24  170            35            24        12      88   \n\n   speechness  Lyrics_Length  ...  write  wrong  yard  year  yellow  yes  \\\n0           7            173  ...      0      0     0     0       0    0   \n1           3            218  ...      2      0     0     0       0    0   \n2           4            154  ...      0      0     0     0       0    0   \n3           5            307  ...      0      0     0     0       0   12   \n4           4             95  ...      0      0     0     0       0    0   \n\n   yesterday  yo  york  young  \n0          0   0     0      0  \n1          0   0     0      0  \n2          0   0     0      0  \n3          0   0     0      0  \n4          0   0     0      0  \n\n[5 rows x 1030 columns]",
      "text/html": "<div>\n<style scoped>\n    .dataframe tbody tr th:only-of-type {\n        vertical-align: middle;\n    }\n\n    .dataframe tbody tr th {\n        vertical-align: top;\n    }\n\n    .dataframe thead th {\n        text-align: right;\n    }\n</style>\n<table border=\"1\" class=\"dataframe\">\n  <thead>\n    <tr style=\"text-align: right;\">\n      <th></th>\n      <th>Genre</th>\n      <th>Explicit</th>\n      <th>Length</th>\n      <th>BPM</th>\n      <th>Danceability</th>\n      <th>Positiveness</th>\n      <th>Liveness</th>\n      <th>Energy</th>\n      <th>speechness</th>\n      <th>Lyrics_Length</th>\n      <th>...</th>\n      <th>write</th>\n      <th>wrong</th>\n      <th>yard</th>\n      <th>year</th>\n      <th>yellow</th>\n      <th>yes</th>\n      <th>yesterday</th>\n      <th>yo</th>\n      <th>york</th>\n      <th>young</th>\n    </tr>\n  </thead>\n  <tbody>\n    <tr>\n      <th>0</th>\n      <td>rock</td>\n      <td>0</td>\n      <td>5.02</td>\n      <td>106</td>\n      <td>25</td>\n      <td>11</td>\n      <td>13</td>\n      <td>97</td>\n      <td>7</td>\n      <td>173</td>\n      <td>...</td>\n      <td>0</td>\n      <td>0</td>\n      <td>0</td>\n      <td>0</td>\n      <td>0</td>\n      <td>0</td>\n      <td>0</td>\n      <td>0</td>\n      <td>0</td>\n      <td>0</td>\n    </tr>\n    <tr>\n      <th>1</th>\n      <td>rock</td>\n      <td>0</td>\n      <td>4.08</td>\n      <td>86</td>\n      <td>32</td>\n      <td>18</td>\n      <td>10</td>\n      <td>28</td>\n      <td>3</td>\n      <td>218</td>\n      <td>...</td>\n      <td>2</td>\n      <td>0</td>\n      <td>0</td>\n      <td>0</td>\n      <td>0</td>\n      <td>0</td>\n      <td>0</td>\n      <td>0</td>\n      <td>0</td>\n      <td>0</td>\n    </tr>\n    <tr>\n      <th>2</th>\n      <td>rock</td>\n      <td>0</td>\n      <td>5.00</td>\n      <td>182</td>\n      <td>38</td>\n      <td>51</td>\n      <td>24</td>\n      <td>95</td>\n      <td>4</td>\n      <td>154</td>\n      <td>...</td>\n      <td>0</td>\n      <td>0</td>\n      <td>0</td>\n      <td>0</td>\n      <td>0</td>\n      <td>0</td>\n      <td>0</td>\n      <td>0</td>\n      <td>0</td>\n      <td>0</td>\n    </tr>\n    <tr>\n      <th>3</th>\n      <td>rock</td>\n      <td>0</td>\n      <td>4.15</td>\n      <td>188</td>\n      <td>31</td>\n      <td>76</td>\n      <td>8</td>\n      <td>70</td>\n      <td>5</td>\n      <td>307</td>\n      <td>...</td>\n      <td>0</td>\n      <td>0</td>\n      <td>0</td>\n      <td>0</td>\n      <td>0</td>\n      <td>12</td>\n      <td>0</td>\n      <td>0</td>\n      <td>0</td>\n      <td>0</td>\n    </tr>\n    <tr>\n      <th>4</th>\n      <td>rock</td>\n      <td>0</td>\n      <td>4.24</td>\n      <td>170</td>\n      <td>35</td>\n      <td>24</td>\n      <td>12</td>\n      <td>88</td>\n      <td>4</td>\n      <td>95</td>\n      <td>...</td>\n      <td>0</td>\n      <td>0</td>\n      <td>0</td>\n      <td>0</td>\n      <td>0</td>\n      <td>0</td>\n      <td>0</td>\n      <td>0</td>\n      <td>0</td>\n      <td>0</td>\n    </tr>\n  </tbody>\n</table>\n<p>5 rows × 1030 columns</p>\n</div>"
     },
     "execution_count": 51,
     "metadata": {},
     "output_type": "execute_result"
    }
   ],
   "source": [
    "df.head()"
   ]
  },
  {
   "cell_type": "code",
   "execution_count": 52,
   "metadata": {
    "pycharm": {
     "name": "#%%\n"
    }
   },
   "outputs": [],
   "source": [
    "y=df[\"Genre\"]\n",
    "X=df.drop(columns=[\"Genre\"],axis=1)\n",
    "X_train,X_test,y_train,y_test=train_test_split(X,y,test_size=0.2,random_state=42,stratify=y)\n"
   ]
  },
  {
   "cell_type": "code",
   "execution_count": 53,
   "outputs": [
    {
     "name": "stdout",
     "output_type": "stream",
     "text": [
      "\n",
      "\n",
      "The model Random Forest have score of 0.6852383687535899.\n",
      " Confusion Matrix:\n",
      "\n"
     ]
    },
    {
     "data": {
      "text/plain": "<Figure size 432x288 with 2 Axes>",
      "image/png": "[encoded data removed]"
     },
     "metadata": {
      "needs_background": "light"
     },
     "output_type": "display_data"
    },
    {
     "name": "stdout",
     "output_type": "stream",
     "text": [
      "\n",
      "\n",
      "\n",
      "\n",
      "\n",
      "The model Naive Bayes have score of 0.6243538196438828.\n",
      " Confusion Matrix:\n",
      "\n"
     ]
    },
    {
     "data": {
      "text/plain": "<Figure size 432x288 with 2 Axes>",
      "image/png": "[encoded data removed]"
     },
     "metadata": {
      "needs_background": "light"
     },
     "output_type": "display_data"
    },
    {
     "name": "stdout",
     "output_type": "stream",
     "text": [
      "\n",
      "\n",
      "\n",
      "\n",
      "\n",
      "The model SVM have score of 0.6157380815623205.\n",
      " Confusion Matrix:\n",
      "\n"
     ]
    },
    {
     "data": {
      "text/plain": "<Figure size 432x288 with 2 Axes>",
      "image/png": "[encoded data removed]"
     },
     "metadata": {
      "needs_background": "light"
     },
     "output_type": "display_data"
    },
    {
     "name": "stdout",
     "output_type": "stream",
     "text": [
      "\n",
      "\n",
      "\n",
      "\n",
      "\n",
      "The model Logistic Regression have score of 0.6111430212521539.\n",
      " Confusion Matrix:\n",
      "\n"
     ]
    },
    {
     "data": {
      "text/plain": "<Figure size 432x288 with 2 Axes>",
      "image/png": "[encoded data removed]"
     },
     "metadata": {
      "needs_background": "light"
     },
     "output_type": "display_data"
    },
    {
     "name": "stdout",
     "output_type": "stream",
     "text": [
      "\n",
      "\n",
      "\n"
     ]
    }
   ],
   "source": [
    "rd=RandomForestClassifier()\n",
    "lg=LogisticRegression()\n",
    "naive=MultinomialNB()\n",
    "svm=SVC(kernel='linear')\n",
    "best_recall_val=0\n",
    "result=[]\n",
    "for clf,model in zip([rd,naive,svm,lg],[\"Random Forest\",\"Naive Bayes\",\"SVM\",\"Logistic Regression\"]):\n",
    "    clf.fit(X_train,y_train)\n",
    "    y_predicted=clf.predict(X_test)\n",
    "    clf_score_test=accuracy_score(y_true=y_test,y_pred=y_predicted)\n",
    "    result.append({\"Model\":model,\"y_test_score\":clf_score_test})\n",
    "    print(f\"\\n\\nThe model {model} have score of {clf_score_test}.\\n Confusion Matrix:\\n\")\n",
    "    cm=confusion_matrix(y_true=y_test,y_pred=y_predicted)\n",
    "    disp=ConfusionMatrixDisplay(confusion_matrix=cm,display_labels=[\"rock\",\"pop\",\"country\",\"hiphop\"])\n",
    "    disp.plot(include_values=True)\n",
    "    plt.show()\n",
    "    print(\"\\n\\n\")"
   ],
   "metadata": {
    "collapsed": false,
    "pycharm": {
     "name": "#%%\n"
    }
   }
  },
  {
   "cell_type": "code",
   "execution_count": 54,
   "metadata": {
    "pycharm": {
     "name": "#%%\n"
    }
   },
   "outputs": [
    {
     "name": "stdout",
     "output_type": "stream",
     "text": [
      "\n",
      "\n"
     ]
    },
    {
     "data": {
      "text/plain": "<Figure size 504x504 with 1 Axes>",
      "image/png": "[encoded data removed]"
     },
     "metadata": {
      "needs_background": "light"
     },
     "output_type": "display_data"
    }
   ],
   "source": [
    "result_df=pd.DataFrame(result)\n",
    "\n",
    "result_df = result_df.set_index('Model')\n",
    "\n",
    "fig = plt.figure(figsize=(7,7)) # Create matplotlib figure\n",
    "\n",
    "ax = fig.add_subplot(111) # Create matplotlib axes\n",
    "width = .3\n",
    "\n",
    "result_df.y_test_score.plot(kind='bar',color='green',ax=ax,width=width, position=0)\n",
    "\n",
    "\n",
    "ax.set_ylabel('Test on y_test')\n",
    "print(\"\\n\")\n",
    "plt.show()"
   ]
  },
  {
   "cell_type": "code",
   "execution_count": 55,
   "metadata": {
    "pycharm": {
     "name": "#%%\n"
    }
   },
   "outputs": [
    {
     "data": {
      "text/plain": "{'n_estimators': 300}"
     },
     "execution_count": 55,
     "metadata": {},
     "output_type": "execute_result"
    }
   ],
   "source": [
    "#Random Forest Granted the best accuarcy. Let's find the best features via GridSearch\n",
    "parameters = {'n_estimators':range(50,550,50)}\n",
    "rd=RandomForestClassifier()\n",
    "gs = GridSearchCV(rd,parameters)\n",
    "gs.fit(X_train,y_train)\n",
    "gs.best_params_"
   ]
  },
  {
   "cell_type": "code",
   "execution_count": 56,
   "outputs": [
    {
     "data": {
      "text/plain": "0.6747082085303363"
     },
     "execution_count": 56,
     "metadata": {},
     "output_type": "execute_result"
    }
   ],
   "source": [
    "gs.best_score_"
   ],
   "metadata": {
    "collapsed": false,
    "pycharm": {
     "name": "#%%\n"
    }
   }
  },
  {
   "cell_type": "code",
   "execution_count": 57,
   "outputs": [
    {
     "data": {
      "text/plain": "<Figure size 432x288 with 2 Axes>",
      "image/png": "[encoded data removed]"
     },
     "metadata": {
      "needs_background": "light"
     },
     "output_type": "display_data"
    },
    {
     "name": "stdout",
     "output_type": "stream",
     "text": [
      "\n",
      " 0.7001723147616312\n"
     ]
    }
   ],
   "source": [
    "rd=RandomForestClassifier(**gs.best_params_)\n",
    "rd.fit(X_train,y_train)\n",
    "y_predicted=rd.predict(X_test)\n",
    "score=accuracy_score(y_true=y_test,y_pred=y_predicted)\n",
    "cm=confusion_matrix(y_true=y_test,y_pred=y_predicted)\n",
    "disp=ConfusionMatrixDisplay(confusion_matrix=cm,display_labels=[\"rock\",\"pop\",\"country\",\"hiphop\"])\n",
    "disp.plot(include_values=True)\n",
    "plt.show()\n",
    "print('\\n',score)"
   ],
   "metadata": {
    "collapsed": false,
    "pycharm": {
     "name": "#%%\n"
    }
   }
  },
  {
   "cell_type": "code",
   "execution_count": null,
   "outputs": [],
   "source": [],
   "metadata": {
    "collapsed": false,
    "pycharm": {
     "name": "#%%\n"
    }
   }
  }
 ],
 "metadata": {
  "kernelspec": {
   "display_name": "Python 3",
   "language": "python",
   "name": "python3"
  },
  "language_info": {
   "codemirror_mode": {
    "name": "ipython",
    "version": 3
   },
   "file_extension": ".py",
   "mimetype": "text/x-python",
   "name": "python",
   "nbconvert_exporter": "python",
   "pygments_lexer": "ipython3",
   "version": "3.9.0"
  }
 },
 "nbformat": 4,
 "nbformat_minor": 1
}