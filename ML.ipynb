{
 "cells": [
  {
   "cell_type": "code",
   "execution_count": 149,
   "metadata": {},
   "outputs": [],
   "source": [
    "import numpy as np\n",
    "import matplotlib.pyplot as plt\n",
    "import pandas as pd\n",
    "from sklearn.model_selection import train_test_split\n",
    "from sklearn.feature_extraction.text import CountVectorizer\n",
    "from sklearn.metrics import ConfusionMatrixDisplay,confusion_matrix\n",
    "from sklearn.metrics import accuracy_score\n",
    "from sklearn.svm import SVC\n",
    "from sklearn.tree import DecisionTreeClassifier\n",
    "from sklearn.linear_model import LogisticRegression\n",
    "from sklearn.model_selection import learning_curve\n",
    "from sklearn.ensemble import VotingClassifier\n",
    "from sklearn.naive_bayes import MultinomialNB"
   ]
  },
  {
   "cell_type": "code",
   "execution_count": 150,
   "metadata": {
    "pycharm": {
     "name": "#%%\n"
    }
   },
   "outputs": [],
   "source": [
    "df=pd.read_csv(\"final.csv\",index_col=0)"
   ]
  },
  {
   "cell_type": "code",
   "execution_count": 151,
   "metadata": {
    "pycharm": {
     "name": "#%%\n"
    }
   },
   "outputs": [
    {
     "data": {
      "text/html": [
       "<div>\n",
       "<style scoped>\n",
       "    .dataframe tbody tr th:only-of-type {\n",
       "        vertical-align: middle;\n",
       "    }\n",
       "\n",
       "    .dataframe tbody tr th {\n",
       "        vertical-align: top;\n",
       "    }\n",
       "\n",
       "    .dataframe thead th {\n",
       "        text-align: right;\n",
       "    }\n",
       "</style>\n",
       "<table border=\"1\" class=\"dataframe\">\n",
       "  <thead>\n",
       "    <tr style=\"text-align: right;\">\n",
       "      <th></th>\n",
       "      <th>Genre</th>\n",
       "      <th>Title</th>\n",
       "      <th>Artist</th>\n",
       "      <th>Explicit</th>\n",
       "      <th>Length</th>\n",
       "      <th>Scale</th>\n",
       "      <th>Key</th>\n",
       "      <th>BPM</th>\n",
       "      <th>Danceability</th>\n",
       "      <th>Positiveness</th>\n",
       "      <th>Liveness</th>\n",
       "      <th>Energy</th>\n",
       "      <th>speechness</th>\n",
       "      <th>KeyScaled</th>\n",
       "      <th>Lyrics</th>\n",
       "      <th>Not_Formatted_Lyrics</th>\n",
       "      <th>Lem_Lyrics</th>\n",
       "      <th>Lyrics_Length</th>\n",
       "      <th>Longest_Line</th>\n",
       "      <th>Length_Words_Ratio</th>\n",
       "    </tr>\n",
       "  </thead>\n",
       "  <tbody>\n",
       "    <tr>\n",
       "      <th>0</th>\n",
       "      <td>rock</td>\n",
       "      <td>into the storm</td>\n",
       "      <td>gojira</td>\n",
       "      <td>False</td>\n",
       "      <td>5.02</td>\n",
       "      <td>D</td>\n",
       "      <td>Major</td>\n",
       "      <td>106</td>\n",
       "      <td>25</td>\n",
       "      <td>11</td>\n",
       "      <td>13</td>\n",
       "      <td>97</td>\n",
       "      <td>7</td>\n",
       "      <td>D</td>\n",
       "      <td>go say something about awakening the rebellion...</td>\n",
       "      <td>Go\\r\\n\\r\\nSay something about awakening\\r\\nThe...</td>\n",
       "      <td>awaken rebellion wake change course law follow...</td>\n",
       "      <td>173</td>\n",
       "      <td>47</td>\n",
       "      <td>34.462151</td>\n",
       "    </tr>\n",
       "    <tr>\n",
       "      <th>1</th>\n",
       "      <td>rock</td>\n",
       "      <td>the sound of silence</td>\n",
       "      <td>disturbed</td>\n",
       "      <td>False</td>\n",
       "      <td>4.08</td>\n",
       "      <td>F#</td>\n",
       "      <td>Minor</td>\n",
       "      <td>86</td>\n",
       "      <td>32</td>\n",
       "      <td>18</td>\n",
       "      <td>10</td>\n",
       "      <td>28</td>\n",
       "      <td>3</td>\n",
       "      <td>F#m</td>\n",
       "      <td>hello darkness my old friend i have come to ta...</td>\n",
       "      <td>Hello darkness, my old friend\\r\\nI've come to ...</td>\n",
       "      <td>hello darkness old friend I talk vision softly...</td>\n",
       "      <td>218</td>\n",
       "      <td>97</td>\n",
       "      <td>53.431373</td>\n",
       "    </tr>\n",
       "    <tr>\n",
       "      <th>2</th>\n",
       "      <td>rock</td>\n",
       "      <td>amazonia</td>\n",
       "      <td>gojira</td>\n",
       "      <td>False</td>\n",
       "      <td>5.00</td>\n",
       "      <td>A</td>\n",
       "      <td>Major</td>\n",
       "      <td>182</td>\n",
       "      <td>38</td>\n",
       "      <td>51</td>\n",
       "      <td>24</td>\n",
       "      <td>95</td>\n",
       "      <td>4</td>\n",
       "      <td>A</td>\n",
       "      <td>incite a riot put yourself in a trance you rot...</td>\n",
       "      <td>Incite a riot, put yourself in a trance\\r\\nYou...</td>\n",
       "      <td>incite riot put trance rotate frame world rely...</td>\n",
       "      <td>154</td>\n",
       "      <td>48</td>\n",
       "      <td>30.800000</td>\n",
       "    </tr>\n",
       "    <tr>\n",
       "      <th>3</th>\n",
       "      <td>rock</td>\n",
       "      <td>back in black</td>\n",
       "      <td>ac/dc</td>\n",
       "      <td>False</td>\n",
       "      <td>4.15</td>\n",
       "      <td>A</td>\n",
       "      <td>Major</td>\n",
       "      <td>188</td>\n",
       "      <td>31</td>\n",
       "      <td>76</td>\n",
       "      <td>8</td>\n",
       "      <td>70</td>\n",
       "      <td>5</td>\n",
       "      <td>A</td>\n",
       "      <td>back in black i hit the sack i have been too l...</td>\n",
       "      <td>Back in black, I hit the sack\\r\\nI've been too...</td>\n",
       "      <td>back black I hit sack I long I glad back yes I...</td>\n",
       "      <td>307</td>\n",
       "      <td>55</td>\n",
       "      <td>73.975904</td>\n",
       "    </tr>\n",
       "    <tr>\n",
       "      <th>4</th>\n",
       "      <td>rock</td>\n",
       "      <td>another world</td>\n",
       "      <td>gojira</td>\n",
       "      <td>False</td>\n",
       "      <td>4.24</td>\n",
       "      <td>G</td>\n",
       "      <td>Minor</td>\n",
       "      <td>170</td>\n",
       "      <td>35</td>\n",
       "      <td>24</td>\n",
       "      <td>12</td>\n",
       "      <td>88</td>\n",
       "      <td>4</td>\n",
       "      <td>Gm</td>\n",
       "      <td>we mock and slaughter all the purest kinds bli...</td>\n",
       "      <td>We mock and slaughter all the purest kinds\\r\\n...</td>\n",
       "      <td>mock slaughter pure kind blind noise maze flas...</td>\n",
       "      <td>95</td>\n",
       "      <td>53</td>\n",
       "      <td>22.405660</td>\n",
       "    </tr>\n",
       "  </tbody>\n",
       "</table>\n",
       "</div>"
      ],
      "text/plain": [
       "  Genre                 Title     Artist  Explicit  Length Scale    Key  BPM  \\\n",
       "0  rock        into the storm     gojira     False    5.02     D  Major  106   \n",
       "1  rock  the sound of silence  disturbed     False    4.08    F#  Minor   86   \n",
       "2  rock              amazonia     gojira     False    5.00     A  Major  182   \n",
       "3  rock         back in black      ac/dc     False    4.15     A  Major  188   \n",
       "4  rock         another world     gojira     False    4.24     G  Minor  170   \n",
       "\n",
       "   Danceability  Positiveness  Liveness  Energy  speechness KeyScaled  \\\n",
       "0            25            11        13      97           7         D   \n",
       "1            32            18        10      28           3       F#m   \n",
       "2            38            51        24      95           4         A   \n",
       "3            31            76         8      70           5         A   \n",
       "4            35            24        12      88           4        Gm   \n",
       "\n",
       "                                              Lyrics  \\\n",
       "0  go say something about awakening the rebellion...   \n",
       "1  hello darkness my old friend i have come to ta...   \n",
       "2  incite a riot put yourself in a trance you rot...   \n",
       "3  back in black i hit the sack i have been too l...   \n",
       "4  we mock and slaughter all the purest kinds bli...   \n",
       "\n",
       "                                Not_Formatted_Lyrics  \\\n",
       "0  Go\\r\\n\\r\\nSay something about awakening\\r\\nThe...   \n",
       "1  Hello darkness, my old friend\\r\\nI've come to ...   \n",
       "2  Incite a riot, put yourself in a trance\\r\\nYou...   \n",
       "3  Back in black, I hit the sack\\r\\nI've been too...   \n",
       "4  We mock and slaughter all the purest kinds\\r\\n...   \n",
       "\n",
       "                                          Lem_Lyrics  Lyrics_Length  \\\n",
       "0  awaken rebellion wake change course law follow...            173   \n",
       "1  hello darkness old friend I talk vision softly...            218   \n",
       "2  incite riot put trance rotate frame world rely...            154   \n",
       "3  back black I hit sack I long I glad back yes I...            307   \n",
       "4  mock slaughter pure kind blind noise maze flas...             95   \n",
       "\n",
       "   Longest_Line  Length_Words_Ratio  \n",
       "0            47           34.462151  \n",
       "1            97           53.431373  \n",
       "2            48           30.800000  \n",
       "3            55           73.975904  \n",
       "4            53           22.405660  "
      ]
     },
     "execution_count": 151,
     "metadata": {},
     "output_type": "execute_result"
    }
   ],
   "source": [
    "df.head()"
   ]
  },
  {
   "cell_type": "code",
   "execution_count": 152,
   "metadata": {
    "pycharm": {
     "name": "#%%\n"
    }
   },
   "outputs": [
    {
     "data": {
      "text/plain": [
       "Index(['Genre', 'Title', 'Artist', 'Explicit', 'Length', 'Scale', 'Key', 'BPM',\n",
       "       'Danceability', 'Positiveness', 'Liveness', 'Energy', 'speechness',\n",
       "       'KeyScaled', 'Lyrics', 'Not_Formatted_Lyrics', 'Lem_Lyrics',\n",
       "       'Lyrics_Length', 'Longest_Line', 'Length_Words_Ratio'],\n",
       "      dtype='object')"
      ]
     },
     "execution_count": 152,
     "metadata": {},
     "output_type": "execute_result"
    }
   ],
   "source": [
    "df.columns"
   ]
  },
  {
   "cell_type": "code",
   "execution_count": 153,
   "metadata": {
    "pycharm": {
     "name": "#%%\n"
    }
   },
   "outputs": [],
   "source": [
    "df.drop(['Lyrics','Title','Artist','KeyScaled','Not_Formatted_Lyrics'],axis=1,inplace=True)"
   ]
  },
  {
   "cell_type": "code",
   "execution_count": 154,
   "metadata": {
    "pycharm": {
     "name": "#%%\n"
    }
   },
   "outputs": [
    {
     "data": {
      "text/html": [
       "<div>\n",
       "<style scoped>\n",
       "    .dataframe tbody tr th:only-of-type {\n",
       "        vertical-align: middle;\n",
       "    }\n",
       "\n",
       "    .dataframe tbody tr th {\n",
       "        vertical-align: top;\n",
       "    }\n",
       "\n",
       "    .dataframe thead th {\n",
       "        text-align: right;\n",
       "    }\n",
       "</style>\n",
       "<table border=\"1\" class=\"dataframe\">\n",
       "  <thead>\n",
       "    <tr style=\"text-align: right;\">\n",
       "      <th></th>\n",
       "      <th>Genre</th>\n",
       "      <th>Explicit</th>\n",
       "      <th>Length</th>\n",
       "      <th>Scale</th>\n",
       "      <th>Key</th>\n",
       "      <th>BPM</th>\n",
       "      <th>Danceability</th>\n",
       "      <th>Positiveness</th>\n",
       "      <th>Liveness</th>\n",
       "      <th>Energy</th>\n",
       "      <th>speechness</th>\n",
       "      <th>Lem_Lyrics</th>\n",
       "      <th>Lyrics_Length</th>\n",
       "      <th>Longest_Line</th>\n",
       "      <th>Length_Words_Ratio</th>\n",
       "    </tr>\n",
       "  </thead>\n",
       "  <tbody>\n",
       "    <tr>\n",
       "      <th>0</th>\n",
       "      <td>rock</td>\n",
       "      <td>False</td>\n",
       "      <td>5.02</td>\n",
       "      <td>D</td>\n",
       "      <td>Major</td>\n",
       "      <td>106</td>\n",
       "      <td>25</td>\n",
       "      <td>11</td>\n",
       "      <td>13</td>\n",
       "      <td>97</td>\n",
       "      <td>7</td>\n",
       "      <td>awaken rebellion wake change course law follow...</td>\n",
       "      <td>173</td>\n",
       "      <td>47</td>\n",
       "      <td>34.462151</td>\n",
       "    </tr>\n",
       "    <tr>\n",
       "      <th>1</th>\n",
       "      <td>rock</td>\n",
       "      <td>False</td>\n",
       "      <td>4.08</td>\n",
       "      <td>F#</td>\n",
       "      <td>Minor</td>\n",
       "      <td>86</td>\n",
       "      <td>32</td>\n",
       "      <td>18</td>\n",
       "      <td>10</td>\n",
       "      <td>28</td>\n",
       "      <td>3</td>\n",
       "      <td>hello darkness old friend I talk vision softly...</td>\n",
       "      <td>218</td>\n",
       "      <td>97</td>\n",
       "      <td>53.431373</td>\n",
       "    </tr>\n",
       "    <tr>\n",
       "      <th>2</th>\n",
       "      <td>rock</td>\n",
       "      <td>False</td>\n",
       "      <td>5.00</td>\n",
       "      <td>A</td>\n",
       "      <td>Major</td>\n",
       "      <td>182</td>\n",
       "      <td>38</td>\n",
       "      <td>51</td>\n",
       "      <td>24</td>\n",
       "      <td>95</td>\n",
       "      <td>4</td>\n",
       "      <td>incite riot put trance rotate frame world rely...</td>\n",
       "      <td>154</td>\n",
       "      <td>48</td>\n",
       "      <td>30.800000</td>\n",
       "    </tr>\n",
       "    <tr>\n",
       "      <th>3</th>\n",
       "      <td>rock</td>\n",
       "      <td>False</td>\n",
       "      <td>4.15</td>\n",
       "      <td>A</td>\n",
       "      <td>Major</td>\n",
       "      <td>188</td>\n",
       "      <td>31</td>\n",
       "      <td>76</td>\n",
       "      <td>8</td>\n",
       "      <td>70</td>\n",
       "      <td>5</td>\n",
       "      <td>back black I hit sack I long I glad back yes I...</td>\n",
       "      <td>307</td>\n",
       "      <td>55</td>\n",
       "      <td>73.975904</td>\n",
       "    </tr>\n",
       "    <tr>\n",
       "      <th>4</th>\n",
       "      <td>rock</td>\n",
       "      <td>False</td>\n",
       "      <td>4.24</td>\n",
       "      <td>G</td>\n",
       "      <td>Minor</td>\n",
       "      <td>170</td>\n",
       "      <td>35</td>\n",
       "      <td>24</td>\n",
       "      <td>12</td>\n",
       "      <td>88</td>\n",
       "      <td>4</td>\n",
       "      <td>mock slaughter pure kind blind noise maze flas...</td>\n",
       "      <td>95</td>\n",
       "      <td>53</td>\n",
       "      <td>22.405660</td>\n",
       "    </tr>\n",
       "  </tbody>\n",
       "</table>\n",
       "</div>"
      ],
      "text/plain": [
       "  Genre  Explicit  Length Scale    Key  BPM  Danceability  Positiveness  \\\n",
       "0  rock     False    5.02     D  Major  106            25            11   \n",
       "1  rock     False    4.08    F#  Minor   86            32            18   \n",
       "2  rock     False    5.00     A  Major  182            38            51   \n",
       "3  rock     False    4.15     A  Major  188            31            76   \n",
       "4  rock     False    4.24     G  Minor  170            35            24   \n",
       "\n",
       "   Liveness  Energy  speechness  \\\n",
       "0        13      97           7   \n",
       "1        10      28           3   \n",
       "2        24      95           4   \n",
       "3         8      70           5   \n",
       "4        12      88           4   \n",
       "\n",
       "                                          Lem_Lyrics  Lyrics_Length  \\\n",
       "0  awaken rebellion wake change course law follow...            173   \n",
       "1  hello darkness old friend I talk vision softly...            218   \n",
       "2  incite riot put trance rotate frame world rely...            154   \n",
       "3  back black I hit sack I long I glad back yes I...            307   \n",
       "4  mock slaughter pure kind blind noise maze flas...             95   \n",
       "\n",
       "   Longest_Line  Length_Words_Ratio  \n",
       "0            47           34.462151  \n",
       "1            97           53.431373  \n",
       "2            48           30.800000  \n",
       "3            55           73.975904  \n",
       "4            53           22.405660  "
      ]
     },
     "execution_count": 154,
     "metadata": {},
     "output_type": "execute_result"
    }
   ],
   "source": [
    "df.head()"
   ]
  },
  {
   "cell_type": "code",
   "execution_count": 155,
   "metadata": {
    "pycharm": {
     "name": "#%%\n"
    }
   },
   "outputs": [],
   "source": [
    "df[\"Major\"] = df[\"Key\"]\n",
    "df[\"Major\"] = df[\"Major\"].apply(lambda x: 0 if x == \"Minor\" else 1)\n",
    "df.drop(columns=['Key'],inplace=True)"
   ]
  },
  {
   "cell_type": "code",
   "execution_count": 156,
   "metadata": {
    "pycharm": {
     "name": "#%%\n"
    }
   },
   "outputs": [],
   "source": [
    "res = pd.get_dummies(df[\"Scale\"])\n",
    "df.drop(columns=['Scale'],inplace=True)\n",
    "df = pd.concat([df, res], axis=1)\n",
    "df.dropna(subset=['Lem_Lyrics'],inplace=True)"
   ]
  },
  {
   "cell_type": "code",
   "execution_count": 157,
   "metadata": {
    "pycharm": {
     "name": "#%%\n"
    }
   },
   "outputs": [],
   "source": [
    "#ignore the stopword, ignore words that haven't appeared with 10% of the song\n",
    "vectorizer=CountVectorizer()\n",
    "lyrics_features=vectorizer.fit_transform(df.pop(\"Lem_Lyrics\"))"
   ]
  },
  {
   "cell_type": "code",
   "execution_count": 158,
   "metadata": {
    "pycharm": {
     "name": "#%%\n"
    }
   },
   "outputs": [
    {
     "data": {
      "text/plain": [
       "(8704, 33248)"
      ]
     },
     "execution_count": 158,
     "metadata": {},
     "output_type": "execute_result"
    }
   ],
   "source": [
    "lyrics_features.shape"
   ]
  },
  {
   "cell_type": "code",
   "execution_count": 159,
   "metadata": {
    "pycharm": {
     "name": "#%%\n"
    }
   },
   "outputs": [
    {
     "data": {
      "text/plain": [
       "(8704, 25)"
      ]
     },
     "execution_count": 159,
     "metadata": {},
     "output_type": "execute_result"
    }
   ],
   "source": [
    "df.shape"
   ]
  },
  {
   "cell_type": "code",
   "execution_count": 160,
   "metadata": {
    "pycharm": {
     "name": "#%%\n"
    }
   },
   "outputs": [
    {
     "data": {
      "text/plain": [
       "(8704, 33273)"
      ]
     },
     "execution_count": 160,
     "metadata": {},
     "output_type": "execute_result"
    }
   ],
   "source": [
    "#convertis the sparse matrix to pandas dataframe\n",
    "b=pd.DataFrame(lyrics_features.toarray(), columns=vectorizer.get_feature_names(), index= df.index)\n",
    "df=df.join(b)\n",
    "df.shape"
   ]
  },
  {
   "cell_type": "code",
   "execution_count": 161,
   "metadata": {},
   "outputs": [
    {
     "data": {
      "text/html": [
       "<div>\n",
       "<style scoped>\n",
       "    .dataframe tbody tr th:only-of-type {\n",
       "        vertical-align: middle;\n",
       "    }\n",
       "\n",
       "    .dataframe tbody tr th {\n",
       "        vertical-align: top;\n",
       "    }\n",
       "\n",
       "    .dataframe thead th {\n",
       "        text-align: right;\n",
       "    }\n",
       "</style>\n",
       "<table border=\"1\" class=\"dataframe\">\n",
       "  <thead>\n",
       "    <tr style=\"text-align: right;\">\n",
       "      <th></th>\n",
       "      <th>Genre</th>\n",
       "      <th>Explicit</th>\n",
       "      <th>Length</th>\n",
       "      <th>BPM</th>\n",
       "      <th>Danceability</th>\n",
       "      <th>Positiveness</th>\n",
       "      <th>Liveness</th>\n",
       "      <th>Energy</th>\n",
       "      <th>speechness</th>\n",
       "      <th>Lyrics_Length</th>\n",
       "      <th>...</th>\n",
       "      <th>zulu</th>\n",
       "      <th>zum</th>\n",
       "      <th>zumba</th>\n",
       "      <th>zusammen</th>\n",
       "      <th>zuu</th>\n",
       "      <th>zwischen</th>\n",
       "      <th>zydeco</th>\n",
       "      <th>zypitano</th>\n",
       "      <th>zz</th>\n",
       "      <th>zzzzt</th>\n",
       "    </tr>\n",
       "  </thead>\n",
       "  <tbody>\n",
       "    <tr>\n",
       "      <th>0</th>\n",
       "      <td>rock</td>\n",
       "      <td>False</td>\n",
       "      <td>5.02</td>\n",
       "      <td>106</td>\n",
       "      <td>25</td>\n",
       "      <td>11</td>\n",
       "      <td>13</td>\n",
       "      <td>97</td>\n",
       "      <td>7</td>\n",
       "      <td>173</td>\n",
       "      <td>...</td>\n",
       "      <td>0</td>\n",
       "      <td>0</td>\n",
       "      <td>0</td>\n",
       "      <td>0</td>\n",
       "      <td>0</td>\n",
       "      <td>0</td>\n",
       "      <td>0</td>\n",
       "      <td>0</td>\n",
       "      <td>0</td>\n",
       "      <td>0</td>\n",
       "    </tr>\n",
       "    <tr>\n",
       "      <th>1</th>\n",
       "      <td>rock</td>\n",
       "      <td>False</td>\n",
       "      <td>4.08</td>\n",
       "      <td>86</td>\n",
       "      <td>32</td>\n",
       "      <td>18</td>\n",
       "      <td>10</td>\n",
       "      <td>28</td>\n",
       "      <td>3</td>\n",
       "      <td>218</td>\n",
       "      <td>...</td>\n",
       "      <td>0</td>\n",
       "      <td>0</td>\n",
       "      <td>0</td>\n",
       "      <td>0</td>\n",
       "      <td>0</td>\n",
       "      <td>0</td>\n",
       "      <td>0</td>\n",
       "      <td>0</td>\n",
       "      <td>0</td>\n",
       "      <td>0</td>\n",
       "    </tr>\n",
       "    <tr>\n",
       "      <th>2</th>\n",
       "      <td>rock</td>\n",
       "      <td>False</td>\n",
       "      <td>5.00</td>\n",
       "      <td>182</td>\n",
       "      <td>38</td>\n",
       "      <td>51</td>\n",
       "      <td>24</td>\n",
       "      <td>95</td>\n",
       "      <td>4</td>\n",
       "      <td>154</td>\n",
       "      <td>...</td>\n",
       "      <td>0</td>\n",
       "      <td>0</td>\n",
       "      <td>0</td>\n",
       "      <td>0</td>\n",
       "      <td>0</td>\n",
       "      <td>0</td>\n",
       "      <td>0</td>\n",
       "      <td>0</td>\n",
       "      <td>0</td>\n",
       "      <td>0</td>\n",
       "    </tr>\n",
       "    <tr>\n",
       "      <th>3</th>\n",
       "      <td>rock</td>\n",
       "      <td>False</td>\n",
       "      <td>4.15</td>\n",
       "      <td>188</td>\n",
       "      <td>31</td>\n",
       "      <td>76</td>\n",
       "      <td>8</td>\n",
       "      <td>70</td>\n",
       "      <td>5</td>\n",
       "      <td>307</td>\n",
       "      <td>...</td>\n",
       "      <td>0</td>\n",
       "      <td>0</td>\n",
       "      <td>0</td>\n",
       "      <td>0</td>\n",
       "      <td>0</td>\n",
       "      <td>0</td>\n",
       "      <td>0</td>\n",
       "      <td>0</td>\n",
       "      <td>0</td>\n",
       "      <td>0</td>\n",
       "    </tr>\n",
       "    <tr>\n",
       "      <th>4</th>\n",
       "      <td>rock</td>\n",
       "      <td>False</td>\n",
       "      <td>4.24</td>\n",
       "      <td>170</td>\n",
       "      <td>35</td>\n",
       "      <td>24</td>\n",
       "      <td>12</td>\n",
       "      <td>88</td>\n",
       "      <td>4</td>\n",
       "      <td>95</td>\n",
       "      <td>...</td>\n",
       "      <td>0</td>\n",
       "      <td>0</td>\n",
       "      <td>0</td>\n",
       "      <td>0</td>\n",
       "      <td>0</td>\n",
       "      <td>0</td>\n",
       "      <td>0</td>\n",
       "      <td>0</td>\n",
       "      <td>0</td>\n",
       "      <td>0</td>\n",
       "    </tr>\n",
       "  </tbody>\n",
       "</table>\n",
       "<p>5 rows × 33273 columns</p>\n",
       "</div>"
      ],
      "text/plain": [
       "  Genre  Explicit  Length  BPM  Danceability  Positiveness  Liveness  Energy  \\\n",
       "0  rock     False    5.02  106            25            11        13      97   \n",
       "1  rock     False    4.08   86            32            18        10      28   \n",
       "2  rock     False    5.00  182            38            51        24      95   \n",
       "3  rock     False    4.15  188            31            76         8      70   \n",
       "4  rock     False    4.24  170            35            24        12      88   \n",
       "\n",
       "   speechness  Lyrics_Length  ...  zulu  zum  zumba  zusammen  zuu  zwischen  \\\n",
       "0           7            173  ...     0    0      0         0    0         0   \n",
       "1           3            218  ...     0    0      0         0    0         0   \n",
       "2           4            154  ...     0    0      0         0    0         0   \n",
       "3           5            307  ...     0    0      0         0    0         0   \n",
       "4           4             95  ...     0    0      0         0    0         0   \n",
       "\n",
       "   zydeco  zypitano  zz  zzzzt  \n",
       "0       0         0   0      0  \n",
       "1       0         0   0      0  \n",
       "2       0         0   0      0  \n",
       "3       0         0   0      0  \n",
       "4       0         0   0      0  \n",
       "\n",
       "[5 rows x 33273 columns]"
      ]
     },
     "execution_count": 161,
     "metadata": {},
     "output_type": "execute_result"
    }
   ],
   "source": [
    "df.head()"
   ]
  },
  {
   "cell_type": "code",
   "execution_count": 162,
   "metadata": {
    "pycharm": {
     "name": "#%%\n"
    }
   },
   "outputs": [],
   "source": [
    "y=df[\"Genre\"]\n",
    "X=df.drop(columns=[\"Genre\"],axis=1)\n",
    "X_train,X_test,y_train,y_test=train_test_split(X,y,test_size=0.2,random_state=1)"
   ]
  },
  {
   "cell_type": "code",
   "execution_count": 163,
   "metadata": {
    "pycharm": {
     "name": "#%%\n"
    }
   },
   "outputs": [],
   "source": [
    "#Copied from scikit-learn site\n",
    "def plot_learning_curve(estimator, title, X, y, axes=None, ylim=None, cv=None,\n",
    "                        n_jobs=None):\n",
    "\n",
    "    if axes is None:\n",
    "        _, axes = plt.subplots(1, 3, figsize=(20, 5))\n",
    "\n",
    "    axes[0].set_title(title)\n",
    "    if ylim is not None:\n",
    "        axes[0].set_ylim(*ylim)\n",
    "    axes[0].set_xlabel(\"Training examples\")\n",
    "    axes[0].set_ylabel(\"Score\")\n",
    "\n",
    "    train_sizes, train_scores, test_scores, fit_times, _ = \\\n",
    "        learning_curve(estimator, X, y, cv=cv, n_jobs=n_jobs,\n",
    "                       return_times=True)\n",
    "    train_scores_mean = np.mean(train_scores, axis=1)\n",
    "    train_scores_std = np.std(train_scores, axis=1)\n",
    "    test_scores_mean = np.mean(test_scores, axis=1)\n",
    "    test_scores_std = np.std(test_scores, axis=1)\n",
    "    fit_times_mean = np.mean(fit_times, axis=1)\n",
    "    fit_times_std = np.std(fit_times, axis=1)\n",
    "\n",
    "    # Plot learning curve\n",
    "    axes[0].grid()\n",
    "    axes[0].fill_between(train_sizes, train_scores_mean - train_scores_std,\n",
    "                         train_scores_mean + train_scores_std, alpha=0.1,\n",
    "                         color=\"r\")\n",
    "    axes[0].fill_between(train_sizes, test_scores_mean - test_scores_std,\n",
    "                         test_scores_mean + test_scores_std, alpha=0.1,\n",
    "                         color=\"g\")\n",
    "    axes[0].plot(train_sizes, train_scores_mean, 'o-', color=\"r\",\n",
    "                 label=\"Training score\")\n",
    "    axes[0].plot(train_sizes, test_scores_mean, 'o-', color=\"g\",\n",
    "                 label=\"Cross-validation score\")\n",
    "    axes[0].legend(loc=\"best\")\n",
    "\n",
    "    # Plot n_samples vs fit_times\n",
    "    axes[1].grid()\n",
    "    axes[1].plot(train_sizes, fit_times_mean, 'o-')\n",
    "    axes[1].fill_between(train_sizes, fit_times_mean - fit_times_std,\n",
    "                         fit_times_mean + fit_times_std, alpha=0.1)\n",
    "    axes[1].set_xlabel(\"Training examples\")\n",
    "    axes[1].set_ylabel(\"fit_times\")\n",
    "    axes[1].set_title(\"Scalability of the model\")\n",
    "\n",
    "    # Plot fit_time vs score\n",
    "    axes[2].grid()\n",
    "    axes[2].plot(fit_times_mean, test_scores_mean, 'o-')\n",
    "    axes[2].fill_between(fit_times_mean, test_scores_mean - test_scores_std,\n",
    "                         test_scores_mean + test_scores_std, alpha=0.1)\n",
    "    axes[2].set_xlabel(\"fit_times\")\n",
    "    axes[2].set_ylabel(\"Score\")\n",
    "    axes[2].set_title(\"Performance of the model\")\n",
    "\n",
    "    return plt"
   ]
  },
  {
   "cell_type": "code",
   "execution_count": null,
   "metadata": {
    "pycharm": {
     "name": "#%%\n"
    },
    "scrolled": false
   },
   "outputs": [
    {
     "name": "stdout",
     "output_type": "stream",
     "text": [
      "\n",
      "\n",
      "The model Decision Tree have score of 0.5560022975301551.\n",
      " Confusion Matrix:\n",
      "\n"
     ]
    },
    {
     "data": {
      "image/png": "[encoded data removed]",
      "text/plain": [
       "<Figure size 432x288 with 2 Axes>"
      ]
     },
     "metadata": {
      "needs_background": "light"
     },
     "output_type": "display_data"
    },
    {
     "data": {
      "image/png": "[encoded data removed]",
      "text/plain": [
       "<Figure size 1440x360 with 3 Axes>"
      ]
     },
     "metadata": {
      "needs_background": "light"
     },
     "output_type": "display_data"
    },
    {
     "name": "stdout",
     "output_type": "stream",
     "text": [
      "\n",
      "\n",
      "\n",
      "\n",
      "\n",
      "The model Naive Bayes have score of 0.6145893164847789.\n",
      " Confusion Matrix:\n",
      "\n"
     ]
    },
    {
     "data": {
      "image/png": "[encoded data removed]",
      "text/plain": [
       "<Figure size 432x288 with 2 Axes>"
      ]
     },
     "metadata": {
      "needs_background": "light"
     },
     "output_type": "display_data"
    },
    {
     "data": {
      "image/png": "[encoded data removed]",
      "text/plain": [
       "<Figure size 1440x360 with 3 Axes>"
      ]
     },
     "metadata": {
      "needs_background": "light"
     },
     "output_type": "display_data"
    },
    {
     "name": "stdout",
     "output_type": "stream",
     "text": [
      "\n",
      "\n",
      "\n"
     ]
    }
   ],
   "source": [
    "dt_tree=DecisionTreeClassifier()\n",
    "lg=LogisticRegression()\n",
    "naive=MultinomialNB()\n",
    "svm=SVC()\n",
    "best_recall_val=0\n",
    "result=[]\n",
    "for clf,model in zip([dt_tree,naive,svm,lg],[\"Decision Tree\",\"Naive Bayes\",\"SVM\",\"Logistic Regression\"]):\n",
    "    clf.fit(X_train,y_train)\n",
    "    y_predicted=clf.predict(X_test)\n",
    "    clf_score_test=accuracy_score(y_true=y_test,y_pred=y_predicted)\n",
    "    result.append({\"Model\":model,\"y_test_score\":clf_score_test})\n",
    "    print(f\"\\n\\nThe model {model} have score of {clf_score_test}.\\n Confusion Matrix:\\n\")\n",
    "    cm=confusion_matrix(y_true=y_test,y_pred=y_predicted)\n",
    "    disp=ConfusionMatrixDisplay(confusion_matrix=cm,display_labels=[\"rock\",\"pop\",\"country\",\"hiphop\"])\n",
    "    disp.plot(cmap='tab20c',include_values=True)\n",
    "    plt.show()\n",
    "    plot_learning_curve(clf,f\"Learning Curve of {model}:\\n\",X_train,y_train)\n",
    "    plt.show()\n",
    "    print(\"\\n\\n\")"
   ]
  },
  {
   "cell_type": "code",
   "execution_count": null,
   "metadata": {
    "pycharm": {
     "name": "#%%\n"
    }
   },
   "outputs": [],
   "source": [
    "result_df=pd.DataFrame(result)\n",
    "\n",
    "result_df = result_df.set_index('Model')\n",
    "\n",
    "fig = plt.figure(figsize=(7,7)) # Create matplotlib figure\n",
    "\n",
    "ax = fig.add_subplot(111) # Create matplotlib axes\n",
    "width = .3\n",
    "\n",
    "result_df.y_test_score.plot(kind='bar',color='green',ax=ax,width=width, position=0)\n",
    "\n",
    "\n",
    "ax.set_ylabel('Test on y_test')\n",
    "print(\"\\n\")\n",
    "plt.show()"
   ]
  },
  {
   "cell_type": "code",
   "execution_count": null,
   "metadata": {
    "pycharm": {
     "name": "#%%\n"
    }
   },
   "outputs": [],
   "source": []
  }
 ],
 "metadata": {
  "kernelspec": {
   "display_name": "Python 3",
   "language": "python",
   "name": "python3"
  },
  "language_info": {
   "codemirror_mode": {
    "name": "ipython",
    "version": 3
   },
   "file_extension": ".py",
   "mimetype": "text/x-python",
   "name": "python",
   "nbconvert_exporter": "python",
   "pygments_lexer": "ipython3",
   "version": "3.9.0"
  }
 },
 "nbformat": 4,
 "nbformat_minor": 1
}