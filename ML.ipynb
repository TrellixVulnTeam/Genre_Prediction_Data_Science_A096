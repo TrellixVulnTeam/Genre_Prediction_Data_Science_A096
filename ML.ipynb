{
 "cells": [
  {
   "cell_type": "code",
   "execution_count": 49,
   "metadata": {},
   "outputs": [],
   "source": [
    "import pickle\n",
    "import numpy as np\n",
    "import pandas as pd\n",
    "from sklearn.model_selection import train_test_split\n",
    "from sklearn.feature_extraction.text import CountVectorizer\n",
    "from sklearn.metrics import classification_report\n",
    "from sklearn.metrics import confusion_matrix\n",
    "from sklearn.metrics import accuracy_score\n",
    "from sklearn.svm import SVC\n",
    "from sklearn.tree import DecisionTreeClassifier\n",
    "from sklearn.linear_model import LogisticRegression\n",
    "from sklearn.ensemble import VotingClassifier\n",
    "from sklearn.naive_bayes import MultinomialNB\n",
    "from sklearn.decomposition import PCA\n",
    "import scipy.sparse"
   ]
  },
  {
   "cell_type": "code",
   "execution_count": 96,
   "metadata": {
    "pycharm": {
     "name": "#%%\n"
    }
   },
   "outputs": [],
   "source": [
    "df=pd.read_csv(\"final.csv\",index_col=0)"
   ]
  },
  {
   "cell_type": "code",
   "execution_count": 97,
   "metadata": {
    "pycharm": {
     "name": "#%%\n"
    }
   },
   "outputs": [
    {
     "data": {
      "text/plain": "  Genre                 Title     Artist  Explicit  Length Scale    Key  BPM  \\\n0  rock        into the storm     gojira     False    5.02     D  Major  106   \n1  rock  the sound of silence  disturbed     False    4.08    F#  Minor   86   \n2  rock              amazonia     gojira     False    5.00     A  Major  182   \n3  rock         back in black      ac/dc     False    4.15     A  Major  188   \n4  rock         another world     gojira     False    4.24     G  Minor  170   \n\n   Danceability  Positiveness  Liveness  Energy  speechness KeyScaled  \\\n0            25            11        13      97           7         D   \n1            32            18        10      28           3       F#m   \n2            38            51        24      95           4         A   \n3            31            76         8      70           5         A   \n4            35            24        12      88           4        Gm   \n\n                                              Lyrics  \\\n0  go say something about awakening the rebellion...   \n1  hello darkness my old friend i have come to ta...   \n2  incite a riot put yourself in a trance you rot...   \n3  back in black i hit the sack i have been too l...   \n4  we mock and slaughter all the purest kinds bli...   \n\n                                Not_Formatted_Lyrics  \\\n0  Go\\r\\n\\r\\nSay something about awakening\\r\\nThe...   \n1  Hello darkness, my old friend\\r\\nI've come to ...   \n2  Incite a riot, put yourself in a trance\\r\\nYou...   \n3  Back in black, I hit the sack\\r\\nI've been too...   \n4  We mock and slaughter all the purest kinds\\r\\n...   \n\n                                          Lem_Lyrics  Lyrics_Length  \\\n0  awaken rebellion wake change course law follow...            173   \n1  hello darkness old friend I talk vision softly...            218   \n2  incite riot put trance rotate frame world rely...            154   \n3  back black I hit sack I long I glad back yes I...            307   \n4  mock slaughter pure kind blind noise maze flas...             95   \n\n   Longest_Line  Length_Words_Ratio  \n0            47           34.462151  \n1            97           53.431373  \n2            48           30.800000  \n3            55           73.975904  \n4            53           22.405660  ",
      "text/html": "<div>\n<style scoped>\n    .dataframe tbody tr th:only-of-type {\n        vertical-align: middle;\n    }\n\n    .dataframe tbody tr th {\n        vertical-align: top;\n    }\n\n    .dataframe thead th {\n        text-align: right;\n    }\n</style>\n<table border=\"1\" class=\"dataframe\">\n  <thead>\n    <tr style=\"text-align: right;\">\n      <th></th>\n      <th>Genre</th>\n      <th>Title</th>\n      <th>Artist</th>\n      <th>Explicit</th>\n      <th>Length</th>\n      <th>Scale</th>\n      <th>Key</th>\n      <th>BPM</th>\n      <th>Danceability</th>\n      <th>Positiveness</th>\n      <th>Liveness</th>\n      <th>Energy</th>\n      <th>speechness</th>\n      <th>KeyScaled</th>\n      <th>Lyrics</th>\n      <th>Not_Formatted_Lyrics</th>\n      <th>Lem_Lyrics</th>\n      <th>Lyrics_Length</th>\n      <th>Longest_Line</th>\n      <th>Length_Words_Ratio</th>\n    </tr>\n  </thead>\n  <tbody>\n    <tr>\n      <th>0</th>\n      <td>rock</td>\n      <td>into the storm</td>\n      <td>gojira</td>\n      <td>False</td>\n      <td>5.02</td>\n      <td>D</td>\n      <td>Major</td>\n      <td>106</td>\n      <td>25</td>\n      <td>11</td>\n      <td>13</td>\n      <td>97</td>\n      <td>7</td>\n      <td>D</td>\n      <td>go say something about awakening the rebellion...</td>\n      <td>Go\\r\\n\\r\\nSay something about awakening\\r\\nThe...</td>\n      <td>awaken rebellion wake change course law follow...</td>\n      <td>173</td>\n      <td>47</td>\n      <td>34.462151</td>\n    </tr>\n    <tr>\n      <th>1</th>\n      <td>rock</td>\n      <td>the sound of silence</td>\n      <td>disturbed</td>\n      <td>False</td>\n      <td>4.08</td>\n      <td>F#</td>\n      <td>Minor</td>\n      <td>86</td>\n      <td>32</td>\n      <td>18</td>\n      <td>10</td>\n      <td>28</td>\n      <td>3</td>\n      <td>F#m</td>\n      <td>hello darkness my old friend i have come to ta...</td>\n      <td>Hello darkness, my old friend\\r\\nI've come to ...</td>\n      <td>hello darkness old friend I talk vision softly...</td>\n      <td>218</td>\n      <td>97</td>\n      <td>53.431373</td>\n    </tr>\n    <tr>\n      <th>2</th>\n      <td>rock</td>\n      <td>amazonia</td>\n      <td>gojira</td>\n      <td>False</td>\n      <td>5.00</td>\n      <td>A</td>\n      <td>Major</td>\n      <td>182</td>\n      <td>38</td>\n      <td>51</td>\n      <td>24</td>\n      <td>95</td>\n      <td>4</td>\n      <td>A</td>\n      <td>incite a riot put yourself in a trance you rot...</td>\n      <td>Incite a riot, put yourself in a trance\\r\\nYou...</td>\n      <td>incite riot put trance rotate frame world rely...</td>\n      <td>154</td>\n      <td>48</td>\n      <td>30.800000</td>\n    </tr>\n    <tr>\n      <th>3</th>\n      <td>rock</td>\n      <td>back in black</td>\n      <td>ac/dc</td>\n      <td>False</td>\n      <td>4.15</td>\n      <td>A</td>\n      <td>Major</td>\n      <td>188</td>\n      <td>31</td>\n      <td>76</td>\n      <td>8</td>\n      <td>70</td>\n      <td>5</td>\n      <td>A</td>\n      <td>back in black i hit the sack i have been too l...</td>\n      <td>Back in black, I hit the sack\\r\\nI've been too...</td>\n      <td>back black I hit sack I long I glad back yes I...</td>\n      <td>307</td>\n      <td>55</td>\n      <td>73.975904</td>\n    </tr>\n    <tr>\n      <th>4</th>\n      <td>rock</td>\n      <td>another world</td>\n      <td>gojira</td>\n      <td>False</td>\n      <td>4.24</td>\n      <td>G</td>\n      <td>Minor</td>\n      <td>170</td>\n      <td>35</td>\n      <td>24</td>\n      <td>12</td>\n      <td>88</td>\n      <td>4</td>\n      <td>Gm</td>\n      <td>we mock and slaughter all the purest kinds bli...</td>\n      <td>We mock and slaughter all the purest kinds\\r\\n...</td>\n      <td>mock slaughter pure kind blind noise maze flas...</td>\n      <td>95</td>\n      <td>53</td>\n      <td>22.405660</td>\n    </tr>\n  </tbody>\n</table>\n</div>"
     },
     "execution_count": 97,
     "metadata": {},
     "output_type": "execute_result"
    }
   ],
   "source": [
    "df.head()"
   ]
  },
  {
   "cell_type": "code",
   "execution_count": 98,
   "metadata": {
    "pycharm": {
     "name": "#%%\n"
    }
   },
   "outputs": [
    {
     "data": {
      "text/plain": "Index(['Genre', 'Title', 'Artist', 'Explicit', 'Length', 'Scale', 'Key', 'BPM',\n       'Danceability', 'Positiveness', 'Liveness', 'Energy', 'speechness',\n       'KeyScaled', 'Lyrics', 'Not_Formatted_Lyrics', 'Lem_Lyrics',\n       'Lyrics_Length', 'Longest_Line', 'Length_Words_Ratio'],\n      dtype='object')"
     },
     "execution_count": 98,
     "metadata": {},
     "output_type": "execute_result"
    }
   ],
   "source": [
    "df.columns"
   ]
  },
  {
   "cell_type": "code",
   "execution_count": 99,
   "metadata": {
    "pycharm": {
     "name": "#%%\n"
    }
   },
   "outputs": [],
   "source": [
    "df.drop(['Lyrics','Title','Artist','KeyScaled','Not_Formatted_Lyrics'],axis=1,inplace=True)"
   ]
  },
  {
   "cell_type": "code",
   "execution_count": 100,
   "metadata": {
    "pycharm": {
     "name": "#%%\n"
    }
   },
   "outputs": [
    {
     "data": {
      "text/plain": "  Genre  Explicit  Length Scale    Key  BPM  Danceability  Positiveness  \\\n0  rock     False    5.02     D  Major  106            25            11   \n1  rock     False    4.08    F#  Minor   86            32            18   \n2  rock     False    5.00     A  Major  182            38            51   \n3  rock     False    4.15     A  Major  188            31            76   \n4  rock     False    4.24     G  Minor  170            35            24   \n\n   Liveness  Energy  speechness  \\\n0        13      97           7   \n1        10      28           3   \n2        24      95           4   \n3         8      70           5   \n4        12      88           4   \n\n                                          Lem_Lyrics  Lyrics_Length  \\\n0  awaken rebellion wake change course law follow...            173   \n1  hello darkness old friend I talk vision softly...            218   \n2  incite riot put trance rotate frame world rely...            154   \n3  back black I hit sack I long I glad back yes I...            307   \n4  mock slaughter pure kind blind noise maze flas...             95   \n\n   Longest_Line  Length_Words_Ratio  \n0            47           34.462151  \n1            97           53.431373  \n2            48           30.800000  \n3            55           73.975904  \n4            53           22.405660  ",
      "text/html": "<div>\n<style scoped>\n    .dataframe tbody tr th:only-of-type {\n        vertical-align: middle;\n    }\n\n    .dataframe tbody tr th {\n        vertical-align: top;\n    }\n\n    .dataframe thead th {\n        text-align: right;\n    }\n</style>\n<table border=\"1\" class=\"dataframe\">\n  <thead>\n    <tr style=\"text-align: right;\">\n      <th></th>\n      <th>Genre</th>\n      <th>Explicit</th>\n      <th>Length</th>\n      <th>Scale</th>\n      <th>Key</th>\n      <th>BPM</th>\n      <th>Danceability</th>\n      <th>Positiveness</th>\n      <th>Liveness</th>\n      <th>Energy</th>\n      <th>speechness</th>\n      <th>Lem_Lyrics</th>\n      <th>Lyrics_Length</th>\n      <th>Longest_Line</th>\n      <th>Length_Words_Ratio</th>\n    </tr>\n  </thead>\n  <tbody>\n    <tr>\n      <th>0</th>\n      <td>rock</td>\n      <td>False</td>\n      <td>5.02</td>\n      <td>D</td>\n      <td>Major</td>\n      <td>106</td>\n      <td>25</td>\n      <td>11</td>\n      <td>13</td>\n      <td>97</td>\n      <td>7</td>\n      <td>awaken rebellion wake change course law follow...</td>\n      <td>173</td>\n      <td>47</td>\n      <td>34.462151</td>\n    </tr>\n    <tr>\n      <th>1</th>\n      <td>rock</td>\n      <td>False</td>\n      <td>4.08</td>\n      <td>F#</td>\n      <td>Minor</td>\n      <td>86</td>\n      <td>32</td>\n      <td>18</td>\n      <td>10</td>\n      <td>28</td>\n      <td>3</td>\n      <td>hello darkness old friend I talk vision softly...</td>\n      <td>218</td>\n      <td>97</td>\n      <td>53.431373</td>\n    </tr>\n    <tr>\n      <th>2</th>\n      <td>rock</td>\n      <td>False</td>\n      <td>5.00</td>\n      <td>A</td>\n      <td>Major</td>\n      <td>182</td>\n      <td>38</td>\n      <td>51</td>\n      <td>24</td>\n      <td>95</td>\n      <td>4</td>\n      <td>incite riot put trance rotate frame world rely...</td>\n      <td>154</td>\n      <td>48</td>\n      <td>30.800000</td>\n    </tr>\n    <tr>\n      <th>3</th>\n      <td>rock</td>\n      <td>False</td>\n      <td>4.15</td>\n      <td>A</td>\n      <td>Major</td>\n      <td>188</td>\n      <td>31</td>\n      <td>76</td>\n      <td>8</td>\n      <td>70</td>\n      <td>5</td>\n      <td>back black I hit sack I long I glad back yes I...</td>\n      <td>307</td>\n      <td>55</td>\n      <td>73.975904</td>\n    </tr>\n    <tr>\n      <th>4</th>\n      <td>rock</td>\n      <td>False</td>\n      <td>4.24</td>\n      <td>G</td>\n      <td>Minor</td>\n      <td>170</td>\n      <td>35</td>\n      <td>24</td>\n      <td>12</td>\n      <td>88</td>\n      <td>4</td>\n      <td>mock slaughter pure kind blind noise maze flas...</td>\n      <td>95</td>\n      <td>53</td>\n      <td>22.405660</td>\n    </tr>\n  </tbody>\n</table>\n</div>"
     },
     "execution_count": 100,
     "metadata": {},
     "output_type": "execute_result"
    }
   ],
   "source": [
    "df.head()"
   ]
  },
  {
   "cell_type": "code",
   "execution_count": 101,
   "metadata": {
    "pycharm": {
     "name": "#%%\n"
    }
   },
   "outputs": [],
   "source": [
    "df[\"Major\"] = df[\"Key\"]\n",
    "df[\"Major\"] = df[\"Major\"].apply(lambda x: 0 if x == \"Minor\" else 1)\n",
    "df.drop(columns=['Key'],inplace=True)"
   ]
  },
  {
   "cell_type": "code",
   "execution_count": 102,
   "metadata": {
    "pycharm": {
     "name": "#%%\n"
    }
   },
   "outputs": [],
   "source": [
    "res = pd.get_dummies(df[\"Scale\"])\n",
    "df.drop(columns=['Scale'],inplace=True)\n",
    "df = pd.concat([df, res], axis=1)\n",
    "df.dropna(subset=['Lem_Lyrics'],inplace=True)"
   ]
  },
  {
   "cell_type": "code",
   "execution_count": 103,
   "outputs": [],
   "source": [
    "#ignore the stopword, ignore words that haven't appeared with 10% of the song\n",
    "vectorizer=CountVectorizer(stop_words='english',min_df=0.1)\n",
    "lyrics_features=vectorizer.fit_transform(df.pop(\"Lem_Lyrics\"))"
   ],
   "metadata": {
    "collapsed": false,
    "pycharm": {
     "name": "#%%\n"
    }
   }
  },
  {
   "cell_type": "code",
   "execution_count": 109,
   "outputs": [
    {
     "data": {
      "text/plain": "        Genre Explicit  Length    BPM  Danceability  Positiveness  Liveness  \\\n0        rock    False    5.02  106.0          25.0          11.0      13.0   \n1        rock    False    4.08   86.0          32.0          18.0      10.0   \n2        rock    False    5.00  182.0          38.0          51.0      24.0   \n3        rock    False    4.15  188.0          31.0          76.0       8.0   \n4        rock    False    4.24  170.0          35.0          24.0      12.0   \n...       ...      ...     ...    ...           ...           ...       ...   \n11394  hiphop     True    3.44   77.0          71.0          90.0      11.0   \n11395  hiphop    False    5.24   75.0          82.0          78.0       4.0   \n11398  hiphop     True    4.14   92.0          75.0          69.0      35.0   \n11401  hiphop    False    3.54   89.0          73.0          58.0      28.0   \n11402  hiphop     True    5.21  102.0          80.0          61.0      13.0   \n\n       Energy  speechness  Lyrics_Length  ...   61   62   63   64   65   66  \\\n0        97.0         7.0          173.0  ...  0.0  0.0  0.0  0.0  0.0  0.0   \n1        28.0         3.0          218.0  ...  2.0  0.0  1.0  0.0  1.0  0.0   \n2        95.0         4.0          154.0  ...  0.0  0.0  0.0  0.0  0.0  0.0   \n3        70.0         5.0          307.0  ...  0.0  1.0  0.0  0.0  0.0  0.0   \n4        88.0         4.0           95.0  ...  0.0  0.0  0.0  0.0  0.0  0.0   \n...       ...         ...            ...  ...  ...  ...  ...  ...  ...  ...   \n11394    65.0        25.0          517.0  ...  0.0  0.0  0.0  0.0  0.0  0.0   \n11395    50.0        23.0          603.0  ...  0.0  0.0  0.0  0.0  0.0  0.0   \n11398    79.0        33.0          767.0  ...  0.0  0.0  0.0  0.0  0.0  0.0   \n11401    57.0        45.0          743.0  ...  0.0  0.0  0.0  0.0  0.0  0.0   \n11402    87.0        14.0          914.0  ...  0.0  0.0  0.0  0.0  0.0  0.0   \n\n        67   68   69   70  \n0      0.0  0.0  0.0  0.0  \n1      0.0  4.0  0.0  0.0  \n2      0.0  0.0  1.0  0.0  \n3      0.0  0.0  0.0  0.0  \n4      0.0  0.0  7.0  0.0  \n...    ...  ...  ...  ...  \n11394  0.0  0.0  0.0  0.0  \n11395  0.0  0.0  0.0  0.0  \n11398  0.0  0.0  0.0  0.0  \n11401  0.0  0.0  0.0  0.0  \n11402  0.0  0.0  0.0  0.0  \n\n[10277 rows x 238 columns]",
      "text/html": "<div>\n<style scoped>\n    .dataframe tbody tr th:only-of-type {\n        vertical-align: middle;\n    }\n\n    .dataframe tbody tr th {\n        vertical-align: top;\n    }\n\n    .dataframe thead th {\n        text-align: right;\n    }\n</style>\n<table border=\"1\" class=\"dataframe\">\n  <thead>\n    <tr style=\"text-align: right;\">\n      <th></th>\n      <th>Genre</th>\n      <th>Explicit</th>\n      <th>Length</th>\n      <th>BPM</th>\n      <th>Danceability</th>\n      <th>Positiveness</th>\n      <th>Liveness</th>\n      <th>Energy</th>\n      <th>speechness</th>\n      <th>Lyrics_Length</th>\n      <th>...</th>\n      <th>61</th>\n      <th>62</th>\n      <th>63</th>\n      <th>64</th>\n      <th>65</th>\n      <th>66</th>\n      <th>67</th>\n      <th>68</th>\n      <th>69</th>\n      <th>70</th>\n    </tr>\n  </thead>\n  <tbody>\n    <tr>\n      <th>0</th>\n      <td>rock</td>\n      <td>False</td>\n      <td>5.02</td>\n      <td>106.0</td>\n      <td>25.0</td>\n      <td>11.0</td>\n      <td>13.0</td>\n      <td>97.0</td>\n      <td>7.0</td>\n      <td>173.0</td>\n      <td>...</td>\n      <td>0.0</td>\n      <td>0.0</td>\n      <td>0.0</td>\n      <td>0.0</td>\n      <td>0.0</td>\n      <td>0.0</td>\n      <td>0.0</td>\n      <td>0.0</td>\n      <td>0.0</td>\n      <td>0.0</td>\n    </tr>\n    <tr>\n      <th>1</th>\n      <td>rock</td>\n      <td>False</td>\n      <td>4.08</td>\n      <td>86.0</td>\n      <td>32.0</td>\n      <td>18.0</td>\n      <td>10.0</td>\n      <td>28.0</td>\n      <td>3.0</td>\n      <td>218.0</td>\n      <td>...</td>\n      <td>2.0</td>\n      <td>0.0</td>\n      <td>1.0</td>\n      <td>0.0</td>\n      <td>1.0</td>\n      <td>0.0</td>\n      <td>0.0</td>\n      <td>4.0</td>\n      <td>0.0</td>\n      <td>0.0</td>\n    </tr>\n    <tr>\n      <th>2</th>\n      <td>rock</td>\n      <td>False</td>\n      <td>5.00</td>\n      <td>182.0</td>\n      <td>38.0</td>\n      <td>51.0</td>\n      <td>24.0</td>\n      <td>95.0</td>\n      <td>4.0</td>\n      <td>154.0</td>\n      <td>...</td>\n      <td>0.0</td>\n      <td>0.0</td>\n      <td>0.0</td>\n      <td>0.0</td>\n      <td>0.0</td>\n      <td>0.0</td>\n      <td>0.0</td>\n      <td>0.0</td>\n      <td>1.0</td>\n      <td>0.0</td>\n    </tr>\n    <tr>\n      <th>3</th>\n      <td>rock</td>\n      <td>False</td>\n      <td>4.15</td>\n      <td>188.0</td>\n      <td>31.0</td>\n      <td>76.0</td>\n      <td>8.0</td>\n      <td>70.0</td>\n      <td>5.0</td>\n      <td>307.0</td>\n      <td>...</td>\n      <td>0.0</td>\n      <td>1.0</td>\n      <td>0.0</td>\n      <td>0.0</td>\n      <td>0.0</td>\n      <td>0.0</td>\n      <td>0.0</td>\n      <td>0.0</td>\n      <td>0.0</td>\n      <td>0.0</td>\n    </tr>\n    <tr>\n      <th>4</th>\n      <td>rock</td>\n      <td>False</td>\n      <td>4.24</td>\n      <td>170.0</td>\n      <td>35.0</td>\n      <td>24.0</td>\n      <td>12.0</td>\n      <td>88.0</td>\n      <td>4.0</td>\n      <td>95.0</td>\n      <td>...</td>\n      <td>0.0</td>\n      <td>0.0</td>\n      <td>0.0</td>\n      <td>0.0</td>\n      <td>0.0</td>\n      <td>0.0</td>\n      <td>0.0</td>\n      <td>0.0</td>\n      <td>7.0</td>\n      <td>0.0</td>\n    </tr>\n    <tr>\n      <th>...</th>\n      <td>...</td>\n      <td>...</td>\n      <td>...</td>\n      <td>...</td>\n      <td>...</td>\n      <td>...</td>\n      <td>...</td>\n      <td>...</td>\n      <td>...</td>\n      <td>...</td>\n      <td>...</td>\n      <td>...</td>\n      <td>...</td>\n      <td>...</td>\n      <td>...</td>\n      <td>...</td>\n      <td>...</td>\n      <td>...</td>\n      <td>...</td>\n      <td>...</td>\n      <td>...</td>\n    </tr>\n    <tr>\n      <th>11394</th>\n      <td>hiphop</td>\n      <td>True</td>\n      <td>3.44</td>\n      <td>77.0</td>\n      <td>71.0</td>\n      <td>90.0</td>\n      <td>11.0</td>\n      <td>65.0</td>\n      <td>25.0</td>\n      <td>517.0</td>\n      <td>...</td>\n      <td>0.0</td>\n      <td>0.0</td>\n      <td>0.0</td>\n      <td>0.0</td>\n      <td>0.0</td>\n      <td>0.0</td>\n      <td>0.0</td>\n      <td>0.0</td>\n      <td>0.0</td>\n      <td>0.0</td>\n    </tr>\n    <tr>\n      <th>11395</th>\n      <td>hiphop</td>\n      <td>False</td>\n      <td>5.24</td>\n      <td>75.0</td>\n      <td>82.0</td>\n      <td>78.0</td>\n      <td>4.0</td>\n      <td>50.0</td>\n      <td>23.0</td>\n      <td>603.0</td>\n      <td>...</td>\n      <td>0.0</td>\n      <td>0.0</td>\n      <td>0.0</td>\n      <td>0.0</td>\n      <td>0.0</td>\n      <td>0.0</td>\n      <td>0.0</td>\n      <td>0.0</td>\n      <td>0.0</td>\n      <td>0.0</td>\n    </tr>\n    <tr>\n      <th>11398</th>\n      <td>hiphop</td>\n      <td>True</td>\n      <td>4.14</td>\n      <td>92.0</td>\n      <td>75.0</td>\n      <td>69.0</td>\n      <td>35.0</td>\n      <td>79.0</td>\n      <td>33.0</td>\n      <td>767.0</td>\n      <td>...</td>\n      <td>0.0</td>\n      <td>0.0</td>\n      <td>0.0</td>\n      <td>0.0</td>\n      <td>0.0</td>\n      <td>0.0</td>\n      <td>0.0</td>\n      <td>0.0</td>\n      <td>0.0</td>\n      <td>0.0</td>\n    </tr>\n    <tr>\n      <th>11401</th>\n      <td>hiphop</td>\n      <td>False</td>\n      <td>3.54</td>\n      <td>89.0</td>\n      <td>73.0</td>\n      <td>58.0</td>\n      <td>28.0</td>\n      <td>57.0</td>\n      <td>45.0</td>\n      <td>743.0</td>\n      <td>...</td>\n      <td>0.0</td>\n      <td>0.0</td>\n      <td>0.0</td>\n      <td>0.0</td>\n      <td>0.0</td>\n      <td>0.0</td>\n      <td>0.0</td>\n      <td>0.0</td>\n      <td>0.0</td>\n      <td>0.0</td>\n    </tr>\n    <tr>\n      <th>11402</th>\n      <td>hiphop</td>\n      <td>True</td>\n      <td>5.21</td>\n      <td>102.0</td>\n      <td>80.0</td>\n      <td>61.0</td>\n      <td>13.0</td>\n      <td>87.0</td>\n      <td>14.0</td>\n      <td>914.0</td>\n      <td>...</td>\n      <td>0.0</td>\n      <td>0.0</td>\n      <td>0.0</td>\n      <td>0.0</td>\n      <td>0.0</td>\n      <td>0.0</td>\n      <td>0.0</td>\n      <td>0.0</td>\n      <td>0.0</td>\n      <td>0.0</td>\n    </tr>\n  </tbody>\n</table>\n<p>10277 rows × 238 columns</p>\n</div>"
     },
     "execution_count": 109,
     "metadata": {},
     "output_type": "execute_result"
    }
   ],
   "source": [
    "#convertis the sparse matrix to pandas dataframe\n",
    "sparse=pd.DataFrame.sparse.from_spmatrix(lyrics_features)\n",
    "df = pd.concat([df, sparse], axis=1)\n",
    "df.fillna(0)"
   ],
   "metadata": {
    "collapsed": false,
    "pycharm": {
     "name": "#%%\n"
    }
   }
  },
  {
   "cell_type": "code",
   "execution_count": 110,
   "metadata": {},
   "outputs": [],
   "source": [
    "y=df[\"Genre\"]\n",
    "X=df.drop(columns=[\"Genre\"],axis=1)\n",
    "X_train,X_test,y_train,y_test=train_test_split(X,y,test_size=0.2,random_state=1)\n"
   ]
  },
  {
   "cell_type": "code",
   "execution_count": 111,
   "metadata": {
    "pycharm": {
     "name": "#%%\n"
    }
   },
   "outputs": [
    {
     "name": "stderr",
     "output_type": "stream",
     "text": [
      "d:\\idan\\python\\genre_prediction_data_science\\venv\\lib\\site-packages\\sklearn\\utils\\validation.py:515: UserWarning: pandas.DataFrame with sparse columns found.It will be converted to a dense numpy array.\n",
      "  warnings.warn(\n"
     ]
    },
    {
     "ename": "ValueError",
     "evalue": "Input contains NaN, infinity or a value too large for dtype('float64').",
     "output_type": "error",
     "traceback": [
      "\u001B[1;31m---------------------------------------------------------------------------\u001B[0m",
      "\u001B[1;31mValueError\u001B[0m                                Traceback (most recent call last)",
      "\u001B[1;32m<ipython-input-111-02f705dffe5f>\u001B[0m in \u001B[0;36m<module>\u001B[1;34m\u001B[0m\n\u001B[1;32m----> 1\u001B[1;33m \u001B[0mtext_mnb\u001B[0m\u001B[1;33m=\u001B[0m\u001B[0mSVC\u001B[0m\u001B[1;33m(\u001B[0m\u001B[1;33m)\u001B[0m\u001B[1;33m.\u001B[0m\u001B[0mfit\u001B[0m\u001B[1;33m(\u001B[0m\u001B[0mX_train\u001B[0m\u001B[1;33m,\u001B[0m\u001B[0my_train\u001B[0m\u001B[1;33m)\u001B[0m\u001B[1;33m\u001B[0m\u001B[1;33m\u001B[0m\u001B[0m\n\u001B[0m\u001B[0;32m      2\u001B[0m \u001B[1;33m\u001B[0m\u001B[0m\n",
      "\u001B[1;32md:\\idan\\python\\genre_prediction_data_science\\venv\\lib\\site-packages\\sklearn\\svm\\_base.py\u001B[0m in \u001B[0;36mfit\u001B[1;34m(self, X, y, sample_weight)\u001B[0m\n\u001B[0;32m    167\u001B[0m             \u001B[0mcheck_consistent_length\u001B[0m\u001B[1;33m(\u001B[0m\u001B[0mX\u001B[0m\u001B[1;33m,\u001B[0m \u001B[0my\u001B[0m\u001B[1;33m)\u001B[0m\u001B[1;33m\u001B[0m\u001B[1;33m\u001B[0m\u001B[0m\n\u001B[0;32m    168\u001B[0m         \u001B[1;32melse\u001B[0m\u001B[1;33m:\u001B[0m\u001B[1;33m\u001B[0m\u001B[1;33m\u001B[0m\u001B[0m\n\u001B[1;32m--> 169\u001B[1;33m             X, y = self._validate_data(X, y, dtype=np.float64,\n\u001B[0m\u001B[0;32m    170\u001B[0m                                        \u001B[0morder\u001B[0m\u001B[1;33m=\u001B[0m\u001B[1;34m'C'\u001B[0m\u001B[1;33m,\u001B[0m \u001B[0maccept_sparse\u001B[0m\u001B[1;33m=\u001B[0m\u001B[1;34m'csr'\u001B[0m\u001B[1;33m,\u001B[0m\u001B[1;33m\u001B[0m\u001B[1;33m\u001B[0m\u001B[0m\n\u001B[0;32m    171\u001B[0m                                        accept_large_sparse=False)\n",
      "\u001B[1;32md:\\idan\\python\\genre_prediction_data_science\\venv\\lib\\site-packages\\sklearn\\base.py\u001B[0m in \u001B[0;36m_validate_data\u001B[1;34m(self, X, y, reset, validate_separately, **check_params)\u001B[0m\n\u001B[0;32m    431\u001B[0m                 \u001B[0my\u001B[0m \u001B[1;33m=\u001B[0m \u001B[0mcheck_array\u001B[0m\u001B[1;33m(\u001B[0m\u001B[0my\u001B[0m\u001B[1;33m,\u001B[0m \u001B[1;33m**\u001B[0m\u001B[0mcheck_y_params\u001B[0m\u001B[1;33m)\u001B[0m\u001B[1;33m\u001B[0m\u001B[1;33m\u001B[0m\u001B[0m\n\u001B[0;32m    432\u001B[0m             \u001B[1;32melse\u001B[0m\u001B[1;33m:\u001B[0m\u001B[1;33m\u001B[0m\u001B[1;33m\u001B[0m\u001B[0m\n\u001B[1;32m--> 433\u001B[1;33m                 \u001B[0mX\u001B[0m\u001B[1;33m,\u001B[0m \u001B[0my\u001B[0m \u001B[1;33m=\u001B[0m \u001B[0mcheck_X_y\u001B[0m\u001B[1;33m(\u001B[0m\u001B[0mX\u001B[0m\u001B[1;33m,\u001B[0m \u001B[0my\u001B[0m\u001B[1;33m,\u001B[0m \u001B[1;33m**\u001B[0m\u001B[0mcheck_params\u001B[0m\u001B[1;33m)\u001B[0m\u001B[1;33m\u001B[0m\u001B[1;33m\u001B[0m\u001B[0m\n\u001B[0m\u001B[0;32m    434\u001B[0m             \u001B[0mout\u001B[0m \u001B[1;33m=\u001B[0m \u001B[0mX\u001B[0m\u001B[1;33m,\u001B[0m \u001B[0my\u001B[0m\u001B[1;33m\u001B[0m\u001B[1;33m\u001B[0m\u001B[0m\n\u001B[0;32m    435\u001B[0m \u001B[1;33m\u001B[0m\u001B[0m\n",
      "\u001B[1;32md:\\idan\\python\\genre_prediction_data_science\\venv\\lib\\site-packages\\sklearn\\utils\\validation.py\u001B[0m in \u001B[0;36minner_f\u001B[1;34m(*args, **kwargs)\u001B[0m\n\u001B[0;32m     61\u001B[0m             \u001B[0mextra_args\u001B[0m \u001B[1;33m=\u001B[0m \u001B[0mlen\u001B[0m\u001B[1;33m(\u001B[0m\u001B[0margs\u001B[0m\u001B[1;33m)\u001B[0m \u001B[1;33m-\u001B[0m \u001B[0mlen\u001B[0m\u001B[1;33m(\u001B[0m\u001B[0mall_args\u001B[0m\u001B[1;33m)\u001B[0m\u001B[1;33m\u001B[0m\u001B[1;33m\u001B[0m\u001B[0m\n\u001B[0;32m     62\u001B[0m             \u001B[1;32mif\u001B[0m \u001B[0mextra_args\u001B[0m \u001B[1;33m<=\u001B[0m \u001B[1;36m0\u001B[0m\u001B[1;33m:\u001B[0m\u001B[1;33m\u001B[0m\u001B[1;33m\u001B[0m\u001B[0m\n\u001B[1;32m---> 63\u001B[1;33m                 \u001B[1;32mreturn\u001B[0m \u001B[0mf\u001B[0m\u001B[1;33m(\u001B[0m\u001B[1;33m*\u001B[0m\u001B[0margs\u001B[0m\u001B[1;33m,\u001B[0m \u001B[1;33m**\u001B[0m\u001B[0mkwargs\u001B[0m\u001B[1;33m)\u001B[0m\u001B[1;33m\u001B[0m\u001B[1;33m\u001B[0m\u001B[0m\n\u001B[0m\u001B[0;32m     64\u001B[0m \u001B[1;33m\u001B[0m\u001B[0m\n\u001B[0;32m     65\u001B[0m             \u001B[1;31m# extra_args > 0\u001B[0m\u001B[1;33m\u001B[0m\u001B[1;33m\u001B[0m\u001B[1;33m\u001B[0m\u001B[0m\n",
      "\u001B[1;32md:\\idan\\python\\genre_prediction_data_science\\venv\\lib\\site-packages\\sklearn\\utils\\validation.py\u001B[0m in \u001B[0;36mcheck_X_y\u001B[1;34m(X, y, accept_sparse, accept_large_sparse, dtype, order, copy, force_all_finite, ensure_2d, allow_nd, multi_output, ensure_min_samples, ensure_min_features, y_numeric, estimator)\u001B[0m\n\u001B[0;32m    812\u001B[0m         \u001B[1;32mraise\u001B[0m \u001B[0mValueError\u001B[0m\u001B[1;33m(\u001B[0m\u001B[1;34m\"y cannot be None\"\u001B[0m\u001B[1;33m)\u001B[0m\u001B[1;33m\u001B[0m\u001B[1;33m\u001B[0m\u001B[0m\n\u001B[0;32m    813\u001B[0m \u001B[1;33m\u001B[0m\u001B[0m\n\u001B[1;32m--> 814\u001B[1;33m     X = check_array(X, accept_sparse=accept_sparse,\n\u001B[0m\u001B[0;32m    815\u001B[0m                     \u001B[0maccept_large_sparse\u001B[0m\u001B[1;33m=\u001B[0m\u001B[0maccept_large_sparse\u001B[0m\u001B[1;33m,\u001B[0m\u001B[1;33m\u001B[0m\u001B[1;33m\u001B[0m\u001B[0m\n\u001B[0;32m    816\u001B[0m                     \u001B[0mdtype\u001B[0m\u001B[1;33m=\u001B[0m\u001B[0mdtype\u001B[0m\u001B[1;33m,\u001B[0m \u001B[0morder\u001B[0m\u001B[1;33m=\u001B[0m\u001B[0morder\u001B[0m\u001B[1;33m,\u001B[0m \u001B[0mcopy\u001B[0m\u001B[1;33m=\u001B[0m\u001B[0mcopy\u001B[0m\u001B[1;33m,\u001B[0m\u001B[1;33m\u001B[0m\u001B[1;33m\u001B[0m\u001B[0m\n",
      "\u001B[1;32md:\\idan\\python\\genre_prediction_data_science\\venv\\lib\\site-packages\\sklearn\\utils\\validation.py\u001B[0m in \u001B[0;36minner_f\u001B[1;34m(*args, **kwargs)\u001B[0m\n\u001B[0;32m     61\u001B[0m             \u001B[0mextra_args\u001B[0m \u001B[1;33m=\u001B[0m \u001B[0mlen\u001B[0m\u001B[1;33m(\u001B[0m\u001B[0margs\u001B[0m\u001B[1;33m)\u001B[0m \u001B[1;33m-\u001B[0m \u001B[0mlen\u001B[0m\u001B[1;33m(\u001B[0m\u001B[0mall_args\u001B[0m\u001B[1;33m)\u001B[0m\u001B[1;33m\u001B[0m\u001B[1;33m\u001B[0m\u001B[0m\n\u001B[0;32m     62\u001B[0m             \u001B[1;32mif\u001B[0m \u001B[0mextra_args\u001B[0m \u001B[1;33m<=\u001B[0m \u001B[1;36m0\u001B[0m\u001B[1;33m:\u001B[0m\u001B[1;33m\u001B[0m\u001B[1;33m\u001B[0m\u001B[0m\n\u001B[1;32m---> 63\u001B[1;33m                 \u001B[1;32mreturn\u001B[0m \u001B[0mf\u001B[0m\u001B[1;33m(\u001B[0m\u001B[1;33m*\u001B[0m\u001B[0margs\u001B[0m\u001B[1;33m,\u001B[0m \u001B[1;33m**\u001B[0m\u001B[0mkwargs\u001B[0m\u001B[1;33m)\u001B[0m\u001B[1;33m\u001B[0m\u001B[1;33m\u001B[0m\u001B[0m\n\u001B[0m\u001B[0;32m     64\u001B[0m \u001B[1;33m\u001B[0m\u001B[0m\n\u001B[0;32m     65\u001B[0m             \u001B[1;31m# extra_args > 0\u001B[0m\u001B[1;33m\u001B[0m\u001B[1;33m\u001B[0m\u001B[1;33m\u001B[0m\u001B[0m\n",
      "\u001B[1;32md:\\idan\\python\\genre_prediction_data_science\\venv\\lib\\site-packages\\sklearn\\utils\\validation.py\u001B[0m in \u001B[0;36mcheck_array\u001B[1;34m(array, accept_sparse, accept_large_sparse, dtype, order, copy, force_all_finite, ensure_2d, allow_nd, ensure_min_samples, ensure_min_features, estimator)\u001B[0m\n\u001B[0;32m    661\u001B[0m \u001B[1;33m\u001B[0m\u001B[0m\n\u001B[0;32m    662\u001B[0m         \u001B[1;32mif\u001B[0m \u001B[0mforce_all_finite\u001B[0m\u001B[1;33m:\u001B[0m\u001B[1;33m\u001B[0m\u001B[1;33m\u001B[0m\u001B[0m\n\u001B[1;32m--> 663\u001B[1;33m             _assert_all_finite(array,\n\u001B[0m\u001B[0;32m    664\u001B[0m                                allow_nan=force_all_finite == 'allow-nan')\n\u001B[0;32m    665\u001B[0m \u001B[1;33m\u001B[0m\u001B[0m\n",
      "\u001B[1;32md:\\idan\\python\\genre_prediction_data_science\\venv\\lib\\site-packages\\sklearn\\utils\\validation.py\u001B[0m in \u001B[0;36m_assert_all_finite\u001B[1;34m(X, allow_nan, msg_dtype)\u001B[0m\n\u001B[0;32m    101\u001B[0m                 not allow_nan and not np.isfinite(X).all()):\n\u001B[0;32m    102\u001B[0m             \u001B[0mtype_err\u001B[0m \u001B[1;33m=\u001B[0m \u001B[1;34m'infinity'\u001B[0m \u001B[1;32mif\u001B[0m \u001B[0mallow_nan\u001B[0m \u001B[1;32melse\u001B[0m \u001B[1;34m'NaN, infinity'\u001B[0m\u001B[1;33m\u001B[0m\u001B[1;33m\u001B[0m\u001B[0m\n\u001B[1;32m--> 103\u001B[1;33m             raise ValueError(\n\u001B[0m\u001B[0;32m    104\u001B[0m                     \u001B[0mmsg_err\u001B[0m\u001B[1;33m.\u001B[0m\u001B[0mformat\u001B[0m\u001B[1;33m\u001B[0m\u001B[1;33m\u001B[0m\u001B[0m\n\u001B[0;32m    105\u001B[0m                     (type_err,\n",
      "\u001B[1;31mValueError\u001B[0m: Input contains NaN, infinity or a value too large for dtype('float64')."
     ]
    }
   ],
   "source": [
    "text_mnb=SVC().fit(X_train,y_train)"
   ]
  },
  {
   "cell_type": "code",
   "execution_count": 112,
   "metadata": {
    "pycharm": {
     "name": "#%%\n"
    }
   },
   "outputs": [
    {
     "ename": "NameError",
     "evalue": "name 'text_mnb' is not defined",
     "output_type": "error",
     "traceback": [
      "\u001B[1;31m---------------------------------------------------------------------------\u001B[0m",
      "\u001B[1;31mNameError\u001B[0m                                 Traceback (most recent call last)",
      "\u001B[1;32m<ipython-input-112-213df6a56ab6>\u001B[0m in \u001B[0;36m<module>\u001B[1;34m\u001B[0m\n\u001B[1;32m----> 1\u001B[1;33m \u001B[0mba\u001B[0m\u001B[1;33m=\u001B[0m\u001B[0mtext_mnb\u001B[0m\u001B[1;33m.\u001B[0m\u001B[0mpredict\u001B[0m\u001B[1;33m(\u001B[0m\u001B[0mX_test\u001B[0m\u001B[1;33m)\u001B[0m\u001B[1;33m\u001B[0m\u001B[1;33m\u001B[0m\u001B[0m\n\u001B[0m\u001B[0;32m      2\u001B[0m \u001B[0mprint\u001B[0m\u001B[1;33m(\u001B[0m\u001B[0maccuracy_score\u001B[0m\u001B[1;33m(\u001B[0m\u001B[0my_true\u001B[0m\u001B[1;33m=\u001B[0m\u001B[0my_test\u001B[0m\u001B[1;33m,\u001B[0m\u001B[0my_pred\u001B[0m\u001B[1;33m=\u001B[0m\u001B[0mba\u001B[0m\u001B[1;33m)\u001B[0m\u001B[1;33m)\u001B[0m\u001B[1;33m\u001B[0m\u001B[1;33m\u001B[0m\u001B[0m\n\u001B[0;32m      3\u001B[0m \u001B[1;33m\u001B[0m\u001B[0m\n",
      "\u001B[1;31mNameError\u001B[0m: name 'text_mnb' is not defined"
     ]
    }
   ],
   "source": [
    "ba=text_mnb.predict(X_test)\n",
    "print(accuracy_score(y_true=y_test,y_pred=ba))"
   ]
  },
  {
   "cell_type": "code",
   "execution_count": 11,
   "metadata": {
    "pycharm": {
     "name": "#%%\n"
    }
   },
   "outputs": [],
   "source": []
  }
 ],
 "metadata": {
  "kernelspec": {
   "display_name": "Python 3",
   "language": "python",
   "name": "python3"
  },
  "language_info": {
   "codemirror_mode": {
    "name": "ipython",
    "version": 3
   },
   "file_extension": ".py",
   "mimetype": "text/x-python",
   "name": "python",
   "nbconvert_exporter": "python",
   "pygments_lexer": "ipython3",
   "version": "3.9.0"
  }
 },
 "nbformat": 4,
 "nbformat_minor": 1
}